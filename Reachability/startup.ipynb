{
 "cells": [
  {
   "cell_type": "code",
   "execution_count": 19,
   "id": "eb0391d3",
   "metadata": {
    "ExecuteTime": {
     "end_time": "2023-02-03T10:08:41.487000+01:00",
     "start_time": "2023-02-03T08:49:35.112Z"
    }
   },
   "outputs": [
    {
     "name": "stderr",
     "output_type": "stream",
     "text": [
      "\u001b[32m\u001b[1m  Activating\u001b[22m\u001b[39m project at `~/Desktop/Ecole Polytechnique/Semester 4/PRL_MAX/Reachability-Problem-of-ODE/Reachability`\n"
     ]
    },
    {
     "name": "stdout",
     "output_type": "stream",
     "text": [
      "Running evaluation...\n",
      ">>> Running Quadratic model\n"
     ]
    },
    {
     "name": "stdout",
     "output_type": "stream",
     "text": [
      "  0.136482 seconds (99.30 k allocations: 5.631 MiB, 98.73% compilation time)\n",
      "  0.013992 seconds (148.34 k allocations: 11.598 MiB)\n",
      "  0.001402 seconds (15.14 k allocations: 1.209 MiB)\n",
      "  0.017340 seconds (148.34 k allocations: 11.598 MiB)\n",
      "  0.006010 seconds (16.31 k allocations: 2.422 MiB)\n",
      "  0.022894 seconds (154.92 k allocations: 18.600 MiB)\n"
     ]
    },
    {
     "name": "stdout",
     "output_type": "stream",
     "text": [
      "  0.247872 seconds (277.57 k allocations: 19.634 MiB, 26.02% gc time, 66.16% compilation time)\n",
      "  0.045858 seconds (278.96 k allocations: 41.195 MiB)\n"
     ]
    },
    {
     "name": "stdout",
     "output_type": "stream",
     "text": [
      "  0.015184 seconds (77.91 k allocations: 9.582 MiB)\n",
      "  0.012707 seconds (77.92 k allocations: 9.650 MiB)\n",
      "  0.011498 seconds (77.92 k allocations: 9.650 MiB)\n",
      "  0.021560 seconds (136.96 k allocations: 12.402 MiB)\n",
      "  0.021370 seconds (77.91 k allocations: 9.582 MiB)\n",
      "  0.017784 seconds (136.96 k allocations: 12.402 MiB)\n"
     ]
    },
    {
     "name": "stdout",
     "output_type": "stream",
     "text": [
      "  0.011984 seconds (77.91 k allocations: 9.582 MiB)\n",
      "  0.015584 seconds (136.96 k allocations: 12.402 MiB)\n",
      "Finished running evaluation. Results stored in results\n"
     ]
    }
   ],
   "source": [
    "import Pkg\n",
    "Pkg.activate(@__DIR__)\n",
    "Pkg.instantiate()\n",
    "\n",
    "const TARGET_FOLDER = \"results\"\n",
    "const RESULTS_FILE = \"results.csv\"\n",
    "\n",
    "function main()\n",
    "    if !isdir(TARGET_FOLDER)\n",
    "        mkdir(TARGET_FOLDER)\n",
    "    end\n",
    "    global io = open(joinpath(TARGET_FOLDER, RESULTS_FILE), \"w\")\n",
    "\n",
    "    println(\"Running evaluation...\")\n",
    "    println(\">>> Running Quadratic model\")\n",
    "    include(\"evaluation/Quadra_exmaple/quadra_ODE.jl\")\n",
    "\n",
    "    println(\"Finished running evaluation. Results stored in $TARGET_FOLDER\")\n",
    "    close(io)\n",
    "    nothing\n",
    "end\n",
    "\n",
    "main()"
   ]
  }
 ],
 "metadata": {
  "kernelspec": {
   "display_name": "Julia 1.8.3",
   "language": "julia",
   "name": "julia-1.8"
  },
  "language_info": {
   "file_extension": ".jl",
   "mimetype": "application/julia",
   "name": "julia",
   "version": "1.8.3"
  },
  "toc": {
   "base_numbering": 1,
   "nav_menu": {},
   "number_sections": true,
   "sideBar": true,
   "skip_h1_title": false,
   "title_cell": "Table of Contents",
   "title_sidebar": "Contents",
   "toc_cell": false,
   "toc_position": {},
   "toc_section_display": true,
   "toc_window_display": false
  },
  "varInspector": {
   "cols": {
    "lenName": 16,
    "lenType": 16,
    "lenVar": 40
   },
   "kernels_config": {
    "python": {
     "delete_cmd_postfix": "",
     "delete_cmd_prefix": "del ",
     "library": "var_list.py",
     "varRefreshCmd": "print(var_dic_list())"
    },
    "r": {
     "delete_cmd_postfix": ") ",
     "delete_cmd_prefix": "rm(",
     "library": "var_list.r",
     "varRefreshCmd": "cat(var_dic_list()) "
    }
   },
   "types_to_exclude": [
    "module",
    "function",
    "builtin_function_or_method",
    "instance",
    "_Feature"
   ],
   "window_display": false
  }
 },
 "nbformat": 4,
 "nbformat_minor": 5
}
