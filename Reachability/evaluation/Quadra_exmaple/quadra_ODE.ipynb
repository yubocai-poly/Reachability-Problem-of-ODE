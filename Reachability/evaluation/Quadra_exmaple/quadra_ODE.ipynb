{
 "cells": [
  {
   "attachments": {},
   "cell_type": "markdown",
   "metadata": {},
   "source": [
    "## Emaple of Reachability Problem of Quadratizition of ODEs\n",
    "\n",
    "---\n",
    "\n",
    "### 1. First Example\n",
    "\n",
    "$$\n",
    "\\begin{cases}\n",
    "y' = -2y+2ay^{2}\\\\\n",
    "x' = -x+axy\n",
    "\\end{cases}\n",
    "$$\n",
    "where we have $y=x^2$"
   ]
  },
  {
   "cell_type": "code",
   "execution_count": null,
   "metadata": {},
   "outputs": [],
   "source": [
    "# =================\n",
    "# Dependencies\n",
    "# =================\n",
    "\n",
    "using CarlemanLinearization\n",
    "using CarlemanLinearization: kron_sum,\n",
    "    error_bound_pseries,\n",
    "    error_bound_specabs,\n",
    "    convergence_radius_specabs,\n",
    "    _error_bound_specabs_R,\n",
    "    build_matrix\n",
    "\n",
    "using ReachabilityAnalysis, CarlemanLinearization\n",
    "using Plots, LaTeXStrings, LinearAlgebra, SparseArrays\n",
    "using Plots.PlotMeasures\n",
    "\n",
    "using LazySets: center\n",
    "using CarlemanLinearization: _error_bound_specabs_R\n",
    "\n",
    "include(\"../utils.jl\")"
   ]
  },
  {
   "cell_type": "code",
   "execution_count": 12,
   "metadata": {},
   "outputs": [
    {
     "name": "stdout",
     "output_type": "stream",
     "text": [
      "dirs: CustomDirections{Float64, SingleEntryVector{Float64}}(SingleEntryVector{Float64}[[1.0, 0.0, 0.0, 0.0, 0.0, 0.0], [0.0, 1.0, 0.0, 0.0, 0.0, 0.0], [-1.0, 0.0, 0.0, 0.0, 0.0, 0.0], [0.0, -1.0, 0.0, 0.0, 0.0, 0.0]], 6, false, true) 10.536160 seconds (11.64 M allocations: 579.495 MiB, 19.02% gc time, 99.59% compilation time: 1% of which was recompilation)\n"
     ]
    },
    {
     "data": {
      "text/plain": [
       "Flowpipe{Float64, ReachSet{Float64, HPolyhedron{Float64, Vector{Float64}}}, Vector{ReachSet{Float64, HPolyhedron{Float64, Vector{Float64}}}}}(ReachSet{Float64, HPolyhedron{Float64, Vector{Float64}}}[ReachSet{Float64, HPolyhedron{Float64, Vector{Float64}}}(HPolyhedron{Float64, Vector{Float64}}(HalfSpace{Float64, Vector{Float64}}[HalfSpace{Float64, Vector{Float64}}([1.0, 0.0], 0.0), HalfSpace{Float64, Vector{Float64}}([0.0, 1.0], 0.0), HalfSpace{Float64, Vector{Float64}}([-1.0, 0.0], 0.0), HalfSpace{Float64, Vector{Float64}}([0.0, -1.0], 0.0)]), [0, 0.100001]), ReachSet{Float64, HPolyhedron{Float64, Vector{Float64}}}(HPolyhedron{Float64, Vector{Float64}}(HalfSpace{Float64, Vector{Float64}}[HalfSpace{Float64, Vector{Float64}}([1.0, 0.0], 0.0), HalfSpace{Float64, Vector{Float64}}([0.0, 1.0], 0.0), HalfSpace{Float64, Vector{Float64}}([-1.0, 0.0], 0.0), HalfSpace{Float64, Vector{Float64}}([0.0, -1.0], 0.0)]), [0.1, 0.200001]), ReachSet{Float64, HPolyhedron{Float64, Vector{Float64}}}(HPolyhedron{Float64, Vector{Float64}}(HalfSpace{Float64, Vector{Float64}}[HalfSpace{Float64, Vector{Float64}}([1.0, 0.0], 0.0), HalfSpace{Float64, Vector{Float64}}([0.0, 1.0], 0.0), HalfSpace{Float64, Vector{Float64}}([-1.0, 0.0], 0.0), HalfSpace{Float64, Vector{Float64}}([0.0, -1.0], 0.0)]), [0.2, 0.300001]), ReachSet{Float64, HPolyhedron{Float64, Vector{Float64}}}(HPolyhedron{Float64, Vector{Float64}}(HalfSpace{Float64, Vector{Float64}}[HalfSpace{Float64, Vector{Float64}}([1.0, 0.0], 0.0), HalfSpace{Float64, Vector{Float64}}([0.0, 1.0], 0.0), HalfSpace{Float64, Vector{Float64}}([-1.0, 0.0], 0.0), HalfSpace{Float64, Vector{Float64}}([0.0, -1.0], 0.0)]), [0.299999, 0.400001]), ReachSet{Float64, HPolyhedron{Float64, Vector{Float64}}}(HPolyhedron{Float64, Vector{Float64}}(HalfSpace{Float64, Vector{Float64}}[HalfSpace{Float64, Vector{Float64}}([1.0, 0.0], 0.0), HalfSpace{Float64, Vector{Float64}}([0.0, 1.0], 0.0), HalfSpace{Float64, Vector{Float64}}([-1.0, 0.0], 0.0), HalfSpace{Float64, Vector{Float64}}([0.0, -1.0], 0.0)]), [0.399999, 0.500001]), ReachSet{Float64, HPolyhedron{Float64, Vector{Float64}}}(HPolyhedron{Float64, Vector{Float64}}(HalfSpace{Float64, Vector{Float64}}[HalfSpace{Float64, Vector{Float64}}([1.0, 0.0], 0.0), HalfSpace{Float64, Vector{Float64}}([0.0, 1.0], 0.0), HalfSpace{Float64, Vector{Float64}}([-1.0, 0.0], 0.0), HalfSpace{Float64, Vector{Float64}}([0.0, -1.0], 0.0)]), [0.499999, 0.600001]), ReachSet{Float64, HPolyhedron{Float64, Vector{Float64}}}(HPolyhedron{Float64, Vector{Float64}}(HalfSpace{Float64, Vector{Float64}}[HalfSpace{Float64, Vector{Float64}}([1.0, 0.0], 0.0), HalfSpace{Float64, Vector{Float64}}([0.0, 1.0], 0.0), HalfSpace{Float64, Vector{Float64}}([-1.0, 0.0], 0.0), HalfSpace{Float64, Vector{Float64}}([0.0, -1.0], 0.0)]), [0.599999, 0.700001]), ReachSet{Float64, HPolyhedron{Float64, Vector{Float64}}}(HPolyhedron{Float64, Vector{Float64}}(HalfSpace{Float64, Vector{Float64}}[HalfSpace{Float64, Vector{Float64}}([1.0, 0.0], 0.0), HalfSpace{Float64, Vector{Float64}}([0.0, 1.0], 0.0), HalfSpace{Float64, Vector{Float64}}([-1.0, 0.0], 0.0), HalfSpace{Float64, Vector{Float64}}([0.0, -1.0], 0.0)]), [0.699999, 0.800001]), ReachSet{Float64, HPolyhedron{Float64, Vector{Float64}}}(HPolyhedron{Float64, Vector{Float64}}(HalfSpace{Float64, Vector{Float64}}[HalfSpace{Float64, Vector{Float64}}([1.0, 0.0], 0.0), HalfSpace{Float64, Vector{Float64}}([0.0, 1.0], 0.0), HalfSpace{Float64, Vector{Float64}}([-1.0, 0.0], 0.0), HalfSpace{Float64, Vector{Float64}}([0.0, -1.0], 0.0)]), [0.799999, 0.900001]), ReachSet{Float64, HPolyhedron{Float64, Vector{Float64}}}(HPolyhedron{Float64, Vector{Float64}}(HalfSpace{Float64, Vector{Float64}}[HalfSpace{Float64, Vector{Float64}}([1.0, 0.0], 0.0), HalfSpace{Float64, Vector{Float64}}([0.0, 1.0], 0.0), HalfSpace{Float64, Vector{Float64}}([-1.0, 0.0], 0.0), HalfSpace{Float64, Vector{Float64}}([0.0, -1.0], 0.0)]), [0.899999, 1.00001])], Dict{Symbol, Any}())"
      ]
     },
     "execution_count": 12,
     "metadata": {},
     "output_type": "execute_result"
    }
   ],
   "source": [
    "# =================\n",
    "# Model definition\n",
    "# =================\n",
    "\n",
    "a = 1\n",
    "function system_carlin()\n",
    "\n",
    "  F1 = zeros(2, 2)\n",
    "  F1[1, 1] = -1\n",
    "  F1[2, 2] = -2\n",
    "\n",
    "  F2 = zeros(2, 4) # [x, x⊗x]\n",
    "  F2[1, 4] = 2 * a\n",
    "  F2[2, 2] = a\n",
    "\n",
    "  return F1, F2\n",
    "end\n",
    "\n",
    "function _solve_system_carlin(; N=4, T=30.0, δ=0.1, radius0=0, bloat=false, resets=nothing)\n",
    "  x0c = [0.0, 0.0]\n",
    "\n",
    "  F1, F2 = system_carlin()\n",
    "  R, Re_lambda1 = _error_bound_specabs_R(x0c, F1, F2; check=true)\n",
    "\n",
    "  n = 2\n",
    "  dirs = _template(n=n, N=N)\n",
    "  print(\"dirs: \", dirs)\n",
    "  alg = LGG09(δ=δ, template=dirs)\n",
    "\n",
    "  if radius0 == 0\n",
    "    X0 = convert(Hyperrectangle, Singleton(x0c))\n",
    "  else\n",
    "    X0 = Hyperrectangle(x0c, radius0)\n",
    "  end\n",
    "\n",
    "  if isnothing(resets)\n",
    "    @time sol = _solve_CARLIN(X0, F1, F2; alg=alg, N=N, T=T, bloat=bloat)\n",
    "  else\n",
    "    @time sol = _solve_CARLIN_resets(X0, F1, F2; resets=resets, alg=alg, N=N, T=T, bloat=bloat)\n",
    "  end\n",
    "\n",
    "  return sol\n",
    "\n",
    "end\n",
    "\n",
    "_solve_system_carlin(; N=2, T=1.0, δ=0.1, radius0=0, bloat=false, resets=nothing)\n"
   ]
  },
  {
   "cell_type": "code",
   "execution_count": 41,
   "metadata": {},
   "outputs": [],
   "source": [
    "@taylorize function system_equation(dx, x, a)\n",
    "  x, y = x\n",
    "\n",
    "  dx[1] = -2*y+2*a*y^2\n",
    "  dx[2] = -x+a*x*y\n",
    "end"
   ]
  },
  {
   "cell_type": "code",
   "execution_count": 42,
   "metadata": {},
   "outputs": [
    {
     "data": {
      "text/plain": [
       "_solve_system_carlin_TM (generic function with 1 method)"
      ]
     },
     "execution_count": 42,
     "metadata": {},
     "output_type": "execute_result"
    }
   ],
   "source": [
    "function _solve_system_carlin_TM(; T=30.0, radius0=0, trajectories=-1)\n",
    "  x0c = [0.0, 0.0]\n",
    "\n",
    "  if radius0 == 0\n",
    "    X0 = convert(Hyperrectangle, Singleton(x0c))\n",
    "  else\n",
    "    X0 = Hyperrectangle(x0c, radius0)\n",
    "  end\n",
    "\n",
    "  @time sol = solve(\n",
    "    X0,\n",
    "    tspan=(0.0, T),\n",
    "    alg=TMJets(δ=0.1),\n",
    "    orderT=10,\n",
    "    orderQ=2,\n",
    "    trajectories=trajectories,\n",
    "    vars=(0, 1),\n",
    "    a=a,\n",
    "  )\n",
    "\n",
    "  println(sol)\n",
    "  return sol\n",
    "end"
   ]
  },
  {
   "attachments": {},
   "cell_type": "markdown",
   "metadata": {},
   "source": [
    "---\n",
    "\n",
    "### 2. Plot of the first example"
   ]
  },
  {
   "cell_type": "code",
   "execution_count": 45,
   "metadata": {},
   "outputs": [
    {
     "ename": "LoadError",
     "evalue": "AssertionError: the problems' dimension 6 doesn't match the dimension of the template directions, 12",
     "output_type": "error",
     "traceback": [
      "AssertionError: the problems' dimension 6 doesn't match the dimension of the template directions, 12",
      "",
      "Stacktrace:",
      " [1] post(alg::LGG09{Float64, Forward{ReachabilityAnalysis.BaseExpAlg, Val{:lazy}, Val{:concrete}, Val{false}, Nothing}, SingleEntryVector{Float64}, CustomDirections{Float64, SingleEntryVector{Float64}}, Val{false}, Missing}, ivp::InitialValueProblem{LinearContinuousSystem{Float64, SparseMatrixCSC{Float64, Int64}}, Hyperrectangle{Float64, Vector{Float64}, Vector{Float64}}}, tspan::IntervalArithmetic.Interval{Float64}; Δt0::IntervalArithmetic.Interval{Float64}, kwargs::Base.Pairs{Symbol, Any, Tuple{Symbol, Symbol}, NamedTuple{(:T, :alg), Tuple{Float64, LGG09{Float64, Forward{ReachabilityAnalysis.BaseExpAlg, Val{:lazy}, Val{:concrete}, Val{false}, Nothing}, SingleEntryVector{Float64}, CustomDirections{Float64, SingleEntryVector{Float64}}, Val{false}, Missing}}}})",
      "   @ ReachabilityAnalysis ~/.julia/packages/ReachabilityAnalysis/9ozs4/src/Algorithms/LGG09/post.jl:7",
      " [2] solve(::InitialValueProblem{LinearContinuousSystem{Float64, SparseMatrixCSC{Float64, Int64}}, Hyperrectangle{Float64, Vector{Float64}, Vector{Float64}}}; kwargs::Base.Pairs{Symbol, Any, Tuple{Symbol, Symbol, Symbol}, NamedTuple{(:T, :alg, :Δt0), Tuple{Float64, LGG09{Float64, Forward{ReachabilityAnalysis.BaseExpAlg, Val{:lazy}, Val{:concrete}, Val{false}, Nothing}, SingleEntryVector{Float64}, CustomDirections{Float64, SingleEntryVector{Float64}}, Val{false}, Missing}, IntervalArithmetic.Interval{Float64}}}})",
      "   @ ReachabilityAnalysis ~/.julia/packages/ReachabilityAnalysis/9ozs4/src/Continuous/solve.jl:62",
      " [3] _solve_CARLIN(X0::Hyperrectangle{Float64, Vector{Float64}, Vector{Float64}}, F1::Matrix{Float64}, F2::Matrix{Float64}; alg::LGG09{Float64, Forward{ReachabilityAnalysis.BaseExpAlg, Val{:lazy}, Val{:concrete}, Val{false}, Nothing}, SingleEntryVector{Float64}, CustomDirections{Float64, SingleEntryVector{Float64}}, Val{false}, Missing}, N::Int64, T::Float64, Δt0::IntervalArithmetic.Interval{Float64}, A::Nothing, error_bound_func::typeof(error_bound_specabs), bloat::Bool, kron_pow_algorithm::String)",
      "   @ Main ~/Desktop/Ecole Polytechnique/Semester 4/PRL_MAX/RP21_RE-main/evaluation/utils.jl:81",
      " [4] macro expansion",
      "   @ ./timing.jl:262 [inlined]",
      " [5] _solve_system_carlin(; N::Int64, T::Float64, δ::Float64, radius0::Float64, bloat::Bool, resets::Nothing)",
      "   @ Main ./In[44]:36",
      " [6] top-level scope",
      "   @ In[45]:14",
      " [7] eval",
      "   @ ./boot.jl:368 [inlined]",
      " [8] include_string(mapexpr::typeof(REPL.softscope), mod::Module, code::String, filename::String)",
      "   @ Base ./loading.jl:1428"
     ]
    }
   ],
   "source": [
    "# ===============\n",
    "# Results\n",
    "# ===============\n",
    "\n",
    "# parameters\n",
    "Tmax = 30.0\n",
    "rr0 = 0.0\n",
    "\n",
    "# # taylor models solution\n",
    "# sol_tm = _solve_system_carlin_TM(T=Tmax, radius0=rr0)\n",
    "# time_TM = @elapsed _solve_system_carlin_TM(T=Tmax, radius0=rr0)\n",
    "\n",
    "# no error bounds, N = 2\n",
    "_solve_system_carlin(N=2, T=Tmax, δ=0.1, radius0=rr0, bloat=false)\n",
    "time_NoError_N2 = @elapsed _solve_system_carlin(N=2, T=Tmax, δ=0.1, radius0=rr0, bloat=false)\n",
    "\n",
    "print(io, \"SEIR, Carleman, no error bound, N=2, $(time_NoError_N2)\\n\")"
   ]
  }
 ],
 "metadata": {
  "kernelspec": {
   "display_name": "Julia 1.8.3",
   "language": "julia",
   "name": "julia-1.8"
  },
  "language_info": {
   "file_extension": ".jl",
   "mimetype": "application/julia",
   "name": "julia",
   "version": "1.8.3"
  },
  "orig_nbformat": 4
 },
 "nbformat": 4,
 "nbformat_minor": 2
}
