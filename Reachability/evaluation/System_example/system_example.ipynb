{
 "cells": [
  {
   "attachments": {},
   "cell_type": "markdown",
   "metadata": {},
   "source": [
    "## The third system example\n",
    "\n",
    "---\n",
    "\n",
    "We have the third system of following form:\n",
    "$$\n",
    "x'' = kx+ax^{3}\n",
    "$$\n",
    "(we set $x_{0}=x$ and $x_{1}=x'$). Then we have the system of the ODEs:\n",
    "$$\n",
    "\\begin{cases}\n",
    "x_{0}'=x_1\\\\\n",
    "x_{1}'=kx_{0}+ax_{0}^{3}\n",
    "\\end{cases}\n",
    "$$\n",
    "Here we only introduce one new variable $w_{0}=x_{0}^{2}$. Then we got the system of the ODEs:\n",
    "$$\n",
    "\\begin{cases}\n",
    "x_{0}'=x_1\\\\\n",
    "x_{1}'=kx_{0}+ax_{0}w_{0}\\\\\n",
    "w_{0}' = 2x_{0}x_{0}' = 2x_{0}x_{1}\n",
    "\\end{cases}\n",
    "$$\n"
   ]
  },
  {
   "attachments": {},
   "cell_type": "markdown",
   "metadata": {},
   "source": [
    "We change the method of quadratization, we have $w_{0}=x_{0}^{2}-mx_{0}$, then we got the new system of the ODEs:\n",
    "$$\n",
    "\\begin{cases}\n",
    "x_{0}'=x_1\\\\\n",
    "x_{1}'= (k+am^{2})x_{0} + amw_{0} + am^{2}x_{0} \\\\ \n",
    "w_{0}' = 2x_{0}x_{1} - mx_{1}\n",
    "\\end{cases}\n",
    "$$\n",
    "Then we got \n",
    "$$\n",
    "F_{1} = \\begin{bmatrix}\n",
    "0 & 1 & 0\\\\\n",
    "(k+am^{2}) & 0 & am^{2}\\\\\n",
    "0 & -m & 0\n",
    "\\end{bmatrix}\n",
    "$$\n",
    "Then we have the eigenvalues of $F_{1}$:\n",
    "$$\n",
    "- \\lambda(\\lambda^{2}+k )=0\n",
    "$$\n",
    "Since we can change $w_{0}=x_{0}^{2}-mx_{0} \\Rightarrow w_{0}-x_{0}^{2}+mx_{0}=0$, Then we have the system and $F_1$:\n",
    "$$\n",
    "\\begin{cases}\n",
    "x_{0}'=x_1+w_{0}-x_{0}^{2}+mx_{0}\\\\\n",
    "x_{1}'= (k+am^{2})x_{0} + amw_{0} + am^{2}x_{0} \\\\ \n",
    "w_{0}' = 2x_{0}x_{1} - mx_{1}\n",
    "\\end{cases}\n",
    "$$\n",
    "\n",
    "$$\n",
    "F_{1} = \\begin{bmatrix}\n",
    "m & 1 & 1\\\\\n",
    "(k+am^{2}) & 0 & am^{2}\\\\\n",
    "0 & -m & 0\n",
    "\\end{bmatrix}\n",
    "$$"
   ]
  },
  {
   "cell_type": "code",
   "execution_count": 2,
   "metadata": {},
   "outputs": [],
   "source": [
    "import numpy as np\n",
    "import sympy as sym\n",
    "sym.init_printing()\n",
    "import matplotlib.pyplot as plt"
   ]
  },
  {
   "cell_type": "code",
   "execution_count": 3,
   "metadata": {},
   "outputs": [],
   "source": [
    "a = sym.symbols('a')\n",
    "m0, m1 = sym.symbols('m0 m1')\n",
    "k = sym.symbols('k')\n",
    "lamda = sym.symbols('lamda')\n",
    "alpha1, alpha2, alpha3 = sym.symbols('alpha1 alpha2 alpha3')\n",
    "\n",
    "def eigenvalue_solver(F):\n",
    "    p = F.charpoly(lamda)\n",
    "    roots = sym.solve(p, lamda)\n",
    "    return p, roots[0], roots[1], roots[2]"
   ]
  },
  {
   "attachments": {},
   "cell_type": "markdown",
   "metadata": {},
   "source": [
    "Take $w_0 = x_{0}^{2}-m_{0}x_{0}-m_{1}x_{1} \\Rightarrow x_{0}^{2} = w_0 + m_{0}x_{0}+m_{1}x_{1}$. Then we have\n",
    "$$\n",
    "\\begin{aligned}\n",
    "x_{1}' &= kx_{0}+ax_{0}^{3} = kx_{0}+ax_{0}(w_{0} + m_{0}x_{0}+m_{1}x_{1}) \\\\\n",
    "& = kx_{0}+ax_{0}w_{0} + am_{0}x_{0}^{2} + am_{1}x_{0}x_{1} \\\\\n",
    "\\end{aligned}\n",
    "$$\n",
    "We also got\n",
    "$$\n",
    "\\begin{aligned}\n",
    "w' &= 2x_{0}x_{0}'- m_{0}x_{0}' -m_{1}x_{1}' \\\\\n",
    "& = 2x_{0}x_{0}'- m_{0}x_{0}' - m_{1} (kx_{0}+ax_{0}w_{0} + am_{0}x_{0}^{2} + am_{1}x_{0}x_{1})\\\\\n",
    "& = 2x_{0}x_{1} - m_{0}x_{1} - m_{1} (kx_{0}+ax_{0}w_{0} + am_{0}x_{0}^{2} + am_{1}x_{0}x_{1})\\\\\n",
    "& = (2 - am_{1}^{2})x_{0}x_{1} - m_{0}x_{1} - m_{1}kx_{0} - am_{1}x_{0}w_{0} - am_{0}m_{1}x_{0}^{2}\n",
    "\\end{aligned}\n",
    "$$\n",
    "Therefore, we have the system of the ODEs:\n",
    "$$\n",
    "\\begin{cases}\n",
    "x_{0}'=x_1\\\\\n",
    "x_{1}'=kx_{0}+ax_{0}w_{0} + am_{0}x_{0}^{2} + am_{1}x_{0}x_{1} = (k+am_{0}^{2})x_{0}+am_{0}m_{1}x_{1}+am_{0}w_{0}\\\\\n",
    "\\begin{aligned}\n",
    "w_{0}' &= 2x_{0}x_{1} - m_{0}x_{1} - m_{1}(k+am_{0}^{2})x_{0}-am_{0}m_{1}^{2}x_{1}-am_{0}m_{1}w_{0}\\\\\n",
    "&= 2x_{0}x_{1} - (m_{0}+am_{0}m_{1}^{2})x_{1}- m_{1}(k+am_{0}^{2})x_{0}-am_{0}m_{1}w_{0}\n",
    "\\end{aligned}\n",
    "\\end{cases}\n",
    "$$\n",
    "We have the matrix $F_1$:\n",
    "$$\n",
    "F_{1} = \\begin{bmatrix}\n",
    "0 & 1 & 0\\\\\n",
    "k+am_{0}^{2} & am_{0}m_{1} & am_{0}\\\\\n",
    "- m_{1}(k+am_{0}^{2}) & - (m_{0}+am_{0}m_{1}^{2}) & -am_{0}m_{1}\n",
    "\\end{bmatrix}\n",
    "$$\n"
   ]
  },
  {
   "cell_type": "code",
   "execution_count": 4,
   "metadata": {},
   "outputs": [
    {
     "data": {
      "text/latex": [
       "$\\displaystyle \\left[\\begin{matrix}\\alpha_{1} m_{0} & \\alpha_{1} m_{1} + 1 & \\alpha_{1}\\\\a m_{0}^{2} + \\alpha_{2} m_{0} + k & a m_{0} m_{1} + \\alpha_{2} m_{1} & a m_{0} + \\alpha_{2}\\\\\\alpha_{3} m_{0} - k m_{1} & \\alpha_{3} m_{1} - m_{0} & \\alpha_{3}\\end{matrix}\\right]$"
      ],
      "text/plain": [
       "⎡      α₁⋅m₀           α₁⋅m₁ + 1        α₁    ⎤\n",
       "⎢                                             ⎥\n",
       "⎢    2                                        ⎥\n",
       "⎢a⋅m₀  + α₂⋅m₀ + k  a⋅m₀⋅m₁ + α₂⋅m₁  a⋅m₀ + α₂⎥\n",
       "⎢                                             ⎥\n",
       "⎣  α₃⋅m₀ - k⋅m₁       α₃⋅m₁ - m₀        α₃    ⎦"
      ]
     },
     "metadata": {},
     "output_type": "display_data"
    },
    {
     "data": {
      "text/latex": [
       "$\\displaystyle \\operatorname{PurePoly}{\\left( \\lambda^{3} + \\left(- a m_{0} m_{1} - \\alpha_{1} m_{0} - \\alpha_{2} m_{1} - \\alpha_{3}\\right) \\lambda^{2} -  k \\lambda + a k m_{0} m_{1} + \\alpha_{1} k m_{0} + \\alpha_{2} k m_{1} + \\alpha_{3} k, \\lambda, domain=\\mathbb{Z}\\left[a, k, m_{0}, m_{1}, \\alpha_{1}, \\alpha_{2}, \\alpha_{3}\\right] \\right)}$"
      ],
      "text/plain": [
       "PurePoly(lamda**3 + (-a*m0*m1 - alpha1*m0 - alpha2*m1 - alpha3)*lamda**2 - k*l\n",
       "amda + a*k*m0*m1 + alpha1*k*m0 + alpha2*k*m1 + alpha3*k, lamda, domain='ZZ[a,k\n",
       ",m0,m1,alpha1,alpha2,alpha3]')"
      ]
     },
     "metadata": {},
     "output_type": "display_data"
    },
    {
     "data": {
      "text/latex": [
       "$\\displaystyle - \\sqrt{k}$"
      ],
      "text/plain": [
       "-√k"
      ]
     },
     "metadata": {},
     "output_type": "display_data"
    },
    {
     "data": {
      "text/latex": [
       "$\\displaystyle \\sqrt{k}$"
      ],
      "text/plain": [
       "√k"
      ]
     },
     "metadata": {},
     "output_type": "display_data"
    },
    {
     "data": {
      "text/latex": [
       "$\\displaystyle a m_{0} m_{1} + \\alpha_{1} m_{0} + \\alpha_{2} m_{1} + \\alpha_{3}$"
      ],
      "text/plain": [
       "a⋅m₀⋅m₁ + α₁⋅m₀ + α₂⋅m₁ + α₃"
      ]
     },
     "metadata": {},
     "output_type": "display_data"
    }
   ],
   "source": [
    "F1 = sym.Matrix([[0, 1, 0], [k + a * m0**2, a * m0 * m1, a * m0],\n",
    "                 [-m1 * k, -m0, 0]])\n",
    "alpha1_mat = alpha1 * sym.Matrix([[m0, m1, 1], [0, 0, 0], [0, 0, 0]])\n",
    "alpha2_mat = alpha2 * sym.Matrix([[0, 0, 0], [m0, m1, 1], [0, 0, 0]])\n",
    "alpha3_mat = alpha3 * sym.Matrix([[0, 0, 0], [0, 0, 0], [m0, m1, 1]])\n",
    "F = F1 + alpha1_mat + alpha2_mat + alpha3_mat\n",
    "display(F)\n",
    "p, lambda1, lambda2, lambda3 = eigenvalue_solver(F)\n",
    "display(p)\n",
    "\n",
    "# solve the eigenvalue problem\n",
    "roots = sym.solve(p, lamda)\n",
    "display(roots[0])\n",
    "display(roots[1])\n",
    "display(roots[2])"
   ]
  },
  {
   "cell_type": "code",
   "execution_count": 132,
   "metadata": {},
   "outputs": [
    {
     "data": {
      "text/latex": [
       "$\\displaystyle \\left[\\begin{matrix}\\alpha_{1} m_{0} & \\alpha_{1} m_{1} + 1 & \\alpha_{1}\\\\a m_{0}^{2} + \\alpha_{2} m_{0} + k & a m_{0} m_{1} + \\alpha_{2} m_{1} & a m_{0} + \\alpha_{2}\\\\\\alpha_{3} m_{0} - m_{1} \\left(a m_{0}^{2} + k\\right) & - a m_{0} m_{1}^{2} + \\alpha_{3} m_{1} - m_{0} & - a m_{0} m_{1} + \\alpha_{3}\\end{matrix}\\right]$"
      ],
      "text/plain": [
       "⎡        α₁⋅m₀                  α₁⋅m₁ + 1              α₁      ⎤\n",
       "⎢                                                              ⎥\n",
       "⎢      2                                                       ⎥\n",
       "⎢  a⋅m₀  + α₂⋅m₀ + k         a⋅m₀⋅m₁ + α₂⋅m₁        a⋅m₀ + α₂  ⎥\n",
       "⎢                                                              ⎥\n",
       "⎢           ⎛    2    ⎞           2                            ⎥\n",
       "⎣α₃⋅m₀ - m₁⋅⎝a⋅m₀  + k⎠  - a⋅m₀⋅m₁  + α₃⋅m₁ - m₀  -a⋅m₀⋅m₁ + α₃⎦"
      ]
     },
     "metadata": {},
     "output_type": "display_data"
    },
    {
     "data": {
      "text/latex": [
       "$\\displaystyle \\operatorname{PurePoly}{\\left( \\lambda^{3} + \\left(- \\alpha_{1} m_{0} - \\alpha_{2} m_{1} - \\alpha_{3}\\right) \\lambda^{2} -  k \\lambda + \\alpha_{1} k m_{0} + \\alpha_{2} k m_{1} + \\alpha_{3} k, \\lambda, domain=\\mathbb{Z}\\left[k, m_{0}, m_{1}, \\alpha_{1}, \\alpha_{2}, \\alpha_{3}\\right] \\right)}$"
      ],
      "text/plain": [
       "PurePoly(lamda**3 + (-alpha1*m0 - alpha2*m1 - alpha3)*lamda**2 - k*lamda + alp\n",
       "ha1*k*m0 + alpha2*k*m1 + alpha3*k, lamda, domain='ZZ[k,m0,m1,alpha1,alpha2,alp\n",
       "ha3]')"
      ]
     },
     "metadata": {},
     "output_type": "display_data"
    },
    {
     "data": {
      "text/latex": [
       "$\\displaystyle - \\sqrt{k}$"
      ],
      "text/plain": [
       "-√k"
      ]
     },
     "metadata": {},
     "output_type": "display_data"
    },
    {
     "data": {
      "text/latex": [
       "$\\displaystyle \\sqrt{k}$"
      ],
      "text/plain": [
       "√k"
      ]
     },
     "metadata": {},
     "output_type": "display_data"
    },
    {
     "data": {
      "text/latex": [
       "$\\displaystyle \\alpha_{1} m_{0} + \\alpha_{2} m_{1} + \\alpha_{3}$"
      ],
      "text/plain": [
       "α₁⋅m₀ + α₂⋅m₁ + α₃"
      ]
     },
     "metadata": {},
     "output_type": "display_data"
    }
   ],
   "source": [
    "F1 = sym.Matrix([[0, 1, 0], [k + a * m0**2, a * m0 * m1, a * m0],\n",
    "                 [-m1 * (k + a * m0**2), -a * m0 * m1**2 - m0, -a * m0 * m1]])\n",
    "alpha1_mat = alpha1 * sym.Matrix([[m0, m1, 1], [0, 0, 0], [0, 0, 0]])\n",
    "alpha2_mat = alpha2 * sym.Matrix([[0, 0, 0], [m0, m1, 1], [0, 0, 0]])\n",
    "alpha3_mat = alpha3 * sym.Matrix([[0, 0, 0], [0, 0, 0], [m0, m1, 1]])\n",
    "F = F1 + alpha1_mat + alpha2_mat + alpha3_mat\n",
    "display(F)\n",
    "p, lambda1, lambda2, lambda3 = eigenvalue_solver(F)\n",
    "display(p)\n",
    "\n",
    "# solve the eigenvalue problem\n",
    "roots = sym.solve(p, lamda)\n",
    "display(roots[0])\n",
    "display(roots[1])\n",
    "display(roots[2])"
   ]
  },
  {
   "attachments": {},
   "cell_type": "markdown",
   "metadata": {},
   "source": [
    "### Apply the Routh-Hurwitz Criterion\n",
    "\n",
    "---\n",
    "\n",
    "\n",
    "From the **Routh-Hurwitz Criterion**, for the equation with highest degree $n$, if $n$ is **odd**, then we got\n",
    "$$\n",
    "\\left.\\begin{array}{llllllll}\n",
    "a_n & a_{n-2} & a_{n-4} & \\cdots & a_5 & a_3 & a_1 & a_{-1} \\\\\n",
    "a_{n-1} & a_{n-3} & a_{n-5} & \\cdots & a_4 & a_2 & a_0 & a_{-2} \\\\\n",
    "c_{n-1} & c_{n-3} & c_{n-5} & \\cdots & c_4 & c_2 & c_0 & \\\\\n",
    "d_{n-1} & d_{n-3} & d_{n-5} & \\cdots & d_4 & d_2 & d_0 & \\\\\n",
    "\\vdots & & & & & & & \\\\\n",
    "u_{n-1} & u_{n-3} & & & & & & \\\\\n",
    "u_{n-1} & u_{n-3} & & & & & &\n",
    "\\end{array}\\right\\} n+1 \\text { rows }\n",
    "$$\n",
    "For $n$ is **even**, then we got\n",
    "$$\n",
    "\\left.\\begin{array}{lllllll}\n",
    "a_n & a_{n-2} & a_{n-4} & \\cdots & a_4 & a_2 & a_0 \\\\\n",
    "a_{n-1} & a_{n-3} & a_{n-5} & \\cdots & a_3 & a_1 & a_{-1} \\\\\n",
    "c_{n-1} & c_{n-3} & c_{n-5} & \\cdots & c_3 & c_1 & \\\\\n",
    "d_{n-1} & d_{n-3} & d_{n-5} & \\cdots & d_3 & d_1 & \\\\\n",
    "\\vdots & & & & & \\\\\n",
    "u_{n-1} & u_{n-3} & & & & & \\\\\n",
    "u_{n-1} & u_{n-3} & & & & & \\\\\n",
    "v_{n-1} & & & & & &\n",
    "\\end{array}\\right\\} n+1 \\text { rows }\n",
    "$$\n",
    "where\n",
    "$$\n",
    "\\begin{gathered}\n",
    "c_{n-1}=\\frac{-\\left|\\begin{array}{ll}\n",
    "a_n & a_{n-2} \\\\\n",
    "a_{n-1} & a_{n-3}\n",
    "\\end{array}\\right|}{a_{n-1}}, c_{n-3}=\\frac{-\\left|\\begin{array}{ll}\n",
    "a_n & a_{n-4} \\\\\n",
    "a_{n-1} & a_{n-5}\n",
    "\\end{array}\\right|}{a_{n-1}} \\\\\n",
    "d_{n-1}=\\frac{-\\left|\\begin{array}{ll}\n",
    "a_{n-1} & a_{n-3} \\\\\n",
    "c_{n-1} & c_{n-3}\n",
    "\\end{array}\\right|}{c_{n-1}}, d_{n-3}=\\frac{-\\left|\\begin{array}{ll}\n",
    "a_{n-1} & a_{n-5} \\\\\n",
    "c_{n-1} & c_{n-5}\n",
    "\\end{array}\\right|}{c_{n-1}}\n",
    "\\end{gathered}\n",
    "$$\n",
    "we have the following Rouch table for the equation $x^{3}+bx^{2}+cx + d=0$\n",
    "$$\n",
    "\\begin{array}{ccc}\n",
    "1 & c & 0 \\\\\n",
    "b & d & 0 \\\\\n",
    "\\frac{bc-d}{b} & 0 & \\\\\n",
    "d & 0 &\n",
    "\\end{array}\n",
    "$$\n",
    "Then in order to have all the roots in the left half plane, we need to have all the entries in the first column are positive (since $1$ is positive). Then we have the condition that $b, c, d > 0$ and $bc > d$"
   ]
  },
  {
   "cell_type": "code",
   "execution_count": 5,
   "metadata": {},
   "outputs": [
    {
     "data": {
      "text/latex": [
       "$\\displaystyle - a m_{0} m_{1} - \\alpha_{1} m_{0} - \\alpha_{2} m_{1} - \\alpha_{3}$"
      ],
      "text/plain": [
       "-a⋅m₀⋅m₁ - α₁⋅m₀ - α₂⋅m₁ - α₃"
      ]
     },
     "metadata": {},
     "output_type": "display_data"
    },
    {
     "data": {
      "text/latex": [
       "$\\displaystyle - k$"
      ],
      "text/plain": [
       "-k"
      ]
     },
     "metadata": {},
     "output_type": "display_data"
    },
    {
     "data": {
      "text/latex": [
       "$\\displaystyle a k m_{0} m_{1} + \\alpha_{1} k m_{0} + \\alpha_{2} k m_{1} + \\alpha_{3} k$"
      ],
      "text/plain": [
       "a⋅k⋅m₀⋅m₁ + α₁⋅k⋅m₀ + α₂⋅k⋅m₁ + α₃⋅k"
      ]
     },
     "metadata": {},
     "output_type": "display_data"
    },
    {
     "data": {
      "text/html": [
       "<div>\n",
       "<style scoped>\n",
       "    .dataframe tbody tr th:only-of-type {\n",
       "        vertical-align: middle;\n",
       "    }\n",
       "\n",
       "    .dataframe tbody tr th {\n",
       "        vertical-align: top;\n",
       "    }\n",
       "\n",
       "    .dataframe thead th {\n",
       "        text-align: right;\n",
       "    }\n",
       "</style>\n",
       "<table border=\"1\" class=\"dataframe\">\n",
       "  <thead>\n",
       "    <tr style=\"text-align: right;\">\n",
       "      <th></th>\n",
       "    </tr>\n",
       "  </thead>\n",
       "  <tbody>\n",
       "  </tbody>\n",
       "</table>\n",
       "</div>"
      ],
      "text/plain": [
       "Empty DataFrame\n",
       "Columns: []\n",
       "Index: []"
      ]
     },
     "execution_count": 5,
     "metadata": {},
     "output_type": "execute_result"
    }
   ],
   "source": [
    "import pandas as pd\n",
    "\n",
    "# Compute coefficients\n",
    "b_coef = p.coeffs()[1]\n",
    "c_coef = p.coeffs()[2]\n",
    "d_coef = p.coeffs()[3]\n",
    "display(b_coef)\n",
    "display(c_coef)\n",
    "display(d_coef)\n",
    "\n",
    "b_coef = - alpha1 * m0 - alpha2 * m1 - alpha3\n",
    "c_coef = - k\n",
    "d_coef = alpha1 * k * m0 + alpha2 * k * m1 + alpha3 * k \n",
    "\n",
    "# Define function to test coefficients\n",
    "def test_coef(a_val, k_val, m0_val, m1_val, a1_val, a2_val, a3_val):\n",
    "    b_coef_val = b_coef.subs([(a, a_val), (k, k_val), (m0, m0_val), (m1, m1_val), (alpha1, a1_val), (alpha2, a2_val), (alpha3, a3_val)])\n",
    "    c_coef_val = c_coef.subs([(a, a_val), (k, k_val), (m0, m0_val), (m1, m1_val), (alpha1, a1_val), (alpha2, a2_val), (alpha3, a3_val)])\n",
    "    d_coef_val = d_coef.subs([(a, a_val), (k, k_val), (m0, m0_val), (m1, m1_val), (alpha1, a1_val), (alpha2, a2_val), (alpha3, a3_val)])\n",
    "    if b_coef_val > 0 and c_coef_val > 0 and d_coef_val > 0 and b_coef_val * c_coef_val > d_coef_val:\n",
    "        return True\n",
    "    else:\n",
    "        return False\n",
    "\n",
    "# Test coefficients for all combinations of input values\n",
    "results = []\n",
    "for a_val in [-5, 0, 6]:\n",
    "    for k_val in [-5, 0, 6]:\n",
    "        for m0_val in [-5, 0, 6]:\n",
    "            for m1_val in [-5, 0, 6]:\n",
    "                for a1_val in [-5, 0, 6]:\n",
    "                    for a2_val in [-5, 0, 6]:\n",
    "                        for a3_val in [-5, 0, 6]:\n",
    "                            if test_coef(a_val, k_val, m0_val, m1_val, a1_val, a2_val, a3_val):\n",
    "                                b_coef_val = b_coef.subs([(a, a_val), (k, k_val), (m0, m0_val), (m1, m1_val), (alpha1, a1_val), (alpha2, a2_val), (alpha3, a3_val)])\n",
    "                                c_coef_val = c_coef.subs([(a, a_val), (k, k_val), (m0, m0_val), (m1, m1_val), (alpha1, a1_val), (alpha2, a2_val), (alpha3, a3_val)])\n",
    "                                d_coef_val = d_coef.subs([(a, a_val), (k, k_val), (m0, m0_val), (m1, m1_val), (alpha1, a1_val), (alpha2, a2_val), (alpha3, a3_val)])\n",
    "                                results.append({'a': a_val, 'k': k_val, 'm0': m0_val, 'm1': m1_val, 'alpha1': a1_val, 'alpha2': a2_val, 'alpha3': a3_val, 'b_coef': b_coef_val, 'c_coef': c_coef_val, 'd_coef': d_coef_val})\n",
    "\n",
    "# Convert results to DataFrame\n",
    "df = pd.DataFrame(results)\n",
    "\n",
    "# Save DataFrame to CSV file\n",
    "df.to_csv('results.csv', index=False)\n",
    "df"
   ]
  },
  {
   "cell_type": "code",
   "execution_count": 138,
   "metadata": {},
   "outputs": [
    {
     "data": {
      "text/latex": [
       "$\\displaystyle \\lambda^{3} + 35 \\lambda^{2} + 5 \\lambda + 175$"
      ],
      "text/plain": [
       " 3       2            \n",
       "λ  + 35⋅λ  + 5⋅λ + 175"
      ]
     },
     "metadata": {},
     "output_type": "display_data"
    },
    {
     "data": {
      "text/latex": [
       "$\\displaystyle \\left[\\begin{matrix}-30 & -29 & 6\\\\-130 & -125 & 25\\\\-625 & -595 & 120\\end{matrix}\\right]$"
      ],
      "text/plain": [
       "⎡-30   -29    6 ⎤\n",
       "⎢               ⎥\n",
       "⎢-130  -125  25 ⎥\n",
       "⎢               ⎥\n",
       "⎣-625  -595  120⎦"
      ]
     },
     "metadata": {},
     "output_type": "display_data"
    },
    {
     "data": {
      "text/latex": [
       "$\\displaystyle -35$"
      ],
      "text/plain": [
       "-35"
      ]
     },
     "metadata": {},
     "output_type": "display_data"
    },
    {
     "data": {
      "text/latex": [
       "$\\displaystyle - \\sqrt{5} i$"
      ],
      "text/plain": [
       "-√5⋅ⅈ"
      ]
     },
     "metadata": {},
     "output_type": "display_data"
    },
    {
     "data": {
      "text/latex": [
       "$\\displaystyle \\sqrt{5} i$"
      ],
      "text/plain": [
       "√5⋅ⅈ"
      ]
     },
     "metadata": {},
     "output_type": "display_data"
    },
    {
     "data": {
      "text/latex": [
       "$\\displaystyle 0$"
      ],
      "text/plain": [
       "0"
      ]
     },
     "metadata": {},
     "output_type": "display_data"
    },
    {
     "name": "stdout",
     "output_type": "stream",
     "text": [
      "False\n"
     ]
    }
   ],
   "source": [
    "# extract the first row of the DataFrame\n",
    "df.iloc[0]\n",
    "df\n",
    "result = []\n",
    "symbols_list = [a, k, m0, m1, alpha1, alpha2, alpha3]\n",
    "for symbol in symbols_list:\n",
    "    symbol = df.iloc[0][symbol.name]\n",
    "    \n",
    "# plug in the values into the characteristic equation\n",
    "p = p.subs([(a, df.iloc[0][a.name]), (k, df.iloc[0][k.name]), (m0, df.iloc[0][m0.name]), (m1, df.iloc[0][m1.name]), (alpha1, df.iloc[0][alpha1.name]), (alpha2, df.iloc[0][alpha2.name]), (alpha3, df.iloc[0][alpha3.name])])\n",
    "F = F.subs([(a, df.iloc[0][a.name]), (k, df.iloc[0][k.name]), (m0, df.iloc[0][m0.name]), (m1, df.iloc[0][m1.name]), (alpha1, df.iloc[0][alpha1.name]), (alpha2, df.iloc[0][alpha2.name]), (alpha3, df.iloc[0][alpha3.name])])\n",
    "display(p)\n",
    "display(F)\n",
    "roots = sym.solve(p, lamda)\n",
    "display(roots[0])\n",
    "display(roots[1])\n",
    "display(roots[2])\n",
    "\n",
    "# display the largest real part of the roots\n",
    "lambda1, lambda2, lambda3 = sym.re(roots[0]), sym.re(roots[1]), sym.re(roots[2])\n",
    "display(max(lambda1, lambda2, lambda3))\n",
    "print(max(lambda1, lambda2, lambda3) < 0)\n",
    "\n",
    "# display the largest real part of the roots \n",
    "\n"
   ]
  },
  {
   "cell_type": "code",
   "execution_count": null,
   "metadata": {},
   "outputs": [],
   "source": []
  }
 ],
 "metadata": {
  "kernelspec": {
   "display_name": "base",
   "language": "python",
   "name": "python3"
  },
  "language_info": {
   "codemirror_mode": {
    "name": "ipython",
    "version": 3
   },
   "file_extension": ".py",
   "mimetype": "text/x-python",
   "name": "python",
   "nbconvert_exporter": "python",
   "pygments_lexer": "ipython3",
   "version": "3.9.7"
  },
  "orig_nbformat": 4
 },
 "nbformat": 4,
 "nbformat_minor": 2
}
