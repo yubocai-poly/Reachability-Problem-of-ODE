{
 "cells": [
  {
   "attachments": {},
   "cell_type": "markdown",
   "metadata": {},
   "source": [
    "## Quadratization of the system\n",
    "\n",
    "---"
   ]
  },
  {
   "attachments": {},
   "cell_type": "markdown",
   "metadata": {},
   "source": [
    "[[Package page]](https://github.com/AndreyBychkov/QBee/)\n",
    "\n",
    "QBee is a Python library for transforming systems of differential equations into a systems with quadratic right-rand side. \n",
    "\n",
    "Here is a online program version of the packege: [link](https://huggingface.co/spaces/Armaliltril/qbee)"
   ]
  },
  {
   "cell_type": "code",
   "execution_count": 1,
   "metadata": {},
   "outputs": [],
   "source": [
    "import sympy\n",
    "from qbee import *\n",
    "\n",
    "sympy.init_printing()  # If you work in Jupyter notebook "
   ]
  },
  {
   "attachments": {},
   "cell_type": "markdown",
   "metadata": {},
   "source": [
    "$$\n",
    "\\left\\{\\begin{array}{l}\n",
    "c_1^{\\prime}=-A \\exp \\left(-E_a /\\left(R_u T\\right)\\right) c_1^{0.2} c_2^{1.3} \\\\\n",
    "c_2^{\\prime}=2 c_1^{\\prime} \\\\\n",
    "c_3^{\\prime}=-c_1^{\\prime} \\\\\n",
    "c_4^{\\prime}=-2 c_1^{\\prime}\n",
    "\\end{array}\\right.\n",
    "$$"
   ]
  },
  {
   "cell_type": "code",
   "execution_count": 4,
   "metadata": {},
   "outputs": [
    {
     "name": "stdout",
     "output_type": "stream",
     "text": [
      "Current spatial time derivatives equations:\n",
      "...\n",
      "\n",
      "Variables introduced in polynomialization:\n",
      "w_{0} = c1**(-0.8)\n",
      "w_{1} = c2**(-0.7)\n",
      "w_{2} = 1/T\n",
      "w_{3} = exp(-Ea*w_{2}/Ru)\n"
     ]
    },
    {
     "name": "stderr",
     "output_type": "stream",
     "text": [
      "Nodes processed: 80 nodes [00:00, 96.37 nodes/s, Current best order = 5]  \n"
     ]
    },
    {
     "name": "stdout",
     "output_type": "stream",
     "text": [
      "\n",
      "Elapsed time: 0.867s.\n"
     ]
    },
    {
     "name": "stderr",
     "output_type": "stream",
     "text": [
      "Nodes processed: 117 nodes [00:00, 184.19 nodes/s, Current best order = 5]\n"
     ]
    },
    {
     "name": "stdout",
     "output_type": "stream",
     "text": [
      "\n",
      "Elapsed time: 0.645s.\n",
      "==================================================\n",
      "Quadratization result\n",
      "==================================================\n",
      "Number of introduced variables: 5\n",
      "Nodes traversed: 117\n",
      "Introduced variables:\n",
      "w_{4} = T'*w_{2}\n",
      "w_{5} = T'*w_{2}**2\n",
      "w_{6} = w_{2}**2\n",
      "w_{7} = c2**2*w_{0}*w_{1}*w_{3}\n",
      "w_{8} = c1*c2*w_{0}*w_{1}*w_{3}\n",
      "\n",
      "Quadratized system:\n",
      "c1' = -A*c2*w_{8}\n",
      "c2' = -2*A*c2*w_{8}\n",
      "c3' = A*c2*w_{8}\n",
      "c4' = 2*A*c2*w_{8}\n",
      "w_{0}' = 4*A*w_{0}*w_{7}/5\n",
      "w_{1}' = 7*A*w_{1}*w_{8}/5\n",
      "w_{2}' = -T'*w_{6}\n",
      "w_{3}' = Ea*w_{3}*w_{5}/Ru\n",
      "T' = T'\n",
      "T'' = T''\n",
      "T''' = 0\n",
      "w_{4}' = -T'*w_{5} + T''*w_{2}\n",
      "w_{5}' = T''*w_{6} - 2*w_{4}*w_{5}\n",
      "w_{6}' = -2*w_{4}*w_{6}\n",
      "w_{7}' = 4*A*w_{7}**2/5 - 13*A*w_{7}*w_{8}/5 + Ea*w_{5}*w_{7}/Ru\n",
      "w_{8}' = -A*w_{7}*w_{8}/5 - 3*A*w_{8}**2/5 + Ea*w_{5}*w_{8}/Ru\n"
     ]
    }
   ],
   "source": [
    "A, Ea, Ru = parameters(\"A, Ea, Ru\")\n",
    "c1, c2, c3, c4, T = functions(\"c1, c2, c3, c4, T\")  \n",
    "\n",
    "eq1 = -A * sp.exp(-Ea / (Ru * T)) * c1 ** 0.2 * c2 ** 1.3\n",
    "system = [\n",
    "    (c1, eq1),\n",
    "    (c2, 2 * eq1),\n",
    "    (c3, -eq1),\n",
    "    (c4, -2 * eq1)\n",
    "]\n",
    "\n",
    "# {T: 2} means than T can have a derivative of order at most two => T''\n",
    "quadr_system = polynomialize_and_quadratize(system, input_der_orders={T: 2})\n",
    "if quadr_system:\n",
    "    print(\"Quadratized system:\")\n",
    "    print(quadr_system)"
   ]
  },
  {
   "attachments": {},
   "cell_type": "markdown",
   "metadata": {},
   "source": [
    "Here are some ODE systems that we try to quadratize:\n",
    "- $x'=-x+ax^{3}$\n",
    "- $x'=-x^3$\n",
    "- $x'' = kx+ax^{3}$ \n",
    "\n",
    "  (we set $x_{0}=x$ and $x_{1}=x'$)\n",
    "\n",
    "  $x_{0}'=x_1$\n",
    "\n",
    "  $x_{1}'=-kx_{0}-ax_{0}^{3}$\n",
    "  "
   ]
  },
  {
   "attachments": {},
   "cell_type": "markdown",
   "metadata": {},
   "source": [
    "### System 1\n",
    "$$\n",
    "x'=-x+ax^{3}\n",
    "$$\n",
    "Quadratization:\n",
    "$$\n",
    "y' = -2y+2ay^{2}\n",
    "$$\n",
    "where $y=x^2$"
   ]
  },
  {
   "cell_type": "code",
   "execution_count": 2,
   "metadata": {},
   "outputs": [
    {
     "name": "stdout",
     "output_type": "stream",
     "text": [
      "Current spatial time derivatives equations:\n",
      "...\n",
      "\n",
      "Variables introduced in polynomialization:\n"
     ]
    },
    {
     "name": "stderr",
     "output_type": "stream",
     "text": [
      "Nodes processed: 4 nodes [00:00, 30.56 nodes/s, Current best order = 1]   \n"
     ]
    },
    {
     "name": "stdout",
     "output_type": "stream",
     "text": [
      "\n",
      "\n",
      "Elapsed time: 0.056s.\n"
     ]
    },
    {
     "name": "stderr",
     "output_type": "stream",
     "text": [
      "Nodes processed: 3 nodes [00:00, 101.32 nodes/s, Current best order = 1]\n"
     ]
    },
    {
     "name": "stdout",
     "output_type": "stream",
     "text": [
      "\n",
      "Elapsed time: 0.051s.\n",
      "==================================================\n",
      "Quadratization result\n",
      "==================================================\n",
      "Number of introduced variables: 1\n",
      "Nodes traversed: 3\n",
      "Introduced variables:\n",
      "w{0} = x**2\n",
      "\n"
     ]
    }
   ],
   "source": [
    "a = parameters(\"a\")\n",
    "x = functions(\"x\")\n",
    "\n",
    "eq = - x + a * x ** 3\n",
    "system = [(x, eq)]\n",
    "\n",
    "quadr_system = polynomialize_and_quadratize(system, \n",
    "                                            new_vars_name = \"w\")"
   ]
  },
  {
   "cell_type": "code",
   "execution_count": 19,
   "metadata": {},
   "outputs": [
    {
     "name": "stdout",
     "output_type": "stream",
     "text": [
      "Current spatial time derivatives equations:\n",
      "...\n",
      "\n",
      "Variables introduced in polynomialization:\n",
      "z{1} = exp(-p*x)\n",
      "z{2} = 1/(z{1} + 1)\n",
      "z{3} = exp(y)\n"
     ]
    },
    {
     "name": "stderr",
     "output_type": "stream",
     "text": [
      "Nodes processed: 22 nodes [00:00, 466.54 nodes/s, Current best order = 4]  \n"
     ]
    },
    {
     "name": "stdout",
     "output_type": "stream",
     "text": [
      "\n",
      "Elapsed time: 0.053s.\n"
     ]
    },
    {
     "name": "stderr",
     "output_type": "stream",
     "text": [
      "Nodes processed: 44 nodes [00:00, 147.06 nodes/s, Current best order = 4]"
     ]
    },
    {
     "name": "stdout",
     "output_type": "stream",
     "text": [
      "\n",
      "Elapsed time: 0.321s.\n",
      "==================================================\n",
      "Quadratization result\n",
      "==================================================\n",
      "Number of introduced variables: 4\n",
      "Nodes traversed: 44\n",
      "Introduced variables:\n",
      "z{4} = x*z{3}\n",
      "z{5} = y*z{2}\n",
      "z{6} = y*z{1}*z{2}**2\n",
      "z{7} = z{1}*z{2}**2\n",
      "\n",
      "x' = z{5}\n",
      "y' = u + z{4}\n",
      "z{1}' = -p*z{1}*z{5}\n",
      "z{2}' = p*z{5}*z{7}\n",
      "z{3}' = u*z{3} + z{3}*z{4}\n",
      "u' = 0\n",
      "z{4}' = u*z{4} + z{3}*z{5} + z{4}**2\n",
      "z{5}' = p*z{5}*z{6} + u*z{2} + z{2}*z{4}\n",
      "z{6}' = -p*z{5}*z{6} + 2*p*z{6}**2 + u*z{7} + z{4}*z{7}\n",
      "z{7}' = -p*z{5}*z{7} + 2*p*z{6}*z{7}\n"
     ]
    },
    {
     "name": "stderr",
     "output_type": "stream",
     "text": [
      "\n"
     ]
    }
   ],
   "source": [
    "from sympy import exp\n",
    "\n",
    "x, y, u = functions(\"x, y, u\")\n",
    "p = parameters(\"p\")\n",
    "quad_res = polynomialize_and_quadratize([(x, y / (1 + exp(-p * x))),\n",
    "                                         (y, x * exp(y) + u)],\n",
    "                                        input_der_orders={u: 0},\n",
    "                                        new_vars_name='z',\n",
    "                                        start_new_vars_with=1)\n",
    "print(quad_res)"
   ]
  },
  {
   "attachments": {},
   "cell_type": "markdown",
   "metadata": {},
   "source": [
    "### System 2\n",
    "$$\n",
    "x'=-x^{3}\n",
    "$$"
   ]
  },
  {
   "cell_type": "code",
   "execution_count": 3,
   "metadata": {},
   "outputs": [
    {
     "name": "stdout",
     "output_type": "stream",
     "text": [
      "Current spatial time derivatives equations:\n",
      "...\n",
      "\n",
      "Variables introduced in polynomialization:\n"
     ]
    },
    {
     "name": "stderr",
     "output_type": "stream",
     "text": [
      "Nodes processed: 4 nodes [00:00, 184.78 nodes/s, Current best order = 1]  \n"
     ]
    },
    {
     "name": "stdout",
     "output_type": "stream",
     "text": [
      "\n",
      "\n",
      "Elapsed time: 0.009s.\n"
     ]
    },
    {
     "name": "stderr",
     "output_type": "stream",
     "text": [
      "Nodes processed: 3 nodes [00:00, 555.54 nodes/s, Current best order = 1] "
     ]
    },
    {
     "name": "stdout",
     "output_type": "stream",
     "text": [
      "\n",
      "Elapsed time: 0.009s.\n",
      "==================================================\n",
      "Quadratization result\n",
      "==================================================\n",
      "Number of introduced variables: 1\n",
      "Nodes traversed: 3\n",
      "Introduced variables:\n",
      "w{0} = x**2\n",
      "\n"
     ]
    },
    {
     "name": "stderr",
     "output_type": "stream",
     "text": [
      "\n"
     ]
    }
   ],
   "source": [
    "x = functions(\"x\")\n",
    "\n",
    "eq = - x ** 3\n",
    "system = [(x, eq)]\n",
    "\n",
    "quadr_system = polynomialize_and_quadratize(system, \n",
    "                                            new_vars_name = \"w\")"
   ]
  },
  {
   "attachments": {},
   "cell_type": "markdown",
   "metadata": {},
   "source": [
    "### System 3\n",
    "$$\n",
    "x'' = kx+ax^{3}\n",
    "$$\n",
    "(we set $x_{0}=x$ and $x_{1}=x'$). Then we have the system of the ODEs:\n",
    "$$\n",
    "\\begin{cases}\n",
    "x_{0}'=x_1\\\\\n",
    "x_{1}'=kx_{0}+ax_{0}^{3}\n",
    "\\end{cases}"
   ]
  },
  {
   "cell_type": "code",
   "execution_count": 4,
   "metadata": {},
   "outputs": [
    {
     "name": "stdout",
     "output_type": "stream",
     "text": [
      "Current spatial time derivatives equations:\n",
      "...\n",
      "\n",
      "Variables introduced in polynomialization:\n"
     ]
    },
    {
     "name": "stderr",
     "output_type": "stream",
     "text": [
      "Nodes processed: 2 nodes [00:00, 16.08 nodes/s, Current best order = inf] "
     ]
    },
    {
     "name": "stdout",
     "output_type": "stream",
     "text": [
      "\n"
     ]
    },
    {
     "name": "stderr",
     "output_type": "stream",
     "text": [
      "Nodes processed: 121 nodes [00:00, 126.47 nodes/s, Current best order = 4]\n"
     ]
    },
    {
     "name": "stdout",
     "output_type": "stream",
     "text": [
      "\n",
      "Elapsed time: 0.834s.\n"
     ]
    },
    {
     "name": "stderr",
     "output_type": "stream",
     "text": [
      "Nodes processed: 83 nodes [00:00, 140.98 nodes/s, Current best order = 4]"
     ]
    },
    {
     "name": "stdout",
     "output_type": "stream",
     "text": [
      "\n",
      "Elapsed time: 0.598s.\n",
      "==================================================\n",
      "Quadratization result\n",
      "==================================================\n",
      "Number of introduced variables: 4\n",
      "Nodes traversed: 83\n",
      "Introduced variables:\n",
      "w_{0} = x0**3\n",
      "w_{1} = x0**3\n",
      "w_{2} = x0*x0'\n",
      "w_{3} = x0**2\n",
      "\n"
     ]
    },
    {
     "name": "stderr",
     "output_type": "stream",
     "text": [
      "\n"
     ]
    }
   ],
   "source": [
    "k, a = parameters(\"k, a\")\n",
    "x0, x1 = functions(\"x0, x1\")\n",
    "\n",
    "eq1 = -k * x0 - a * x0**3\n",
    "system = [\n",
    "    (x1, eq1),\n",
    "    (x0, x1),\n",
    "]\n",
    "\n",
    "quadr_system = polynomialize_and_quadratize(system, input_der_orders={x0: 2})"
   ]
  }
 ],
 "metadata": {
  "kernelspec": {
   "display_name": "base",
   "language": "python",
   "name": "python3"
  },
  "language_info": {
   "codemirror_mode": {
    "name": "ipython",
    "version": 3
   },
   "file_extension": ".py",
   "mimetype": "text/x-python",
   "name": "python",
   "nbconvert_exporter": "python",
   "pygments_lexer": "ipython3",
   "version": "3.9.7"
  },
  "orig_nbformat": 4,
  "vscode": {
   "interpreter": {
    "hash": "40d3a090f54c6569ab1632332b64b2c03c39dcf918b08424e98f38b5ae0af88f"
   }
  }
 },
 "nbformat": 4,
 "nbformat_minor": 2
}
