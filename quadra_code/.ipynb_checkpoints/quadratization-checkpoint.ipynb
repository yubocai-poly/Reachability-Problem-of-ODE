{
 "cells": [
  {
   "cell_type": "markdown",
   "metadata": {},
   "source": [
    "## Quadratization of the system\n",
    "\n",
    "---"
   ]
  },
  {
   "cell_type": "markdown",
   "metadata": {},
   "source": [
    "[[Package page]](https://github.com/AndreyBychkov/QBee/)\n",
    "\n",
    "QBee is a Python library for transforming systems of differential equations into a systems with quadratic right-rand side. \n",
    "\n",
    "Here is a online program version of the packege: [link](https://huggingface.co/spaces/Armaliltril/qbee)"
   ]
  },
  {
   "cell_type": "code",
   "execution_count": 1,
   "metadata": {},
   "outputs": [
    {
     "name": "stderr",
     "output_type": "stream",
     "text": [
      "/Users/yubocai/anaconda3/envs/mlp/lib/python3.9/site-packages/qbee/util.py:6: TqdmExperimentalWarning: Using `tqdm.autonotebook.tqdm` in notebook mode. Use `tqdm.tqdm` instead to force console mode (e.g. in jupyter console)\n",
      "  from tqdm.autonotebook import tqdm\n"
     ]
    }
   ],
   "source": [
    "import sympy as sp\n",
    "from qbee import *\n",
    "\n",
    "sp.init_printing()  # If you work in Jupyter notebook "
   ]
  },
  {
   "cell_type": "markdown",
   "metadata": {},
   "source": [
    "### Example System\n",
    "\n",
    "---\n"
   ]
  },
  {
   "cell_type": "code",
   "execution_count": 2,
   "metadata": {},
   "outputs": [
    {
     "data": {
      "application/vnd.jupyter.widget-view+json": {
       "model_id": "",
       "version_major": 2,
       "version_minor": 0
      },
      "text/plain": [
       "Nodes processed: 0 nodes [00:00, ? nodes/s]"
      ]
     },
     "metadata": {},
     "output_type": "display_data"
    },
    {
     "name": "stdout",
     "output_type": "stream",
     "text": [
      "Introduced variables:\n",
      "w_0 = sin(x**2)\n",
      "w_1 = cos(x**2)\n",
      "\n",
      "x' = w_0 + y\n",
      "y' = w_1 + x\n",
      "w_0' = 2*w_1*x*(w_0 + y)\n",
      "w_1' = -2*w_0*x*(w_0 + y)\n"
     ]
    }
   ],
   "source": [
    "x, y = functions(\"x, y\")\n",
    "\n",
    "system = [\n",
    "    (x, sp.sin(x**2) + y),\n",
    "    (y, sp.cos(x**2) + x)\n",
    "]\n",
    "\n",
    "# Currently, there is no rule to estimate an upper bound for a polynomialization in general,\n",
    "# so you may have to pick it yourself, if the default value is too small;\n",
    "res = polynomialize(system, upper_bound=5)\n",
    "res.print()"
   ]
  },
  {
   "cell_type": "markdown",
   "metadata": {},
   "source": [
    "### System 1\n",
    "\n",
    "---\n",
    "\n",
    "<div style=\"background-color:lightblue;margin:20px;padding:10px;border-radius:10px;border-width:2px;border-color:black;box-shadow:5px 5px;width:96%\">\n",
    "\n",
    "We have the first system that:\n",
    "$$\n",
    "x'=-x+ax^{3}\n",
    "$$\n",
    "\n",
    "</div>"
   ]
  },
  {
   "cell_type": "code",
   "execution_count": 6,
   "metadata": {},
   "outputs": [
    {
     "data": {
      "application/vnd.jupyter.widget-view+json": {
       "model_id": "",
       "version_major": 2,
       "version_minor": 0
      },
      "text/plain": [
       "Nodes processed: 0 nodes [00:00, ? nodes/s]"
      ]
     },
     "metadata": {},
     "output_type": "display_data"
    },
    {
     "data": {
      "application/vnd.jupyter.widget-view+json": {
       "model_id": "",
       "version_major": 2,
       "version_minor": 0
      },
      "text/plain": [
       "Nodes processed: 0 nodes [00:00, ? nodes/s]"
      ]
     },
     "metadata": {},
     "output_type": "display_data"
    }
   ],
   "source": [
    "a = parameters(\"a\")\n",
    "x = functions(\"x\")\n",
    "\n",
    "eq = - x + a * x ** 3\n",
    "system = [(x, eq)]\n",
    "\n",
    "quadr_system = polynomialize_and_quadratize(system, \n",
    "                                            new_vars_name = \"w\")"
   ]
  },
  {
   "cell_type": "code",
   "execution_count": null,
   "metadata": {},
   "outputs": [],
   "source": []
  },
  {
   "cell_type": "markdown",
   "metadata": {},
   "source": [
    "### Expression of the system\n",
    "\n",
    "From the result we have the quadratization:\n",
    "$$\n",
    "y' = -2y+2ay^{2}\n",
    "$$\n",
    "where $y=x^2$, then we have the following system:\n",
    "$$\n",
    "\\begin{cases}\n",
    "y' = -2y+2ay^{2}\\\\\n",
    "x' = -x + axy\n",
    "\\end{cases}\n",
    "$$"
   ]
  },
  {
   "cell_type": "markdown",
   "metadata": {},
   "source": [
    "### System 2\n",
    "\n",
    "---\n",
    "\n",
    "<div style=\"background-color:lightblue;margin:20px;padding:10px;border-radius:10px;border-width:2px;border-color:black;box-shadow:5px 5px;width:96%\">\n",
    "\n",
    "We have the second system of following form:\n",
    "$$\n",
    "x'=-x^{3}\n",
    "$$\n",
    "\n",
    "</div>"
   ]
  },
  {
   "cell_type": "code",
   "execution_count": 4,
   "metadata": {},
   "outputs": [
    {
     "data": {
      "application/vnd.jupyter.widget-view+json": {
       "model_id": "",
       "version_major": 2,
       "version_minor": 0
      },
      "text/plain": [
       "Nodes processed: 0 nodes [00:00, ? nodes/s]"
      ]
     },
     "metadata": {},
     "output_type": "display_data"
    },
    {
     "data": {
      "application/vnd.jupyter.widget-view+json": {
       "model_id": "",
       "version_major": 2,
       "version_minor": 0
      },
      "text/plain": [
       "Nodes processed: 0 nodes [00:00, ? nodes/s]"
      ]
     },
     "metadata": {},
     "output_type": "display_data"
    }
   ],
   "source": [
    "x = functions(\"x\")\n",
    "\n",
    "eq = - x ** 3\n",
    "system = [(x, eq)]\n",
    "\n",
    "quadr_system = polynomialize_and_quadratize(system, \n",
    "                                            new_vars_name = \"w\")"
   ]
  },
  {
   "cell_type": "markdown",
   "metadata": {},
   "source": [
    "### Expression of the system\n",
    "\n",
    "Similarly, we have the following quadratization, where $y=x^2$:\n",
    "$$\n",
    "y' = -2x x' = -2x^4 = -2y^2\n",
    "$$\n",
    "Then we have the following system:\n",
    "$$\n",
    "\\begin{cases}\n",
    "y' = -2y^2\\\\\n",
    "x' = -xy\n",
    "\\end{cases}\n",
    "$$"
   ]
  },
  {
   "cell_type": "markdown",
   "metadata": {},
   "source": [
    "### System 3\n",
    "\n",
    "---\n",
    "\n",
    "<div style=\"background-color:lightblue;margin:20px;padding:10px;border-radius:10px;border-width:2px;border-color:black;box-shadow:5px 5px;width:96%\">\n",
    "\n",
    "We have the third system ([Duffing equation](https://en.wikipedia.org/wiki/Duffing_equation)) of following form:\n",
    "$$\n",
    "x'' = kx+ax^{3}+bx'\n",
    "$$\n",
    "(we set $x_{0}=x$ and $x_{1}=x'$). Then we have the system of the ODEs:\n",
    "$$\n",
    "\\begin{cases}\n",
    "x_{0}'=x_1\\\\\n",
    "x_{1}'=kx_{0}+ax_{0}^{3} + bx_1\n",
    "\\end{cases}\n",
    "$$\n",
    "\n",
    "</div>"
   ]
  },
  {
   "cell_type": "code",
   "execution_count": 5,
   "metadata": {},
   "outputs": [
    {
     "data": {
      "application/vnd.jupyter.widget-view+json": {
       "model_id": "",
       "version_major": 2,
       "version_minor": 0
      },
      "text/plain": [
       "Nodes processed: 0 nodes [00:00, ? nodes/s]"
      ]
     },
     "metadata": {},
     "output_type": "display_data"
    },
    {
     "data": {
      "application/vnd.jupyter.widget-view+json": {
       "model_id": "",
       "version_major": 2,
       "version_minor": 0
      },
      "text/plain": [
       "Nodes processed: 0 nodes [00:00, ? nodes/s]"
      ]
     },
     "metadata": {},
     "output_type": "display_data"
    }
   ],
   "source": [
    "k, a, b = parameters(\"k, a, b\")\n",
    "x0, x1 = functions(\"x0, x1\")\n",
    "\n",
    "eq1 = -k * x0 - a * x0**3 - b * x1\n",
    "system = [\n",
    "    (x1, eq1),\n",
    "    (x0, x1),\n",
    "]\n",
    "\n",
    "quadr_system = polynomialize_and_quadratize(system)"
   ]
  },
  {
   "cell_type": "markdown",
   "metadata": {},
   "source": [
    "### Expression of the system\n",
    "\n",
    "Here we only introduce one new variable $w_{0}=x_{0}^{2}$. Then we got the system of the ODEs:\n",
    "$$\n",
    "\\begin{cases}\n",
    "x_{0}'=x_1\\\\\n",
    "x_{1}'=kx_{0}+ax_{0}w_{0} + bx_{1}\\\\\n",
    "w_{0}' = 2x_{0}x_{0}' = 2x_{0}x_{1}\n",
    "\\end{cases}\n",
    "$$\n"
   ]
  }
 ],
 "metadata": {
  "kernelspec": {
   "display_name": "Python 3",
   "language": "python",
   "name": "python3"
  },
  "language_info": {
   "codemirror_mode": {
    "name": "ipython",
    "version": 3
   },
   "file_extension": ".py",
   "mimetype": "text/x-python",
   "name": "python",
   "nbconvert_exporter": "python",
   "pygments_lexer": "ipython3",
   "version": "3.9.16"
  },
  "vscode": {
   "interpreter": {
    "hash": "40d3a090f54c6569ab1632332b64b2c03c39dcf918b08424e98f38b5ae0af88f"
   }
  }
 },
 "nbformat": 4,
 "nbformat_minor": 2
}
