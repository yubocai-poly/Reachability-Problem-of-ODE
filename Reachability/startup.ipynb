{
 "cells": [
  {
   "cell_type": "code",
   "execution_count": 9,
   "id": "eb0391d3",
   "metadata": {
    "ExecuteTime": {
     "end_time": "2023-02-03T10:08:41.487000+01:00",
     "start_time": "2023-02-03T08:49:35.112Z"
    }
   },
   "outputs": [
    {
     "name": "stderr",
     "output_type": "stream",
     "text": [
      "\u001b[32m\u001b[1m  Activating\u001b[22m\u001b[39m project at `~/Desktop/Ecole Polytechnique/Semester 4/PRL_MAX/Reachability-Problem-of-ODE/Reachability`\n"
     ]
    },
    {
     "name": "stdout",
     "output_type": "stream",
     "text": [
      "Running evaluation...\n",
      ">>> Running Quadratic model\n"
     ]
    },
    {
     "name": "stdout",
     "output_type": "stream",
     "text": [
      "F1 = [-1.0 0.0; 0.0 -1.0]\n"
     ]
    },
    {
     "name": "stdout",
     "output_type": "stream",
     "text": [
      "  0.110279 seconds (96.74 k allocations: 5.501 MiB, 98.42% compilation time)\n",
      "F1 = [-1.0 0.0; 0.0 -1.0]\n",
      "  0.020624 seconds (148.29 k allocations: 11.596 MiB)\n",
      "F1 = [-1.0 0.0; 0.0 -0.4]\n",
      "  0.001278 seconds (15.08 k allocations: 1.200 MiB)\n",
      "F1 = [-1.0 0.0; 0.0 -0.4]\n",
      "  0.018344 seconds (148.29 k allocations: 11.596 MiB)\n",
      "F1 = [-1.0 0.0; 0.0 -0.2]\n",
      "  0.001211 seconds (15.08 k allocations: 1.200 MiB)\n",
      "F1 = [-1.0 0.0; 0.0 -0.2]\n",
      "  0.012877 seconds (148.29 k allocations: 11.596 MiB)\n",
      "result of N=2, Alpha=2.0, No Error: 0.02150209\n",
      "result of N=2, Alpha=5.0, No Error: 0.018909023\n",
      "result of N=2, Alpha=10.0, No Error: 0.01340631\n",
      "F1 = "
     ]
    },
    {
     "name": "stdout",
     "output_type": "stream",
     "text": [
      "[-1.0 0.0; 0.0 -1.0]\n",
      "  0.003049 seconds (8.39 k allocations: 1.567 MiB)\n",
      "F1 = [-1.0 0.0; 0.0 -0.4]\n",
      "  0.004341 seconds (8.39 k allocations: 1.567 MiB)\n",
      "F1 = [-1.0 0.0; 0.0 -0.2]\n",
      "  0.002967 seconds (8.39 k allocations: 1.567 MiB)\n"
     ]
    },
    {
     "name": "stdout",
     "output_type": "stream",
     "text": [
      "Finished running evaluation. Results stored in results\n"
     ]
    }
   ],
   "source": [
    "import Pkg\n",
    "Pkg.activate(@__DIR__)\n",
    "Pkg.instantiate()\n",
    "\n",
    "const TARGET_FOLDER = \"results\"\n",
    "const RESULTS_FILE = \"results.csv\"\n",
    "\n",
    "function main()\n",
    "    if !isdir(TARGET_FOLDER)\n",
    "        mkdir(TARGET_FOLDER)\n",
    "    end\n",
    "    global io = open(joinpath(TARGET_FOLDER, RESULTS_FILE), \"w\")\n",
    "\n",
    "    println(\"Running evaluation...\")\n",
    "\n",
    "    # println(\">>> Running Logistic model\")\n",
    "    # include(\"evaluation/Logistic/Logistic.jl\")\n",
    "\n",
    "    # println(\">>> Running SEIR model\")\n",
    "    # include(\"evaluation/SEIR/SEIR.jl\")\n",
    "\n",
    "    # println(\">>> Running Burgers model\")\n",
    "    # include(\"evaluation/Burgers/Burgers.jl\")\n",
    "\n",
    "    println(\">>> Running Quadratic model\")\n",
    "    include(\"evaluation/Quadra_exmaple/quadra_ODE.jl\")\n",
    "\n",
    "    println(\"Finished running evaluation. Results stored in $TARGET_FOLDER\")\n",
    "    close(io)\n",
    "    nothing\n",
    "end\n",
    "\n",
    "main()"
   ]
  }
 ],
 "metadata": {
  "kernelspec": {
   "display_name": "Julia 1.8.3",
   "language": "julia",
   "name": "julia-1.8"
  },
  "language_info": {
   "file_extension": ".jl",
   "mimetype": "application/julia",
   "name": "julia",
   "version": "1.8.3"
  },
  "toc": {
   "base_numbering": 1,
   "nav_menu": {},
   "number_sections": true,
   "sideBar": true,
   "skip_h1_title": false,
   "title_cell": "Table of Contents",
   "title_sidebar": "Contents",
   "toc_cell": false,
   "toc_position": {},
   "toc_section_display": true,
   "toc_window_display": false
  },
  "varInspector": {
   "cols": {
    "lenName": 16,
    "lenType": 16,
    "lenVar": 40
   },
   "kernels_config": {
    "python": {
     "delete_cmd_postfix": "",
     "delete_cmd_prefix": "del ",
     "library": "var_list.py",
     "varRefreshCmd": "print(var_dic_list())"
    },
    "r": {
     "delete_cmd_postfix": ") ",
     "delete_cmd_prefix": "rm(",
     "library": "var_list.r",
     "varRefreshCmd": "cat(var_dic_list()) "
    }
   },
   "types_to_exclude": [
    "module",
    "function",
    "builtin_function_or_method",
    "instance",
    "_Feature"
   ],
   "window_display": false
  }
 },
 "nbformat": 4,
 "nbformat_minor": 5
}
