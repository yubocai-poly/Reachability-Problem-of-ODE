{
 "cells": [
  {
   "attachments": {},
   "cell_type": "markdown",
   "metadata": {},
   "source": [
    "## The third system example\n",
    "\n",
    "---\n",
    "\n",
    "We have the third system of following form:\n",
    "$$\n",
    "x'' = kx+ax^{3}\n",
    "$$\n",
    "(we set $x_{0}=x$ and $x_{1}=x'$). Then we have the system of the ODEs:\n",
    "$$\n",
    "\\begin{cases}\n",
    "x_{0}'=x_1\\\\\n",
    "x_{1}'=kx_{0}+ax_{0}^{3}\n",
    "\\end{cases}\n",
    "$$\n",
    "Here we only introduce one new variable $w_{0}=x_{0}^{2}$. Then we got the system of the ODEs:\n",
    "$$\n",
    "\\begin{cases}\n",
    "x_{0}'=x_1\\\\\n",
    "x_{1}'=kx_{0}+ax_{0}w_{0}\\\\\n",
    "w_{0}' = 2x_{0}x_{0}' = 2x_{0}x_{1}\n",
    "\\end{cases}\n",
    "$$\n"
   ]
  },
  {
   "attachments": {},
   "cell_type": "markdown",
   "metadata": {},
   "source": [
    "We change the method of quadratization, we have $w_{0}=x_{0}^{2}-mx_{0}$, then we got the new system of the ODEs:\n",
    "$$\n",
    "\\begin{cases}\n",
    "x_{0}'=x_1\\\\\n",
    "x_{1}'= (k+am^{2})x_{0} + amw_{0} + am^{2}x_{0} \\\\ \n",
    "w_{0}' = 2x_{0}x_{1} - mx_{1}\n",
    "\\end{cases}\n",
    "$$\n",
    "Then we got \n",
    "$$\n",
    "F_{1} = \\begin{bmatrix}\n",
    "0 & 1 & 0\\\\\n",
    "(k+am^{2}) & 0 & am^{2}\\\\\n",
    "0 & -m & 0\n",
    "\\end{bmatrix}\n",
    "$$\n",
    "Then we have the eigenvalues of $F_{1}$:\n",
    "$$\n",
    "- \\lambda(\\lambda^{2}+k )=0\n",
    "$$\n"
   ]
  },
  {
   "cell_type": "code",
   "execution_count": null,
   "metadata": {
    "vscode": {
     "languageId": "plaintext"
    }
   },
   "outputs": [],
   "source": []
  }
 ],
 "metadata": {
  "kernelspec": {
   "display_name": "base",
   "language": "python",
   "name": "python3"
  },
  "language_info": {
   "codemirror_mode": {
    "name": "ipython",
    "version": 3
   },
   "file_extension": ".py",
   "mimetype": "text/x-python",
   "name": "python",
   "nbconvert_exporter": "python",
   "pygments_lexer": "ipython3",
   "version": "3.9.7"
  },
  "orig_nbformat": 4
 },
 "nbformat": 4,
 "nbformat_minor": 2
}
