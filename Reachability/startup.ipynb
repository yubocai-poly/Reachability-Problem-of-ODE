{
 "cells": [
  {
   "cell_type": "code",
   "execution_count": 22,
   "id": "eb0391d3",
   "metadata": {
    "ExecuteTime": {
     "end_time": "2023-02-03T10:08:41.487000+01:00",
     "start_time": "2023-02-03T08:49:35.112Z"
    }
   },
   "outputs": [
    {
     "name": "stderr",
     "output_type": "stream",
     "text": [
      "\u001b[32m\u001b[1m  Activating\u001b[22m\u001b[39m project at `~/Desktop/Ecole Polytechnique/Semester 4/PRL_MAX/Reachability-Problem-of-ODE/Reachability`\n"
     ]
    },
    {
     "name": "stdout",
     "output_type": "stream",
     "text": [
      "Running evaluation...\n",
      ">>> Running Quadratic model\n"
     ]
    },
    {
     "name": "stdout",
     "output_type": "stream",
     "text": [
      "  0.173986 seconds (162.07 k allocations: 14.009 MiB, 35.48% gc time, 58.04% compilation time)\n",
      "  0.011598 seconds (77.92 k allocations: 9.650 MiB)\n",
      "  0.012277 seconds (77.92 k allocations: 9.650 MiB)\n"
     ]
    },
    {
     "name": "stdout",
     "output_type": "stream",
     "text": [
      "  0.211491 seconds (372.99 k allocations: 24.089 MiB, 87.51% compilation time)\n",
      "  0.015255 seconds (77.91 k allocations: 9.582 MiB)\n",
      "  0.022058 seconds (136.96 k allocations: 12.402 MiB)\n",
      "  0.016905 seconds (77.91 k allocations: 9.582 MiB)\n",
      "  0.034740 seconds (136.96 k allocations: 12.402 MiB)\n",
      "Finished running evaluation. Results stored in results\n"
     ]
    }
   ],
   "source": [
    "import Pkg\n",
    "Pkg.activate(@__DIR__)\n",
    "Pkg.instantiate()\n",
    "\n",
    "const TARGET_FOLDER = \"results\"\n",
    "const RESULTS_FILE = \"results.csv\"\n",
    "\n",
    "function main()\n",
    "    if !isdir(TARGET_FOLDER)\n",
    "        mkdir(TARGET_FOLDER)\n",
    "    end\n",
    "    global io = open(joinpath(TARGET_FOLDER, RESULTS_FILE), \"w\")\n",
    "\n",
    "    println(\"Running evaluation...\")\n",
    "    println(\">>> Running Quadratic model\")\n",
    "    include(\"evaluation/Quadra_exmaple/quadra_reachability.jl\")\n",
    "\n",
    "    println(\"Finished running evaluation. Results stored in $TARGET_FOLDER\")\n",
    "    close(io)\n",
    "    nothing\n",
    "end\n",
    "\n",
    "main()"
   ]
  }
 ],
 "metadata": {
  "kernelspec": {
   "display_name": "Julia 1.8.3",
   "language": "julia",
   "name": "julia-1.8"
  },
  "language_info": {
   "file_extension": ".jl",
   "mimetype": "application/julia",
   "name": "julia",
   "version": "1.8.3"
  },
  "toc": {
   "base_numbering": 1,
   "nav_menu": {},
   "number_sections": true,
   "sideBar": true,
   "skip_h1_title": false,
   "title_cell": "Table of Contents",
   "title_sidebar": "Contents",
   "toc_cell": false,
   "toc_position": {},
   "toc_section_display": true,
   "toc_window_display": false
  },
  "varInspector": {
   "cols": {
    "lenName": 16,
    "lenType": 16,
    "lenVar": 40
   },
   "kernels_config": {
    "python": {
     "delete_cmd_postfix": "",
     "delete_cmd_prefix": "del ",
     "library": "var_list.py",
     "varRefreshCmd": "print(var_dic_list())"
    },
    "r": {
     "delete_cmd_postfix": ") ",
     "delete_cmd_prefix": "rm(",
     "library": "var_list.r",
     "varRefreshCmd": "cat(var_dic_list()) "
    }
   },
   "types_to_exclude": [
    "module",
    "function",
    "builtin_function_or_method",
    "instance",
    "_Feature"
   ],
   "window_display": false
  }
 },
 "nbformat": 4,
 "nbformat_minor": 5
}
