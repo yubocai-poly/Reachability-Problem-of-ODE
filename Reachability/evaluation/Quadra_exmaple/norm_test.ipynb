{
 "cells": [
  {
   "attachments": {},
   "cell_type": "markdown",
   "metadata": {},
   "source": [
    "## Norm Testing for $\\|x_{0}\\|$ and $\\|F_{2}\\|$\n",
    "\n",
    "---"
   ]
  },
  {
   "cell_type": "code",
   "execution_count": 3,
   "metadata": {},
   "outputs": [
    {
     "data": {
      "text/plain": [
       "norm_test (generic function with 1 method)"
      ]
     },
     "execution_count": 3,
     "metadata": {},
     "output_type": "execute_result"
    }
   ],
   "source": [
    "# =================\n",
    "# Dependencies\n",
    "# =================\n",
    "\n",
    "using ReachabilityAnalysis, CarlemanLinearization\n",
    "using Plots, LaTeXStrings, LinearAlgebra, SparseArrays\n",
    "using Plots.PlotMeasures\n",
    "using LazySets: center\n",
    "using CarlemanLinearization: _error_bound_specabs_R\n",
    "\n",
    "include(\"../utils.jl\")\n",
    "\n",
    "function system_carlin(a, alpha)\n",
    "\n",
    "  F1 = zeros(2, 2)\n",
    "  F1[1, 1] = -1\n",
    "  F1[2, 2] = -2 / alpha\n",
    "\n",
    "  F2 = zeros(2, 4) # [x, x⊗x]\n",
    "  F2[1, 2] = 8 * a / alpha\n",
    "  F2[2, 4] = 9\n",
    "\n",
    "  return F1, F2\n",
    "end\n",
    "\n",
    "function norm_test(; alpha, a, x0, x1)\n",
    "  x0c = [x0, x1]\n",
    "\n",
    "  F1, F2 = system_carlin(a, alpha)\n",
    "  R, Re_lambda1 = _error_bound_specabs_R(x0c, F1, F2; check=true)\n",
    "\n",
    "  return R, Re_lambda1\n",
    "\n",
    "end"
   ]
  },
  {
   "cell_type": "code",
   "execution_count": 22,
   "metadata": {},
   "outputs": [
    {
     "name": "stdout",
     "output_type": "stream",
     "text": [
      "test_x0_1 = (1.019803902718557, -1.0)\n",
      "test_x0_2 = (2.009975124224178, -1.0)\n",
      "test_x0_3 = (1.077032961426901, -1.0)\n",
      "test_x0_4 = (2.039607805437114, -1.0)\n",
      "ratio for test_x0_2 to test_x0_1 = 1.9709427654336855\n",
      "ratio of norm 2 = 1.9709427654336855\n",
      "----------------\n",
      "ratio for test_x0_3 to test_x0_1 = 1.0561177090573832\n",
      "ratio of norm 2 = 1.0561177090573832\n"
     ]
    }
   ],
   "source": [
    "test_x0_1 = norm_test(a=1, x0=0.5, x1=0.1)\n",
    "test_x0_2 = norm_test(a=1, x0=0.5, x1=0.1)\n",
    "test_x0_3 = norm_test(a=1, x0=0.5, x1=0.1)\n",
    "test_x0_4 = norm_test(a=1, x0=1.0, x1=0.2)\n",
    "println(\"test_x0_1 = \", test_x0_1)\n",
    "println(\"test_x0_2 = \", test_x0_2)\n",
    "println(\"test_x0_3 = \", test_x0_3)\n",
    "println(\"test_x0_4 = \", test_x0_4)\n",
    "println(\"ratio for test_x0_2 to test_x0_1 = \", test_x0_2[1] / test_x0_1[1])\n",
    "println(\"ratio of norm 2 = \", sqrt(1.0 * 1.0 + 0.1 * 0.1) / sqrt(0.5 * 0.5 + 0.1 * 0.1))\n",
    "println(\"----------------\")\n",
    "println(\"ratio for test_x0_3 to test_x0_1 = \", test_x0_3[1] / test_x0_1[1])\n",
    "println(\"ratio of norm 2 = \", sqrt(0.5 * 0.5 + 0.2 * 0.2) / sqrt(0.5 * 0.5 + 0.1 * 0.1))"
   ]
  },
  {
   "attachments": {},
   "cell_type": "markdown",
   "metadata": {},
   "source": [
    "### Testing for $\\|x_{0}\\|$"
   ]
  },
  {
   "attachments": {},
   "cell_type": "markdown",
   "metadata": {},
   "source": [
    "we have for $R$:\n",
    "$$\n",
    "R:=\\frac{\\lVert X_0 \\rVert \\lVert F_2 \\rVert}{\\left|\\Re\\left(\\lambda_1\\right)\\right|} \n",
    "$$\n",
    "We denote $X_0=[x_{0}, y_{0}]$, We got:\n",
    "$$\n",
    "\\frac{R'}{R} = \\frac{\\|X_{0}'\\|}{\\|X_{0}\\|} = \\frac{\\|[x_{0}', y_{0}']\\|}{\\|[x_{0}, y_{0}]\\|}\n",
    "$$\n",
    "From the result of the previous section, we can see that the norm is $l_{2}-norm$ with following definition:\n",
    "$$\n",
    "\\|A\\|_2=\\left|\\mathrm{u} A A^*\\right|^{1 / 2}=\\left(\\sum_{i, j=1}^n\\left|a_{i j}\\right|^2\\right)^{1 / 2}\n",
    "$$\n"
   ]
  },
  {
   "attachments": {},
   "cell_type": "markdown",
   "metadata": {},
   "source": [
    "### Testing for $\\|F_{2}\\|$"
   ]
  },
  {
   "attachments": {},
   "cell_type": "markdown",
   "metadata": {},
   "source": [
    "For the same method, we know that the norm is infinity norm with following definition, the $l_{\\infty}-norm$ defined for $A \\in M_{n}$ by:\n",
    "$$\n",
    "\\|A\\|_{\\infty}=\\max _{1 \\leq i, j \\leq n}\\left|a_{i j}\\right|\n",
    "$$"
   ]
  },
  {
   "cell_type": "code",
   "execution_count": 5,
   "metadata": {},
   "outputs": [
    {
     "data": {
      "text/plain": [
       "norm_test (generic function with 1 method)"
      ]
     },
     "execution_count": 5,
     "metadata": {},
     "output_type": "execute_result"
    }
   ],
   "source": [
    "function system_carlin(a)\n",
    "\n",
    "  F1 = zeros(2, 2)\n",
    "  F1[1, 1] = a\n",
    "  F1[2, 2] = 2 * a\n",
    "\n",
    "  F2 = zeros(2, 4) # [x, x⊗x]\n",
    "  F2[1, 2] = -1\n",
    "  F2[2, 1] = -2 * a\n",
    "  F2[2, 4] = -2\n",
    "\n",
    "  return F1, F2\n",
    "end\n",
    "\n",
    "function norm_test(; a, x0, x1)\n",
    "  x0c = [x0, x1]\n",
    "\n",
    "  F1, F2 = system_carlin(a)\n",
    "  R, Re_lambda1 = _error_bound_specabs_R(x0c, F1, F2; check=true)\n",
    "\n",
    "  return R, Re_lambda1, norm(x0c, Inf), opnorm(F2, 2)\n",
    "\n",
    "end"
   ]
  },
  {
   "cell_type": "code",
   "execution_count": 7,
   "metadata": {},
   "outputs": [
    {
     "name": "stdout",
     "output_type": "stream",
     "text": [
      "test_x0_1 = (1.4422205101855958, -1.0, 0.5, 2.8284271247461903)\n",
      "test_x0_2 = (5.000000000000001, -2.0, 2.0, 4.47213595499958)\n",
      "test_x0_3 = (1.07496769977314, -3.0, 0.5, 6.324555320336759)\n",
      "test_x0_4 = (1.0248902380255165, -10.0, 0.5, 20.09975124224178)\n"
     ]
    }
   ],
   "source": [
    "test_x0_1 = norm_test(a=-1, x0=0.5, x1=0.1)\n",
    "test_x0_2 = norm_test(a=-2, x0=1.0, x1=2.0)\n",
    "test_x0_3 = norm_test(a=-3, x0=0.5, x1=0.1)\n",
    "test_x0_4 = norm_test(a=-10, x0=0.5, x1=0.1)\n",
    "println(\"test_x0_1 = \", test_x0_1)\n",
    "println(\"test_x0_2 = \", test_x0_2)\n",
    "println(\"test_x0_3 = \", test_x0_3)\n",
    "println(\"test_x0_4 = \", test_x0_4)\n",
    "# println(\"ratio for test_x0_2 to test_x0_1 = \", test_x0_2[1] / test_x0_1[1])\n",
    "# println(\"ratio of norm 2 = \", sqrt(1.0 * 1.0 + 0.1 * 0.1) / sqrt(0.5 * 0.5 + 0.1 * 0.1))\n",
    "# println(\"----------------\")\n",
    "# println(\"ratio for test_x0_3 to test_x0_1 = \", test_x0_3[1] / test_x0_1[1])\n",
    "# println(\"ratio of norm 2 = \", sqrt(0.5 * 0.5 + 0.2 * 0.2) / sqrt(0.5 * 0.5 + 0.1 * 0.1))"
   ]
  }
 ],
 "metadata": {
  "kernelspec": {
   "display_name": "Julia 1.8.3",
   "language": "julia",
   "name": "julia-1.8"
  },
  "language_info": {
   "file_extension": ".jl",
   "mimetype": "application/julia",
   "name": "julia",
   "version": "1.8.3"
  },
  "orig_nbformat": 4
 },
 "nbformat": 4,
 "nbformat_minor": 2
}
