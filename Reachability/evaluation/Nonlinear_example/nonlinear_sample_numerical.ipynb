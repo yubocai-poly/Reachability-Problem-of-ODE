{
 "cells": [
  {
   "attachments": {},
   "cell_type": "markdown",
   "metadata": {},
   "source": [
    "## Nonlinear Sample (Example 2)\n",
    "\n",
    "---"
   ]
  },
  {
   "cell_type": "code",
   "execution_count": 2,
   "metadata": {},
   "outputs": [],
   "source": [
    "import numpy as np\n",
    "import sympy as sym\n",
    "import matplotlib.pyplot as plt\n",
    "from math import *\n",
    "from scipy import integrate\n",
    "sym.init_printing()"
   ]
  },
  {
   "attachments": {},
   "cell_type": "markdown",
   "metadata": {},
   "source": [
    "We have the second system of following form:\n",
    "$$\n",
    "x'=-x^{3}\n",
    "$$\n",
    "Normally, we have the following quadratization, where $y=x^2$:\n",
    "$$\n",
    "y' = -2x x' = -2x^4 = -2y^2\n",
    "$$\n",
    "Then we have the following system:\n",
    "$$\n",
    "\\begin{cases}\n",
    "y' = -2y^2\\\\\n",
    "x' = -xy\n",
    "\\end{cases}\n",
    "$$\n",
    "However, we can see that **there is no linear part**, we can change $y=x^2+a \\Rightarrow a = y - x^{2}$, then we have the following system:\n",
    "$$\n",
    "x' = -x^{3} = -x(y-a) = -xy +ax\n",
    "$$\n",
    "$$\n",
    "\\begin{aligned}\n",
    "y' &= 2xx' = 2x(-x^3) - 2x^{4} \\\\\n",
    "&= -2(y-a)^{2} = -2y^{2} _ 4ay - 2a^{2} \\\\\n",
    "&= -2y^{2} + 4ay - 2a(y-x^{2})\\\\\n",
    "&= -2y^{2} + 4ay - 2ax^{2} - 2ay \\\\\n",
    "&= -2y^{2} + 2ax^{2} +2ay \n",
    "\\end{aligned}\n",
    "$$\n",
    "Then we can finalize the system as following:\n",
    "$$\n",
    "\\begin{cases}\n",
    "y' = -2y^2\\ + 2ax^{2} + 2ay\\\\\n",
    "x' = -xy + ax\n",
    "\\end{cases}\n",
    "$$"
   ]
  },
  {
   "cell_type": "code",
   "execution_count": 102,
   "metadata": {},
   "outputs": [
    {
     "data": {
      "image/png": "[encoded data removed]",
      "text/plain": [
       "<Figure size 720x504 with 1 Axes>"
      ]
     },
     "metadata": {
      "needs_background": "light"
     },
     "output_type": "display_data"
    }
   ],
   "source": [
    "def dx_dt(x, t):  # 定义函数 f(y,t)\n",
    "    return - x ** 3\n",
    "  \n",
    "x0 = 1.0  # initial condition\n",
    "t = np.linspace(0, 1, 1000)  \n",
    "x = integrate.odeint(dx_dt, x0, t)  # numerical solution\n",
    "\n",
    "plt.figure(figsize=(10, 7))\n",
    "plt.plot(t, x)  \n",
    "plt.xlabel('t')\n",
    "plt.ylabel('x(t)')\n",
    "plt.title(r'Numerical Graph of $x(t) = -x^3$')\n",
    "plt.show() "
   ]
  },
  {
   "cell_type": "code",
   "execution_count": 103,
   "metadata": {},
   "outputs": [
    {
     "data": {
      "text/latex": [
       "$\\displaystyle \\frac{d}{d t} x{\\left(t \\right)} = - x^{3}{\\left(t \\right)}$"
      ],
      "text/plain": [
       "d            3   \n",
       "──(x(t)) = -x (t)\n",
       "dt               "
      ]
     },
     "metadata": {},
     "output_type": "display_data"
    },
    {
     "data": {
      "text/latex": [
       "$\\displaystyle \\left[ x{\\left(t \\right)} = - \\frac{\\sqrt{2} \\sqrt{- \\frac{1}{C_{1} - t}}}{2}, \\  x{\\left(t \\right)} = \\frac{\\sqrt{2} \\sqrt{- \\frac{1}{C_{1} - t}}}{2}\\right]$"
      ],
      "text/plain": [
       "⎡               ________                 ________⎤\n",
       "⎢              ╱  -1                    ╱  -1    ⎥\n",
       "⎢       -√2⋅  ╱  ──────           √2⋅  ╱  ────── ⎥\n",
       "⎢           ╲╱   C₁ - t              ╲╱   C₁ - t ⎥\n",
       "⎢x(t) = ─────────────────, x(t) = ───────────────⎥\n",
       "⎣               2                        2       ⎦"
      ]
     },
     "metadata": {},
     "output_type": "display_data"
    },
    {
     "name": "stdout",
     "output_type": "stream",
     "text": [
      "----------------- The first equation (right hands) -----------------\n"
     ]
    },
    {
     "data": {
      "text/latex": [
       "$\\displaystyle - \\frac{\\sqrt{2} \\sqrt{- \\frac{1}{C_{1} - t}}}{2}$"
      ],
      "text/plain": [
       "        ________ \n",
       "       ╱  -1     \n",
       "-√2⋅  ╱  ──────  \n",
       "    ╲╱   C₁ - t  \n",
       "─────────────────\n",
       "        2        "
      ]
     },
     "metadata": {},
     "output_type": "display_data"
    },
    {
     "name": "stdout",
     "output_type": "stream",
     "text": [
      "----------------- The second equation (right hands) -----------------\n"
     ]
    },
    {
     "data": {
      "text/latex": [
       "$\\displaystyle \\frac{\\sqrt{2} \\sqrt{- \\frac{1}{C_{1} - t}}}{2}$"
      ],
      "text/plain": [
       "       ________\n",
       "      ╱  -1    \n",
       "√2⋅  ╱  ────── \n",
       "   ╲╱   C₁ - t \n",
       "───────────────\n",
       "       2       "
      ]
     },
     "metadata": {},
     "output_type": "display_data"
    },
    {
     "data": {
      "text/latex": [
       "$\\displaystyle \\frac{\\sqrt{2} \\sqrt{- \\frac{1}{1 - t}}}{2}$"
      ],
      "text/plain": [
       "       _______\n",
       "      ╱  -1   \n",
       "√2⋅  ╱  ───── \n",
       "   ╲╱   1 - t \n",
       "──────────────\n",
       "      2       "
      ]
     },
     "metadata": {},
     "output_type": "display_data"
    },
    {
     "name": "stderr",
     "output_type": "stream",
     "text": [
      "<lambdifygenerated-57>:2: RuntimeWarning: divide by zero encountered in true_divide\n",
      "  return (1/2)*sqrt(2)*sqrt(-1/(1 - t))\n",
      "<lambdifygenerated-57>:2: RuntimeWarning: invalid value encountered in sqrt\n",
      "  return (1/2)*sqrt(2)*sqrt(-1/(1 - t))\n"
     ]
    },
    {
     "data": {
      "image/png": "[encoded data removed]",
      "text/plain": [
       "<Figure size 720x504 with 1 Axes>"
      ]
     },
     "metadata": {
      "needs_background": "light"
     },
     "output_type": "display_data"
    }
   ],
   "source": [
    "t = sym.Symbol('t')\n",
    "x = sym.Function('x')(t)\n",
    "\n",
    "# Define the system of ODEs\n",
    "eq1 = sym.Eq(x.diff(t), -x**3)\n",
    "display(eq1)\n",
    "sol = sym.dsolve(eq1)\n",
    "\n",
    "display(sol)\n",
    "print('----------------- The first equation (right hands) -----------------')\n",
    "display(sol[0].rhs)\n",
    "print('----------------- The second equation (right hands) -----------------')\n",
    "display(sol[1].rhs)\n",
    "\n",
    "# plot the solution\n",
    "expr = sol[1].rhs\n",
    "C1 = sym.Symbol('C1')\n",
    "expr_init = expr.subs(C1, 1)\n",
    "display(expr_init)\n",
    "\n",
    "# convert the expression to a function that can be used with numpy arrays\n",
    "expr_init_func = sym.lambdify(t, expr_init, 'numpy')\n",
    "\n",
    "# plot the graph of expr_init\n",
    "t_vals = np.linspace(0, 1.5, 1000)\n",
    "x_vals = expr_init_func(t_vals)\n",
    "\n",
    "plt.figure(figsize=(10, 7))\n",
    "plt.title(r'Numerical Graph of $x(t) = -x^3$')\n",
    "plt.plot(t_vals, x_vals, 'b-', label=r'$x = \\frac{\\sqrt{2}}{2} \\sqrt{-\\frac{1}{1-t}}$')\n",
    "plt.plot(t_vals, -x_vals, 'r-', label=r'$x = - \\frac{\\sqrt{2}}{2} \\sqrt{-\\frac{1}{1-t}}$')\n",
    "plt.plot([1.0, 1.5], [0, 0], 'k--')\n",
    "plt.xlabel('t')\n",
    "plt.ylabel('x(t)')\n",
    "plt.legend(loc='best')\n",
    "plt.show()"
   ]
  },
  {
   "attachments": {},
   "cell_type": "markdown",
   "metadata": {},
   "source": [
    "### Solving the equation $x' = -x^{3}$\n",
    "\n",
    "---\n",
    "\n",
    "We can solve it by seperating the variables, then we have the following equation:\n",
    "$$\n",
    "x'(t) = -x(t)^3\n",
    "$$\n",
    "divided by $x(t)^3$, we have:\n",
    "$$\n",
    "\\frac{1}{x(t)^3} \\frac{dx}{dt} = -1\n",
    "$$\n",
    "Then we take integral on both sides:\n",
    "$$\n",
    "\\int \\frac{1}{x(t)^3} dx = \\int -1 dt\n",
    "$$\n",
    "Then we get:\n",
    "$$\n",
    "-\\frac{1}{2x^{2}} + C= -t \n",
    "$$\n",
    "Finally, we get:\n",
    "$$\n",
    "x= \\pm \\sqrt{\\frac{1}{2 C+2 t}} = \\pm \\frac{\\sqrt{2}}{2} \\sqrt{\\frac{1}{C+ t}}\n",
    "$$"
   ]
  },
  {
   "attachments": {},
   "cell_type": "markdown",
   "metadata": {},
   "source": [
    "### Compute the SVD decomposition of $F_2$\n",
    "\n",
    "---"
   ]
  },
  {
   "cell_type": "code",
   "execution_count": 34,
   "metadata": {},
   "outputs": [
    {
     "data": {
      "text/plain": [
       "array([[ 1,  0],\n",
       "       [ 0, 40]])"
      ]
     },
     "metadata": {},
     "output_type": "display_data"
    },
    {
     "data": {
      "text/plain": [
       "array([[ 36,   0,   0, -12],\n",
       "       [  0,   1,   0,   0],\n",
       "       [  0,   0,   0,   0],\n",
       "       [-12,   0,   0,   4]])"
      ]
     },
     "metadata": {},
     "output_type": "display_data"
    },
    {
     "name": "stdout",
     "output_type": "stream",
     "text": [
      "----------------- The eigenvalues of AAT -----------------\n"
     ]
    },
    {
     "data": {
      "text/plain": [
       "array([ 1., 40.])"
      ]
     },
     "metadata": {},
     "output_type": "display_data"
    },
    {
     "name": "stdout",
     "output_type": "stream",
     "text": [
      "----------------- The eigenvectors of AAT -----------------\n"
     ]
    },
    {
     "data": {
      "text/plain": [
       "array([[1., 0.],\n",
       "       [0., 1.]])"
      ]
     },
     "metadata": {},
     "output_type": "display_data"
    },
    {
     "name": "stdout",
     "output_type": "stream",
     "text": [
      "----------------- The eigenvalues of ATA -----------------\n"
     ]
    },
    {
     "data": {
      "text/plain": [
       "array([40.,  0.,  1.,  0.])"
      ]
     },
     "metadata": {},
     "output_type": "display_data"
    },
    {
     "name": "stdout",
     "output_type": "stream",
     "text": [
      "----------------- The eigenvectors of ATA -----------------\n"
     ]
    },
    {
     "data": {
      "text/plain": [
       "array([[ 0.9486833 ,  0.31622777,  0.        ,  0.        ],\n",
       "       [ 0.        ,  0.        ,  1.        ,  0.        ],\n",
       "       [ 0.        ,  0.        ,  0.        ,  1.        ],\n",
       "       [-0.31622777,  0.9486833 ,  0.        ,  0.        ]])"
      ]
     },
     "metadata": {},
     "output_type": "display_data"
    }
   ],
   "source": [
    "# Define symbol\n",
    "a = sym.Symbol('a')\n",
    "\n",
    "# Define matrix A\n",
    "a = 3\n",
    "A = np.array([[0, -1, 0, 0], [-2*a, 0, 0, 2]])\n",
    "A_AT = A @ A.T\n",
    "AT_A = A.T @ A\n",
    "display(A_AT)\n",
    "display(AT_A)\n",
    "\n",
    "eigenvalue1, eigenvector1 = np.linalg.eig(A_AT)\n",
    "eigenvalue2, eigenvector2 = np.linalg.eig(AT_A)\n",
    "\n",
    "print('----------------- The eigenvalues of AAT -----------------')\n",
    "display(eigenvalue1)\n",
    "print('----------------- The eigenvectors of AAT -----------------')\n",
    "display(eigenvector1)\n",
    "print('----------------- The eigenvalues of ATA -----------------')\n",
    "display(eigenvalue2)\n",
    "print('----------------- The eigenvectors of ATA -----------------')\n",
    "display(eigenvector2)\n",
    "\n",
    "\n"
   ]
  }
 ],
 "metadata": {
  "kernelspec": {
   "display_name": "base",
   "language": "python",
   "name": "python3"
  },
  "language_info": {
   "codemirror_mode": {
    "name": "ipython",
    "version": 3
   },
   "file_extension": ".py",
   "mimetype": "text/x-python",
   "name": "python",
   "nbconvert_exporter": "python",
   "pygments_lexer": "ipython3",
   "version": "3.9.7"
  },
  "orig_nbformat": 4,
  "vscode": {
   "interpreter": {
    "hash": "40d3a090f54c6569ab1632332b64b2c03c39dcf918b08424e98f38b5ae0af88f"
   }
  }
 },
 "nbformat": 4,
 "nbformat_minor": 2
}
