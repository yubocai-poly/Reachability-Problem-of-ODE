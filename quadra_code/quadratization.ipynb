{
 "cells": [
  {
   "attachments": {},
   "cell_type": "markdown",
   "metadata": {},
   "source": [
    "## Quadratization of the system\n",
    "\n",
    "---"
   ]
  },
  {
   "attachments": {},
   "cell_type": "markdown",
   "metadata": {},
   "source": [
    "[[Package page]](https://github.com/AndreyBychkov/QBee/)\n",
    "\n",
    "QBee is a Python library for transforming systems of differential equations into a systems with quadratic right-rand side. \n",
    "\n",
    "Here is a online program version of the packege: [link](https://huggingface.co/spaces/Armaliltril/qbee)"
   ]
  },
  {
   "cell_type": "code",
   "execution_count": 11,
   "metadata": {},
   "outputs": [],
   "source": [
    "import sympy\n",
    "from qbee import *\n",
    "\n",
    "sympy.init_printing()  # If you work in Jupyter notebook "
   ]
  },
  {
   "attachments": {},
   "cell_type": "markdown",
   "metadata": {},
   "source": [
    "### Example System\n",
    "\n",
    "---\n"
   ]
  },
  {
   "cell_type": "code",
   "execution_count": 13,
   "metadata": {},
   "outputs": [
    {
     "name": "stdout",
     "output_type": "stream",
     "text": [
      "x' = w_{1} + y\n",
      "y' = w_{0} + x\n",
      "w_{0}' = -2*w_{1}*x*(w_{1} + y)\n",
      "w_{1}' = 2*w_{0}*x*(w_{1} + y)\n"
     ]
    }
   ],
   "source": [
    "x, y = functions(\"x, y\")\n",
    "\n",
    "system = [\n",
    "    (x, sp.sin(x**2) + y),\n",
    "    (y, sp.cos(x**2) + x)\n",
    "]\n",
    "\n",
    "# Currently, there is no rule to estimate an upper bound for a polynomialization in general,\n",
    "# so you may have to pick it yourself, if the default value is too small;\n",
    "res = polynomialize(system, upper_bound=5)\n",
    "res.print()"
   ]
  },
  {
   "attachments": {},
   "cell_type": "markdown",
   "metadata": {},
   "source": [
    "### System 1\n",
    "\n",
    "---\n",
    "\n",
    "<div style=\"background-color:lightblue;margin:20px;padding:10px;border-radius:10px;border-width:2px;border-color:black;box-shadow:5px 5px;width:96%\">\n",
    "\n",
    "We have the first system that:\n",
    "$$\n",
    "x'=-x+ax^{3}\n",
    "$$\n",
    "\n",
    "</div>"
   ]
  },
  {
   "cell_type": "code",
   "execution_count": 5,
   "metadata": {},
   "outputs": [
    {
     "name": "stdout",
     "output_type": "stream",
     "text": [
      "Current spatial time derivatives equations:\n",
      "...\n",
      "\n",
      "Variables introduced in polynomialization:\n",
      "\n",
      "\n",
      "Elapsed time: 0.002s.\n"
     ]
    },
    {
     "data": {
      "application/vnd.jupyter.widget-view+json": {
       "model_id": "75bdfd8620864021a9291846b118bdb6",
       "version_major": 2,
       "version_minor": 0
      },
      "text/plain": [
       "Nodes processed: 0 nodes [00:00, ? nodes/s]"
      ]
     },
     "metadata": {},
     "output_type": "display_data"
    },
    {
     "name": "stdout",
     "output_type": "stream",
     "text": [
      "\n",
      "Elapsed time: 0.015s.\n",
      "==================================================\n",
      "Quadratization result\n",
      "==================================================\n",
      "Number of introduced variables: 1\n",
      "Nodes traversed: 3\n",
      "Introduced variables:\n",
      "w{0} = x**2\n",
      "\n"
     ]
    }
   ],
   "source": [
    "a = parameters(\"a\")\n",
    "x = functions(\"x\")\n",
    "\n",
    "eq = - x + a * x ** 3\n",
    "system = [(x, eq)]\n",
    "\n",
    "quadr_system = polynomialize_and_quadratize(system, \n",
    "                                            new_vars_name = \"w\")"
   ]
  },
  {
   "attachments": {},
   "cell_type": "markdown",
   "metadata": {},
   "source": [
    "### Expression of the system\n",
    "\n",
    "From the result we have the quadratization:\n",
    "$$\n",
    "y' = -2y+2ay^{2}\n",
    "$$\n",
    "where $y=x^2$, then we have the following system:\n",
    "$$\n",
    "\\begin{cases}\n",
    "y' = -2y+2ay^{2}\\\\\n",
    "x' = -x + axy\n",
    "\\end{cases}\n",
    "$$"
   ]
  },
  {
   "attachments": {},
   "cell_type": "markdown",
   "metadata": {},
   "source": [
    "### System 2\n",
    "\n",
    "---\n",
    "\n",
    "<div style=\"background-color:lightblue;margin:20px;padding:10px;border-radius:10px;border-width:2px;border-color:black;box-shadow:5px 5px;width:96%\">\n",
    "\n",
    "We have the second system of following form:\n",
    "$$\n",
    "x'=-x^{3}\n",
    "$$\n",
    "\n",
    "</div>"
   ]
  },
  {
   "cell_type": "code",
   "execution_count": 6,
   "metadata": {},
   "outputs": [
    {
     "name": "stdout",
     "output_type": "stream",
     "text": [
      "Current spatial time derivatives equations:\n",
      "...\n",
      "\n",
      "Variables introduced in polynomialization:\n"
     ]
    },
    {
     "data": {
      "application/vnd.jupyter.widget-view+json": {
       "model_id": "983bb03b166241848c06736dbab2a898",
       "version_major": 2,
       "version_minor": 0
      },
      "text/plain": [
       "Nodes processed: 0 nodes [00:00, ? nodes/s]"
      ]
     },
     "metadata": {},
     "output_type": "display_data"
    },
    {
     "name": "stdout",
     "output_type": "stream",
     "text": [
      "\n",
      "\n",
      "Elapsed time: 0.002s.\n"
     ]
    },
    {
     "data": {
      "application/vnd.jupyter.widget-view+json": {
       "model_id": "83fc41e267a74bedbe9deac174d0e7b3",
       "version_major": 2,
       "version_minor": 0
      },
      "text/plain": [
       "Nodes processed: 0 nodes [00:00, ? nodes/s]"
      ]
     },
     "metadata": {},
     "output_type": "display_data"
    },
    {
     "name": "stdout",
     "output_type": "stream",
     "text": [
      "\n",
      "Elapsed time: 0.014s.\n",
      "==================================================\n",
      "Quadratization result\n",
      "==================================================\n",
      "Number of introduced variables: 1\n",
      "Nodes traversed: 3\n",
      "Introduced variables:\n",
      "w{0} = x**2\n",
      "\n"
     ]
    }
   ],
   "source": [
    "x = functions(\"x\")\n",
    "\n",
    "eq = - x ** 3\n",
    "system = [(x, eq)]\n",
    "\n",
    "quadr_system = polynomialize_and_quadratize(system, \n",
    "                                            new_vars_name = \"w\")"
   ]
  },
  {
   "attachments": {},
   "cell_type": "markdown",
   "metadata": {},
   "source": [
    "### Expression of the system\n",
    "\n",
    "Similarly, we have the following quadratization, where $y=x^2$:\n",
    "$$\n",
    "y' = -2x x' = -2x^4 = -2y^2\n",
    "$$\n",
    "Then we have the following system:\n",
    "$$\n",
    "\\begin{cases}\n",
    "y' = -2y^2\\\\\n",
    "x' = -xy\n",
    "\\end{cases}\n",
    "$$"
   ]
  },
  {
   "attachments": {},
   "cell_type": "markdown",
   "metadata": {},
   "source": [
    "### System 3\n",
    "\n",
    "---\n",
    "\n",
    "<div style=\"background-color:lightblue;margin:20px;padding:10px;border-radius:10px;border-width:2px;border-color:black;box-shadow:5px 5px;width:96%\">\n",
    "\n",
    "We have the third system ([Duffing equation](https://en.wikipedia.org/wiki/Duffing_equation)) of following form:\n",
    "$$\n",
    "x'' = kx+ax^{3}+bx'\n",
    "$$\n",
    "(we set $x_{0}=x$ and $x_{1}=x'$). Then we have the system of the ODEs:\n",
    "$$\n",
    "\\begin{cases}\n",
    "x_{0}'=x_1\\\\\n",
    "x_{1}'=kx_{0}+ax_{0}^{3} + bx_1\n",
    "\\end{cases}\n",
    "$$\n",
    "\n",
    "</div>"
   ]
  },
  {
   "cell_type": "code",
   "execution_count": 7,
   "metadata": {},
   "outputs": [
    {
     "name": "stdout",
     "output_type": "stream",
     "text": [
      "Current spatial time derivatives equations:\n",
      "...\n",
      "\n",
      "Variables introduced in polynomialization:\n"
     ]
    },
    {
     "data": {
      "application/vnd.jupyter.widget-view+json": {
       "model_id": "56c202404e9f4e27a18e4ad05ea5e8e8",
       "version_major": 2,
       "version_minor": 0
      },
      "text/plain": [
       "Nodes processed: 0 nodes [00:00, ? nodes/s]"
      ]
     },
     "metadata": {},
     "output_type": "display_data"
    },
    {
     "name": "stdout",
     "output_type": "stream",
     "text": [
      "\n",
      "\n",
      "Elapsed time: 0.002s.\n"
     ]
    },
    {
     "data": {
      "application/vnd.jupyter.widget-view+json": {
       "model_id": "d53ad88b863849519a4ba57ce8eb735a",
       "version_major": 2,
       "version_minor": 0
      },
      "text/plain": [
       "Nodes processed: 0 nodes [00:00, ? nodes/s]"
      ]
     },
     "metadata": {},
     "output_type": "display_data"
    },
    {
     "name": "stdout",
     "output_type": "stream",
     "text": [
      "\n",
      "Elapsed time: 0.014s.\n",
      "==================================================\n",
      "Quadratization result\n",
      "==================================================\n",
      "Number of introduced variables: 1\n",
      "Nodes traversed: 3\n",
      "Introduced variables:\n",
      "w_{0} = x0**2\n",
      "\n"
     ]
    }
   ],
   "source": [
    "k, a, b = parameters(\"k, a, b\")\n",
    "x0, x1 = functions(\"x0, x1\")\n",
    "\n",
    "eq1 = -k * x0 - a * x0**3 - b * x1\n",
    "system = [\n",
    "    (x1, eq1),\n",
    "    (x0, x1),\n",
    "]\n",
    "\n",
    "quadr_system = polynomialize_and_quadratize(system)"
   ]
  },
  {
   "attachments": {},
   "cell_type": "markdown",
   "metadata": {},
   "source": [
    "### Expression of the system\n",
    "\n",
    "Here we only introduce one new variable $w_{0}=x_{0}^{2}$. Then we got the system of the ODEs:\n",
    "$$\n",
    "\\begin{cases}\n",
    "x_{0}'=x_1\\\\\n",
    "x_{1}'=kx_{0}+ax_{0}w_{0} + bx_{1}\\\\\n",
    "w_{0}' = 2x_{0}x_{0}' = 2x_{0}x_{1}\n",
    "\\end{cases}\n",
    "$$\n"
   ]
  }
 ],
 "metadata": {
  "kernelspec": {
   "display_name": "base",
   "language": "python",
   "name": "python3"
  },
  "language_info": {
   "codemirror_mode": {
    "name": "ipython",
    "version": 3
   },
   "file_extension": ".py",
   "mimetype": "text/x-python",
   "name": "python",
   "nbconvert_exporter": "python",
   "pygments_lexer": "ipython3",
   "version": "3.9.7"
  },
  "orig_nbformat": 4,
  "vscode": {
   "interpreter": {
    "hash": "40d3a090f54c6569ab1632332b64b2c03c39dcf918b08424e98f38b5ae0af88f"
   }
  }
 },
 "nbformat": 4,
 "nbformat_minor": 2
}
