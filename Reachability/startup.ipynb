{
 "cells": [
  {
   "cell_type": "code",
   "execution_count": 1,
   "id": "eb0391d3",
   "metadata": {
    "ExecuteTime": {
     "end_time": "2023-02-03T10:08:41.487000+01:00",
     "start_time": "2023-02-03T08:49:35.112Z"
    }
   },
   "outputs": [
    {
     "name": "stderr",
     "output_type": "stream",
     "text": [
      "\u001b[32m\u001b[1m  Activating\u001b[22m\u001b[39m new project at `~/Desktop/Ecole Polytechnique/Semester 4/PRL_MAX/Reachability-Problem-of-ODE/Reachability`\n"
     ]
    },
    {
     "name": "stdout",
     "output_type": "stream",
     "text": [
      "Running evaluation...\n",
      ">>> Running Quadratic model\n"
     ]
    },
    {
     "name": "stderr",
     "output_type": "stream",
     "text": [
      "\u001b[32m\u001b[1m  No Changes\u001b[22m\u001b[39m to `~/Desktop/Ecole Polytechnique/Semester 4/PRL_MAX/Reachability-Problem-of-ODE/Reachability/Project.toml`\n",
      "\u001b[32m\u001b[1m  No Changes\u001b[22m\u001b[39m to `~/Desktop/Ecole Polytechnique/Semester 4/PRL_MAX/Reachability-Problem-of-ODE/Reachability/Manifest.toml`\n"
     ]
    },
    {
     "name": "stdout",
     "output_type": "stream",
     "text": [
      "F1 = "
     ]
    },
    {
     "name": "stdout",
     "output_type": "stream",
     "text": [
      "[-1.0 0.0; 0.0 -1.0]\n"
     ]
    },
    {
     "name": "stdout",
     "output_type": "stream",
     "text": [
      " 11.623358 seconds (21.62 M allocations: 1.044 GiB, 3.71% gc time, 99.83% compilation time)\n",
      "F1 = [-1.0 0.0; 0.0 -1.0]\n",
      "  0.012620 seconds (148.29 k allocations: 11.596 MiB)\n",
      "F1 = [-1.0 0.0; 0.0 -0.4]\n",
      "  0.001499 seconds (15.08 k allocations: 1.200 MiB)\n",
      "F1 = [-1.0 0.0; 0.0 -0.4]\n"
     ]
    },
    {
     "name": "stdout",
     "output_type": "stream",
     "text": [
      "  0.320147 seconds (148.29 k allocations: 11.596 MiB, 94.69% gc time)\n",
      "F1 = [-1.0 0.0; 0.0 -0.2]\n",
      "  0.002165 seconds (15.08 k allocations: 1.200 MiB)\n",
      "F1 = [-1.0 0.0; 0.0 -0.2]\n",
      "  0.014657 seconds (148.29 k allocations: 11.596 MiB)\n",
      "F1 = [-1.0 0.0; 0.0 -1.0]\n"
     ]
    },
    {
     "ename": "LoadError",
     "evalue": "LoadError: MethodError: no method matching max(::Hyperrectangle{Float64, Vector{Float64}, Vector{Float64}})\nClosest candidates are:\n  max(::Any, !Matched::Missing) at missing.jl:137\n  max(::Any, !Matched::Any) at operators.jl:480\n  max(::Any, !Matched::Any, !Matched::Any, !Matched::Any...) at operators.jl:591\n  ...\nin expression starting at /Users/yubocai/Desktop/Ecole Polytechnique/Semester 4/PRL_MAX/Reachability-Problem-of-ODE/Reachability/evaluation/Quadra_exmaple/quadra_ODE.jl:120",
     "output_type": "error",
     "traceback": [
      "LoadError: MethodError: no method matching max(::Hyperrectangle{Float64, Vector{Float64}, Vector{Float64}})\n",
      "Closest candidates are:\n",
      "  max(::Any, !Matched::Missing) at missing.jl:137\n",
      "  max(::Any, !Matched::Any) at operators.jl:480\n",
      "  max(::Any, !Matched::Any, !Matched::Any, !Matched::Any...) at operators.jl:591\n",
      "  ...\n",
      "in expression starting at /Users/yubocai/Desktop/Ecole Polytechnique/Semester 4/PRL_MAX/Reachability-Problem-of-ODE/Reachability/evaluation/Quadra_exmaple/quadra_ODE.jl:120\n",
      "\n",
      "Stacktrace:\n",
      " [1] (::var\"#21#25\"{Int64})(ei::Hyperrectangle{Float64, Vector{Float64}, Vector{Float64}})\n",
      "   @ Main ./none:0\n",
      " [2] iterate\n",
      "   @ ./generator.jl:47 [inlined]\n",
      " [3] collect(itr::Base.Generator{Vector{Hyperrectangle{Float64, Vector{Float64}, Vector{Float64}}}, var\"#21#25\"{Int64}})\n",
      "   @ Base ./array.jl:787\n",
      " [4] _solve_CARLIN(X0::Hyperrectangle{Float64, Vector{Float64}, Vector{Float64}}, F1::Matrix{Float64}, F2::Matrix{Float64}; alg::LGG09{Float64, Forward{ReachabilityAnalysis.BaseExpAlg, Val{:lazy}, Val{:concrete}, Val{false}, Nothing}, SingleEntryVector{Float64}, CustomDirections{Float64, SingleEntryVector{Float64}}, Val{false}, Missing}, N::Int64, T::Float64, Δt0::IntervalArithmetic.Interval{Float64}, A::Nothing, error_bound_func::typeof(error_bound_specabs), bloat::Bool, kron_pow_algorithm::String)\n",
      "   @ Main ~/Desktop/Ecole Polytechnique/Semester 4/PRL_MAX/Reachability-Problem-of-ODE/Reachability/evaluation/utils.jl:100\n",
      " [5] macro expansion\n",
      "   @ ./timing.jl:262 [inlined]\n",
      " [6] _solve_system_carlin(; N::Int64, T::Float64, δ::Float64, radius0::Float64, bloat::Bool, resets::Nothing, alpha::Float64)\n",
      "   @ Main ~/Desktop/Ecole Polytechnique/Semester 4/PRL_MAX/Reachability-Problem-of-ODE/Reachability/evaluation/Quadra_exmaple/quadra_ODE.jl:57\n",
      " [7] top-level scope\n",
      "   @ ~/Desktop/Ecole Polytechnique/Semester 4/PRL_MAX/Reachability-Problem-of-ODE/Reachability/evaluation/Quadra_exmaple/quadra_ODE.jl:120"
     ]
    }
   ],
   "source": [
    "import Pkg\n",
    "Pkg.activate(@__DIR__)\n",
    "Pkg.instantiate()\n",
    "\n",
    "const TARGET_FOLDER = \"results\"\n",
    "const RESULTS_FILE = \"results.csv\"\n",
    "\n",
    "function main()\n",
    "    if !isdir(TARGET_FOLDER)\n",
    "        mkdir(TARGET_FOLDER)\n",
    "    end\n",
    "    global io = open(joinpath(TARGET_FOLDER, RESULTS_FILE), \"w\")\n",
    "\n",
    "    println(\"Running evaluation...\")\n",
    "\n",
    "    println(\">>> Running Quadratic model\")\n",
    "    include(\"evaluation/Quadra_exmaple/quadra_ODE.jl\")\n",
    "\n",
    "    println(\"Finished running evaluation. Results stored in $TARGET_FOLDER\")\n",
    "    close(io)\n",
    "    nothing\n",
    "end\n",
    "\n",
    "main()"
   ]
  }
 ],
 "metadata": {
  "kernelspec": {
   "display_name": "Julia 1.8.3",
   "language": "julia",
   "name": "julia-1.8"
  },
  "language_info": {
   "file_extension": ".jl",
   "mimetype": "application/julia",
   "name": "julia",
   "version": "1.8.3"
  },
  "toc": {
   "base_numbering": 1,
   "nav_menu": {},
   "number_sections": true,
   "sideBar": true,
   "skip_h1_title": false,
   "title_cell": "Table of Contents",
   "title_sidebar": "Contents",
   "toc_cell": false,
   "toc_position": {},
   "toc_section_display": true,
   "toc_window_display": false
  },
  "varInspector": {
   "cols": {
    "lenName": 16,
    "lenType": 16,
    "lenVar": 40
   },
   "kernels_config": {
    "python": {
     "delete_cmd_postfix": "",
     "delete_cmd_prefix": "del ",
     "library": "var_list.py",
     "varRefreshCmd": "print(var_dic_list())"
    },
    "r": {
     "delete_cmd_postfix": ") ",
     "delete_cmd_prefix": "rm(",
     "library": "var_list.r",
     "varRefreshCmd": "cat(var_dic_list()) "
    }
   },
   "types_to_exclude": [
    "module",
    "function",
    "builtin_function_or_method",
    "instance",
    "_Feature"
   ],
   "window_display": false
  }
 },
 "nbformat": 4,
 "nbformat_minor": 5
}
