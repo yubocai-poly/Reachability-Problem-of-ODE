{
 "cells": [
  {
   "attachments": {},
   "cell_type": "markdown",
   "metadata": {},
   "source": [
    "## The third system example (Duffing Equation)\n",
    "\n",
    "---"
   ]
  },
  {
   "attachments": {},
   "cell_type": "markdown",
   "metadata": {},
   "source": [
    "We have the third system ([Duffing equation](https://en.wikipedia.org/wiki/Duffing_equation)) of following form:\n",
    "$$\n",
    "x'' = kx+ax^{3}+bx'\n",
    "$$\n",
    "where $k<0$ and $b<0$. (we set $x_{0}=x$ and $x_{1}=x'$). Then we have the system of the ODEs:\n",
    "$$\n",
    "\\begin{cases}\n",
    "x_{0}'=x_1\\\\\n",
    "x_{1}'=kx_{0}+ax_{0}^{3} + bx_1\n",
    "\\end{cases}\n",
    "$$\n",
    "By introduce one new variable $w_{0}=x_{0}^{2}$. Then we got the system of the ODEs:\n",
    "$$\n",
    "\\begin{cases}\n",
    "x_{0}'=x_1\\\\\n",
    "x_{1}'=kx_{0}+ax_{0}w_{0} + bx_{1}\\\\\n",
    "w_{0}' = 2x_{0}x_{0}' = 2x_{0}x_{1}\n",
    "\\end{cases}\n",
    "$$\n",
    "\n",
    "---"
   ]
  },
  {
   "cell_type": "code",
   "execution_count": 24,
   "metadata": {},
   "outputs": [],
   "source": [
    "import numpy as np\n",
    "import sympy as sym\n",
    "sym.init_printing()\n",
    "import matplotlib.pyplot as plt"
   ]
  },
  {
   "attachments": {},
   "cell_type": "markdown",
   "metadata": {},
   "source": [
    "We change the method of quadratization, we have $w_{0}=x_{0}^{2}-mx_{0}$, then we got the new system of the ODEs:\n",
    "$$\n",
    "\\begin{cases}\n",
    "x_{0}'=x_1\\\\\n",
    "x_{1}'= kx_{0}+ax_{0}w_{0} + bx_{1} +amx_{0}^2 = (am^{2}+k)x_{0} x_{0}+ax_{0}w_{0} + bx_{1} + amw_0 \\\\ \n",
    "w_{0}' = 2x_{0}x_{1} - mx_{1}\n",
    "\\end{cases}\n",
    "$$\n",
    "Then we have $F_1$ that\n",
    "$$\n",
    "F_{1} = \\begin{bmatrix}\n",
    "0 & 1 & 0\\\\\n",
    "k & b & 0\\\\\n",
    "0 & -m & 0\n",
    "\\end{bmatrix}\n",
    "\\quad \\text{or} \\quad \n",
    "F_{1} = \\begin{bmatrix}\n",
    "0 & 1 & 0\\\\\n",
    "am^{2}+k & b & am\\\\\n",
    "0 & -m & 0\n",
    "\\end{bmatrix}\n",
    "$$"
   ]
  },
  {
   "cell_type": "code",
   "execution_count": 25,
   "metadata": {},
   "outputs": [],
   "source": [
    "a, b = sym.symbols('a b')\n",
    "m0, m1 = sym.symbols('m0 m1')\n",
    "k = sym.symbols('k')\n",
    "lamda = sym.symbols('lamda')\n",
    "alpha1, alpha2, alpha3 = sym.symbols('alpha1 alpha2 alpha3')\n",
    "\n",
    "def eigenvalue_solver(F):\n",
    "    p = F.charpoly(lamda)\n",
    "    roots = sym.solve(p, lamda)\n",
    "    return p, roots[0], roots[1], roots[2]"
   ]
  },
  {
   "cell_type": "code",
   "execution_count": 26,
   "metadata": {},
   "outputs": [
    {
     "data": {
      "text/latex": [
       "$\\displaystyle \\left[\\begin{matrix}0 & 1 & 0\\\\k & b & 0\\\\0 & - m_{0} & 0\\end{matrix}\\right]$"
      ],
      "text/plain": [
       "⎡0   1   0⎤\n",
       "⎢         ⎥\n",
       "⎢k   b   0⎥\n",
       "⎢         ⎥\n",
       "⎣0  -m₀  0⎦"
      ]
     },
     "metadata": {},
     "output_type": "display_data"
    },
    {
     "data": {
      "text/latex": [
       "$\\displaystyle \\operatorname{PurePoly}{\\left( \\lambda^{3} -  b \\lambda^{2} -  k \\lambda, \\lambda, domain=\\mathbb{Z}\\left[b, k\\right] \\right)}$"
      ],
      "text/plain": [
       "PurePoly(lamda**3 - b*lamda**2 - k*lamda, lamda, domain='ZZ[b,k]')"
      ]
     },
     "metadata": {},
     "output_type": "display_data"
    },
    {
     "data": {
      "text/latex": [
       "$\\displaystyle 0$"
      ],
      "text/plain": [
       "0"
      ]
     },
     "metadata": {},
     "output_type": "display_data"
    },
    {
     "data": {
      "text/latex": [
       "$\\displaystyle \\frac{b}{2} - \\frac{\\sqrt{b^{2} + 4 k}}{2}$"
      ],
      "text/plain": [
       "       __________\n",
       "      ╱  2       \n",
       "b   ╲╱  b  + 4⋅k \n",
       "─ - ─────────────\n",
       "2         2      "
      ]
     },
     "metadata": {},
     "output_type": "display_data"
    },
    {
     "data": {
      "text/latex": [
       "$\\displaystyle \\frac{b}{2} + \\frac{\\sqrt{b^{2} + 4 k}}{2}$"
      ],
      "text/plain": [
       "       __________\n",
       "      ╱  2       \n",
       "b   ╲╱  b  + 4⋅k \n",
       "─ + ─────────────\n",
       "2         2      "
      ]
     },
     "metadata": {},
     "output_type": "display_data"
    },
    {
     "name": "stdout",
     "output_type": "stream",
     "text": [
      "--------------------------------------------------------------------------------\n"
     ]
    },
    {
     "data": {
      "text/latex": [
       "$\\displaystyle \\left[\\begin{matrix}0 & 1 & 0\\\\a m_{0}^{2} + k & b & a m_{0}\\\\0 & - m_{0} & 0\\end{matrix}\\right]$"
      ],
      "text/plain": [
       "⎡    0       1    0  ⎤\n",
       "⎢                    ⎥\n",
       "⎢    2               ⎥\n",
       "⎢a⋅m₀  + k   b   a⋅m₀⎥\n",
       "⎢                    ⎥\n",
       "⎣    0      -m₀   0  ⎦"
      ]
     },
     "metadata": {},
     "output_type": "display_data"
    },
    {
     "data": {
      "text/latex": [
       "$\\displaystyle \\operatorname{PurePoly}{\\left( \\lambda^{3} -  b \\lambda^{2} -  k \\lambda, \\lambda, domain=\\mathbb{Z}\\left[b, k\\right] \\right)}$"
      ],
      "text/plain": [
       "PurePoly(lamda**3 - b*lamda**2 - k*lamda, lamda, domain='ZZ[b,k]')"
      ]
     },
     "metadata": {},
     "output_type": "display_data"
    },
    {
     "data": {
      "text/latex": [
       "$\\displaystyle 0$"
      ],
      "text/plain": [
       "0"
      ]
     },
     "metadata": {},
     "output_type": "display_data"
    },
    {
     "data": {
      "text/latex": [
       "$\\displaystyle \\frac{b}{2} - \\frac{\\sqrt{b^{2} + 4 k}}{2}$"
      ],
      "text/plain": [
       "       __________\n",
       "      ╱  2       \n",
       "b   ╲╱  b  + 4⋅k \n",
       "─ - ─────────────\n",
       "2         2      "
      ]
     },
     "metadata": {},
     "output_type": "display_data"
    },
    {
     "data": {
      "text/latex": [
       "$\\displaystyle \\frac{b}{2} + \\frac{\\sqrt{b^{2} + 4 k}}{2}$"
      ],
      "text/plain": [
       "       __________\n",
       "      ╱  2       \n",
       "b   ╲╱  b  + 4⋅k \n",
       "─ + ─────────────\n",
       "2         2      "
      ]
     },
     "metadata": {},
     "output_type": "display_data"
    }
   ],
   "source": [
    "F = sym.Matrix([[0, 1, 0], [k, b, 0], [0, -m0, 0]])\n",
    "display(F)\n",
    "p, lambda1, lambda2, lambda3 = eigenvalue_solver(F)\n",
    "display(p)\n",
    "\n",
    "# solve the eigenvalue problem\n",
    "roots = sym.solve(p, lamda)\n",
    "display(roots[0])\n",
    "display(roots[1])\n",
    "display(roots[2])\n",
    "\n",
    "print('-' * 80)\n",
    "\n",
    "F = sym.Matrix([[0, 1, 0], [a * m0**2 + k, b, a * m0], [0, -m0, 0]])\n",
    "display(F)\n",
    "p, lambda1, lambda2, lambda3 = eigenvalue_solver(F)\n",
    "display(p)\n",
    "\n",
    "# solve the eigenvalue problem\n",
    "roots = sym.solve(p, lamda)\n",
    "display(roots[0])\n",
    "display(roots[1])\n",
    "display(roots[2])"
   ]
  },
  {
   "cell_type": "code",
   "execution_count": 27,
   "metadata": {},
   "outputs": [
    {
     "data": {
      "text/latex": [
       "$\\displaystyle \\left[\\begin{matrix}\\alpha_{1} m_{0} & 1 & \\alpha_{1}\\\\a m_{0}^{2} + k & b & a m_{0}\\\\0 & - m_{0} & 0\\end{matrix}\\right]$"
      ],
      "text/plain": [
       "⎡  α₁⋅m₀     1    α₁ ⎤\n",
       "⎢                    ⎥\n",
       "⎢    2               ⎥\n",
       "⎢a⋅m₀  + k   b   a⋅m₀⎥\n",
       "⎢                    ⎥\n",
       "⎣    0      -m₀   0  ⎦"
      ]
     },
     "metadata": {},
     "output_type": "display_data"
    },
    {
     "data": {
      "text/latex": [
       "$\\displaystyle \\operatorname{PurePoly}{\\left( \\lambda^{3} + \\left(- \\alpha_{1} m_{0} - b\\right) \\lambda^{2} + \\left(\\alpha_{1} b m_{0} - k\\right) \\lambda + \\alpha_{1} k m_{0}, \\lambda, domain=\\mathbb{Z}\\left[b, k, m_{0}, \\alpha_{1}\\right] \\right)}$"
      ],
      "text/plain": [
       "PurePoly(lamda**3 + (-alpha1*m0 - b)*lamda**2 + (alpha1*b*m0 - k)*lamda + alph\n",
       "a1*k*m0, lamda, domain='ZZ[b,k,m0,alpha1]')"
      ]
     },
     "metadata": {},
     "output_type": "display_data"
    },
    {
     "data": {
      "text/latex": [
       "$\\displaystyle \\alpha_{1} m_{0}$"
      ],
      "text/plain": [
       "α₁⋅m₀"
      ]
     },
     "metadata": {},
     "output_type": "display_data"
    },
    {
     "data": {
      "text/latex": [
       "$\\displaystyle \\frac{b}{2} - \\frac{\\sqrt{b^{2} + 4 k}}{2}$"
      ],
      "text/plain": [
       "       __________\n",
       "      ╱  2       \n",
       "b   ╲╱  b  + 4⋅k \n",
       "─ - ─────────────\n",
       "2         2      "
      ]
     },
     "metadata": {},
     "output_type": "display_data"
    },
    {
     "data": {
      "text/latex": [
       "$\\displaystyle \\frac{b}{2} + \\frac{\\sqrt{b^{2} + 4 k}}{2}$"
      ],
      "text/plain": [
       "       __________\n",
       "      ╱  2       \n",
       "b   ╲╱  b  + 4⋅k \n",
       "─ + ─────────────\n",
       "2         2      "
      ]
     },
     "metadata": {},
     "output_type": "display_data"
    }
   ],
   "source": [
    "alpha1_mat = alpha1 * sym.Matrix([[m0, 0, 1], [0, 0, 0], [0, 0, 0]])\n",
    "alpha2_mat = alpha2 * sym.Matrix([[0, 0, 0], [m0, 0, 1], [0, 0, 0]])\n",
    "alpha3_mat = alpha3 * sym.Matrix([[0, 0, 0], [0, 0, 0], [m0, 0, 1]])\n",
    "F = F + alpha1_mat \n",
    "display(F)\n",
    "p, lambda1, lambda2, lambda3 = eigenvalue_solver(F) \n",
    "display(p)\n",
    "\n",
    "# solve the eigenvalue problem\n",
    "roots = sym.solve(p, lamda)\n",
    "display(roots[0])\n",
    "display(roots[1])\n",
    "display(roots[2])"
   ]
  },
  {
   "attachments": {},
   "cell_type": "markdown",
   "metadata": {},
   "source": [
    "### Apply the Routh-Hurwitz Criterion\n",
    "\n",
    "---\n",
    "\n",
    "\n",
    "From the **Routh-Hurwitz Criterion**, for the equation with highest degree $n$, if $n$ is **odd**, then we got\n",
    "$$\n",
    "\\left.\\begin{array}{llllllll}\n",
    "a_n & a_{n-2} & a_{n-4} & \\cdots & a_5 & a_3 & a_1 & a_{-1} \\\\\n",
    "a_{n-1} & a_{n-3} & a_{n-5} & \\cdots & a_4 & a_2 & a_0 & a_{-2} \\\\\n",
    "c_{n-1} & c_{n-3} & c_{n-5} & \\cdots & c_4 & c_2 & c_0 & \\\\\n",
    "d_{n-1} & d_{n-3} & d_{n-5} & \\cdots & d_4 & d_2 & d_0 & \\\\\n",
    "\\vdots & & & & & & & \\\\\n",
    "u_{n-1} & u_{n-3} & & & & & & \\\\\n",
    "u_{n-1} & u_{n-3} & & & & & &\n",
    "\\end{array}\\right\\} n+1 \\text { rows }\n",
    "$$\n",
    "For $n$ is **even**, then we got\n",
    "$$\n",
    "\\left.\\begin{array}{lllllll}\n",
    "a_n & a_{n-2} & a_{n-4} & \\cdots & a_4 & a_2 & a_0 \\\\\n",
    "a_{n-1} & a_{n-3} & a_{n-5} & \\cdots & a_3 & a_1 & a_{-1} \\\\\n",
    "c_{n-1} & c_{n-3} & c_{n-5} & \\cdots & c_3 & c_1 & \\\\\n",
    "d_{n-1} & d_{n-3} & d_{n-5} & \\cdots & d_3 & d_1 & \\\\\n",
    "\\vdots & & & & & \\\\\n",
    "u_{n-1} & u_{n-3} & & & & & \\\\\n",
    "u_{n-1} & u_{n-3} & & & & & \\\\\n",
    "v_{n-1} & & & & & &\n",
    "\\end{array}\\right\\} n+1 \\text { rows }\n",
    "$$\n",
    "where\n",
    "$$\n",
    "\\begin{gathered}\n",
    "c_{n-1}=\\frac{-\\left|\\begin{array}{ll}\n",
    "a_n & a_{n-2} \\\\\n",
    "a_{n-1} & a_{n-3}\n",
    "\\end{array}\\right|}{a_{n-1}}, c_{n-3}=\\frac{-\\left|\\begin{array}{ll}\n",
    "a_n & a_{n-4} \\\\\n",
    "a_{n-1} & a_{n-5}\n",
    "\\end{array}\\right|}{a_{n-1}} \\\\\n",
    "d_{n-1}=\\frac{-\\left|\\begin{array}{ll}\n",
    "a_{n-1} & a_{n-3} \\\\\n",
    "c_{n-1} & c_{n-3}\n",
    "\\end{array}\\right|}{c_{n-1}}, d_{n-3}=\\frac{-\\left|\\begin{array}{ll}\n",
    "a_{n-1} & a_{n-5} \\\\\n",
    "c_{n-1} & c_{n-5}\n",
    "\\end{array}\\right|}{c_{n-1}}\n",
    "\\end{gathered}\n",
    "$$\n",
    "we have the following Rouch table for the equation $x^{3}+bx^{2}+cx + d=0$\n",
    "$$\n",
    "\\begin{array}{ccc}\n",
    "1 & c & 0 \\\\\n",
    "b & d & 0 \\\\\n",
    "\\frac{bc-d}{b} & 0 & \\\\\n",
    "d & 0 &\n",
    "\\end{array}\n",
    "$$\n",
    "Then in order to have all the roots in the left half plane, we need to have all the entries in the first column are positive (since $1$ is positive). Then we have the condition that $b, c, d > 0$ and $bc > d$"
   ]
  },
  {
   "cell_type": "code",
   "execution_count": 28,
   "metadata": {},
   "outputs": [
    {
     "data": {
      "text/latex": [
       "$\\displaystyle - \\alpha_{1} m_{0} - b$"
      ],
      "text/plain": [
       "-α₁⋅m₀ - b"
      ]
     },
     "metadata": {},
     "output_type": "display_data"
    },
    {
     "data": {
      "text/latex": [
       "$\\displaystyle \\alpha_{1} b m_{0} - k$"
      ],
      "text/plain": [
       "α₁⋅b⋅m₀ - k"
      ]
     },
     "metadata": {},
     "output_type": "display_data"
    },
    {
     "data": {
      "text/latex": [
       "$\\displaystyle \\alpha_{1} k m_{0}$"
      ],
      "text/plain": [
       "α₁⋅k⋅m₀"
      ]
     },
     "metadata": {},
     "output_type": "display_data"
    }
   ],
   "source": [
    "import pandas as pd\n",
    "\n",
    "# Compute coefficients\n",
    "b_coef = p.coeffs()[1]\n",
    "c_coef = p.coeffs()[2]\n",
    "d_coef = p.coeffs()[3]\n",
    "display(b_coef)\n",
    "display(c_coef)\n",
    "display(d_coef)"
   ]
  },
  {
   "cell_type": "code",
   "execution_count": 29,
   "metadata": {},
   "outputs": [
    {
     "data": {
      "text/html": [
       "<div>\n",
       "<style scoped>\n",
       "    .dataframe tbody tr th:only-of-type {\n",
       "        vertical-align: middle;\n",
       "    }\n",
       "\n",
       "    .dataframe tbody tr th {\n",
       "        vertical-align: top;\n",
       "    }\n",
       "\n",
       "    .dataframe thead th {\n",
       "        text-align: right;\n",
       "    }\n",
       "</style>\n",
       "<table border=\"1\" class=\"dataframe\">\n",
       "  <thead>\n",
       "    <tr style=\"text-align: right;\">\n",
       "      <th></th>\n",
       "      <th>k</th>\n",
       "      <th>m0</th>\n",
       "      <th>b</th>\n",
       "      <th>alpha1</th>\n",
       "      <th>b_coef</th>\n",
       "      <th>c_coef</th>\n",
       "      <th>d_coef</th>\n",
       "    </tr>\n",
       "  </thead>\n",
       "  <tbody>\n",
       "    <tr>\n",
       "      <th>0</th>\n",
       "      <td>-10</td>\n",
       "      <td>11</td>\n",
       "      <td>-10</td>\n",
       "      <td>-10</td>\n",
       "      <td>120</td>\n",
       "      <td>1110</td>\n",
       "      <td>1100</td>\n",
       "    </tr>\n",
       "    <tr>\n",
       "      <th>1</th>\n",
       "      <td>-10</td>\n",
       "      <td>-10</td>\n",
       "      <td>-10</td>\n",
       "      <td>11</td>\n",
       "      <td>120</td>\n",
       "      <td>1110</td>\n",
       "      <td>1100</td>\n",
       "    </tr>\n",
       "  </tbody>\n",
       "</table>\n",
       "</div>"
      ],
      "text/plain": [
       "    k  m0   b  alpha1 b_coef c_coef d_coef\n",
       "0 -10  11 -10     -10    120   1110   1100\n",
       "1 -10 -10 -10      11    120   1110   1100"
      ]
     },
     "execution_count": 29,
     "metadata": {},
     "output_type": "execute_result"
    }
   ],
   "source": [
    "b_coef = - alpha1 * m0 - b\n",
    "c_coef = alpha1 * m0 * b - k\n",
    "d_coef = alpha1 * m0 * k\n",
    "\n",
    "# Define function to test coefficients\n",
    "def test_coef(k_val, m0_val, b_val, a1_val):\n",
    "    b_coef_val = b_coef.subs([(k, k_val), (m0, m0_val), (b, b_val), (alpha1, a1_val)])\n",
    "    c_coef_val = c_coef.subs([(k, k_val), (m0, m0_val), (b, b_val), (alpha1, a1_val)])\n",
    "    d_coef_val = d_coef.subs([(k, k_val), (m0, m0_val), (b, b_val), (alpha1, a1_val)])\n",
    "    if b_coef_val > 0 and c_coef_val > 0 and d_coef_val > 0 and b_coef_val * c_coef_val > d_coef_val:\n",
    "        return True\n",
    "    else:\n",
    "        return False\n",
    "      \n",
    "# Test coefficients for all combinations of input values\n",
    "results = []\n",
    "for a1_val in [-10, 0, 11]:\n",
    "    for k_val in [-10, 0, 11]:\n",
    "        for m0_val in [-10, 0, 11]:\n",
    "            for b_val in [-10, 0, 11]:\n",
    "                if test_coef(k_val, m0_val, b_val, a1_val):\n",
    "                    b_coef_val = b_coef.subs([(k, k_val), (m0, m0_val), (b, b_val), (alpha1, a1_val)])\n",
    "                    c_coef_val = c_coef.subs([(k, k_val), (m0, m0_val), (b, b_val), (alpha1, a1_val)])\n",
    "                    d_coef_val = d_coef.subs([(k, k_val), (m0, m0_val), (b, b_val), (alpha1, a1_val)])\n",
    "                    results.append({'k': k_val, 'm0': m0_val, 'b': b_val, 'alpha1': a1_val, 'b_coef': b_coef_val, 'c_coef': c_coef_val, 'd_coef': d_coef_val})\n",
    "    \n",
    "    \n",
    "    \n",
    "# Convert results to DataFrame\n",
    "df = pd.DataFrame(results)\n",
    "\n",
    "# Save DataFrame to CSV file\n",
    "df.to_csv('results.csv', index=False)\n",
    "df"
   ]
  },
  {
   "cell_type": "code",
   "execution_count": 30,
   "metadata": {},
   "outputs": [
    {
     "data": {
      "text/latex": [
       "$\\displaystyle \\lambda^{3} + 120 \\lambda^{2} + 1110 \\lambda + 1100$"
      ],
      "text/plain": [
       " 3        2                \n",
       "λ  + 120⋅λ  + 1110⋅λ + 1100"
      ]
     },
     "metadata": {},
     "output_type": "display_data"
    },
    {
     "data": {
      "text/latex": [
       "$\\displaystyle \\left[\\begin{matrix}-110 & 1 & -10\\\\121 a - 10 & -10 & 11 a\\\\0 & -11 & 0\\end{matrix}\\right]$"
      ],
      "text/plain": [
       "⎡   -110      1   -10 ⎤\n",
       "⎢                     ⎥\n",
       "⎢121⋅a - 10  -10  11⋅a⎥\n",
       "⎢                     ⎥\n",
       "⎣    0       -11   0  ⎦"
      ]
     },
     "metadata": {},
     "output_type": "display_data"
    },
    {
     "data": {
      "text/latex": [
       "$\\displaystyle -110$"
      ],
      "text/plain": [
       "-110"
      ]
     },
     "metadata": {},
     "output_type": "display_data"
    },
    {
     "data": {
      "text/latex": [
       "$\\displaystyle -5 - \\sqrt{15}$"
      ],
      "text/plain": [
       "-5 - √15"
      ]
     },
     "metadata": {},
     "output_type": "display_data"
    },
    {
     "data": {
      "text/latex": [
       "$\\displaystyle -5 + \\sqrt{15}$"
      ],
      "text/plain": [
       "-5 + √15"
      ]
     },
     "metadata": {},
     "output_type": "display_data"
    }
   ],
   "source": [
    "df.iloc[0]\n",
    "result = []\n",
    "symbols_list = [k, m0, b, alpha1]\n",
    "for symbol in symbols_list:\n",
    "    symbol = df.iloc[0][symbol.name]\n",
    "    \n",
    "p = p.subs([(alpha1, df.iloc[0][alpha1.name]), (k, df.iloc[0][k.name]), (m0, df.iloc[0][m0.name]), (b, df.iloc[0][b.name])])\n",
    "F = F.subs([(alpha1, df.iloc[0][alpha1.name]), (k, df.iloc[0][k.name]), (m0, df.iloc[0][m0.name]), (b, df.iloc[0][b.name])])\n",
    "display(p)\n",
    "display(F)\n",
    "roots = sym.solve(p, lamda)\n",
    "display(roots[0])\n",
    "display(roots[1])\n",
    "display(roots[2])"
   ]
  },
  {
   "attachments": {},
   "cell_type": "markdown",
   "metadata": {},
   "source": [
    "By introduce the zero term $0 = w_{0} + mx_{0}-x_{0}^{2}$, we got\n",
    "$$\n",
    "\\begin{cases}\n",
    "x_{0}'=x_1 + \\alpha_1 w_{0} + \\alpha_1 mx_{0}- \\alpha_1 x_{0}^{2}\\\\\n",
    "x_{1}'= kx_{0}+ax_{0}w_{0} + bx_{1} + amx_{0}^{2}\\\\ \n",
    "w_{0}' = 2x_{0}x_{1} - mx_{1}\n",
    "\\end{cases}\n",
    "$$\n",
    "In this way, we have the $F_2$ as following:\n",
    "$$\n",
    "F_2 = \\begin{bmatrix}\n",
    "-\\alpha_1 & 0 & 0 & 0 & 0 & 0 & 0 & 0 & 0\\\\\n",
    "am & 0 & a & 0 & 0 & 0 & 0 & 0 & 0\\\\\n",
    "0 & 2 & 0 & 0 & 0 & 0 & 0 & 0 & 0\n",
    "\\end{bmatrix}\n",
    "$$\n"
   ]
  },
  {
   "cell_type": "code",
   "execution_count": 41,
   "metadata": {},
   "outputs": [
    {
     "data": {
      "text/latex": [
       "$\\displaystyle \\left[\\begin{matrix}\\alpha_{1}^{2} + \\alpha_{3}^{2} & - 2 \\alpha_{3} & 0 & 0 & 0 & 0 & 0 & 0 & 0\\\\- 2 \\alpha_{3} & 4 & 0 & 0 & 0 & 0 & 0 & 0 & 0\\\\0 & 0 & a^{2} & 0 & 0 & 0 & 0 & 0 & 0\\\\0 & 0 & 0 & 0 & 0 & 0 & 0 & 0 & 0\\\\0 & 0 & 0 & 0 & 0 & 0 & 0 & 0 & 0\\\\0 & 0 & 0 & 0 & 0 & 0 & 0 & 0 & 0\\\\0 & 0 & 0 & 0 & 0 & 0 & 0 & 0 & 0\\\\0 & 0 & 0 & 0 & 0 & 0 & 0 & 0 & 0\\\\0 & 0 & 0 & 0 & 0 & 0 & 0 & 0 & 0\\end{matrix}\\right]$"
      ],
      "text/plain": [
       "⎡  2     2                             ⎤\n",
       "⎢α₁  + α₃   -2⋅α₃  0   0  0  0  0  0  0⎥\n",
       "⎢                                      ⎥\n",
       "⎢  -2⋅α₃      4    0   0  0  0  0  0  0⎥\n",
       "⎢                                      ⎥\n",
       "⎢                   2                  ⎥\n",
       "⎢    0        0    a   0  0  0  0  0  0⎥\n",
       "⎢                                      ⎥\n",
       "⎢    0        0    0   0  0  0  0  0  0⎥\n",
       "⎢                                      ⎥\n",
       "⎢    0        0    0   0  0  0  0  0  0⎥\n",
       "⎢                                      ⎥\n",
       "⎢    0        0    0   0  0  0  0  0  0⎥\n",
       "⎢                                      ⎥\n",
       "⎢    0        0    0   0  0  0  0  0  0⎥\n",
       "⎢                                      ⎥\n",
       "⎢    0        0    0   0  0  0  0  0  0⎥\n",
       "⎢                                      ⎥\n",
       "⎣    0        0    0   0  0  0  0  0  0⎦"
      ]
     },
     "metadata": {},
     "output_type": "display_data"
    },
    {
     "data": {
      "text/latex": [
       "$\\displaystyle \\left[\\begin{matrix}\\alpha_{1}^{2} + \\alpha_{3}^{2} & - 2 \\alpha_{3} & 0\\\\- 2 \\alpha_{3} & 4 & 0\\\\0 & 0 & a^{2}\\end{matrix}\\right]$"
      ],
      "text/plain": [
       "⎡  2     2           ⎤\n",
       "⎢α₁  + α₃   -2⋅α₃  0 ⎥\n",
       "⎢                    ⎥\n",
       "⎢  -2⋅α₃      4    0 ⎥\n",
       "⎢                    ⎥\n",
       "⎢                   2⎥\n",
       "⎣    0        0    a ⎦"
      ]
     },
     "metadata": {},
     "output_type": "display_data"
    },
    {
     "data": {
      "text/latex": [
       "$\\displaystyle \\operatorname{PurePoly}{\\left( \\lambda^{3} + \\left(- a^{2} - \\alpha_{1}^{2} - \\alpha_{3}^{2} - 4\\right) \\lambda^{2} + \\left(a^{2} \\alpha_{1}^{2} + a^{2} \\alpha_{3}^{2} + 4 a^{2} + 4 \\alpha_{1}^{2}\\right) \\lambda -  4 a^{2} \\alpha_{1}^{2}, \\lambda, domain=\\mathbb{Z}\\left[a, \\alpha_{1}, \\alpha_{3}\\right] \\right)}$"
      ],
      "text/plain": [
       "PurePoly(lamda**3 + (-a**2 - alpha1**2 - alpha3**2 - 4)*lamda**2 + (a**2*alpha\n",
       "1**2 + a**2*alpha3**2 + 4*a**2 + 4*alpha1**2)*lamda - 4*a**2*alpha1**2, lamda,\n",
       " domain='ZZ[a,alpha1,alpha3]')"
      ]
     },
     "metadata": {},
     "output_type": "display_data"
    },
    {
     "data": {
      "text/latex": [
       "$\\displaystyle a^{2}$"
      ],
      "text/plain": [
       " 2\n",
       "a "
      ]
     },
     "metadata": {},
     "output_type": "display_data"
    },
    {
     "data": {
      "text/latex": [
       "$\\displaystyle \\frac{\\alpha_{1}^{2}}{2} + \\frac{\\alpha_{3}^{2}}{2} - \\frac{\\sqrt{\\alpha_{1}^{4} + 2 \\alpha_{1}^{2} \\alpha_{3}^{2} - 8 \\alpha_{1}^{2} + \\alpha_{3}^{4} + 8 \\alpha_{3}^{2} + 16}}{2} + 2$"
      ],
      "text/plain": [
       "               ____________________________________________    \n",
       "  2     2     ╱   4       2   2       2     4       2          \n",
       "α₁    α₃    ╲╱  α₁  + 2⋅α₁ ⋅α₃  - 8⋅α₁  + α₃  + 8⋅α₃  + 16     \n",
       "─── + ─── - ─────────────────────────────────────────────── + 2\n",
       " 2     2                           2                           "
      ]
     },
     "metadata": {},
     "output_type": "display_data"
    },
    {
     "data": {
      "text/latex": [
       "$\\displaystyle \\frac{\\alpha_{1}^{2}}{2} + \\frac{\\alpha_{3}^{2}}{2} + \\frac{\\sqrt{\\alpha_{1}^{4} + 2 \\alpha_{1}^{2} \\alpha_{3}^{2} - 8 \\alpha_{1}^{2} + \\alpha_{3}^{4} + 8 \\alpha_{3}^{2} + 16}}{2} + 2$"
      ],
      "text/plain": [
       "               ____________________________________________    \n",
       "  2     2     ╱   4       2   2       2     4       2          \n",
       "α₁    α₃    ╲╱  α₁  + 2⋅α₁ ⋅α₃  - 8⋅α₁  + α₃  + 8⋅α₃  + 16     \n",
       "─── + ─── + ─────────────────────────────────────────────── + 2\n",
       " 2     2                           2                           "
      ]
     },
     "metadata": {},
     "output_type": "display_data"
    }
   ],
   "source": [
    "F2 = sym.Matrix([[-alpha1, 0, 0, 0, 0, 0, 0, 0, 0], [0, 0, a, 0, 0, 0, 0, 0, 0],\n",
    "                 [-alpha3, 2, 0, 0, 0, 0, 0, 0, 0]])\n",
    "display(F2.T @ F2)\n",
    "\n",
    "F_ = (F2.T @ F2)[0:3, 0:3]\n",
    "display(F_)\n",
    "p, lambda1, lambda2, lambda3 = eigenvalue_solver(F_)\n",
    "display(p)\n",
    "display(lambda1)\n",
    "display(lambda2)\n",
    "display(lambda3)\n"
   ]
  },
  {
   "attachments": {},
   "cell_type": "markdown",
   "metadata": {},
   "source": [
    "---"
   ]
  },
  {
   "cell_type": "code",
   "execution_count": 40,
   "metadata": {},
   "outputs": [
    {
     "data": {
      "text/latex": [
       "$\\displaystyle \\left[\\begin{matrix}0 & 1 & 0\\\\k & b & 0\\\\0 & - m_{0} & 0\\end{matrix}\\right]$"
      ],
      "text/plain": [
       "⎡0   1   0⎤\n",
       "⎢         ⎥\n",
       "⎢k   b   0⎥\n",
       "⎢         ⎥\n",
       "⎣0  -m₀  0⎦"
      ]
     },
     "metadata": {},
     "output_type": "display_data"
    },
    {
     "data": {
      "text/latex": [
       "$\\displaystyle \\left[\\begin{matrix}\\alpha_{1} m_{0} & 1 & \\alpha_{1}\\\\a m_{0}^{2} + k & b & a m_{0}\\\\\\alpha_{3} m_{0} & - m_{0} & \\alpha_{3}\\end{matrix}\\right]$"
      ],
      "text/plain": [
       "⎡  α₁⋅m₀     1    α₁ ⎤\n",
       "⎢                    ⎥\n",
       "⎢    2               ⎥\n",
       "⎢a⋅m₀  + k   b   a⋅m₀⎥\n",
       "⎢                    ⎥\n",
       "⎣  α₃⋅m₀    -m₀   α₃ ⎦"
      ]
     },
     "metadata": {},
     "output_type": "display_data"
    },
    {
     "data": {
      "text/latex": [
       "$\\displaystyle \\operatorname{PurePoly}{\\left( \\lambda^{3} + \\left(- \\alpha_{1} m_{0} - \\alpha_{3} - b\\right) \\lambda^{2} + \\left(\\alpha_{1} b m_{0} + \\alpha_{3} b - k\\right) \\lambda + \\alpha_{1} k m_{0} + \\alpha_{3} k, \\lambda, domain=\\mathbb{Z}\\left[b, k, m_{0}, \\alpha_{1}, \\alpha_{3}\\right] \\right)}$"
      ],
      "text/plain": [
       "PurePoly(lamda**3 + (-alpha1*m0 - alpha3 - b)*lamda**2 + (alpha1*b*m0 + alpha3\n",
       "*b - k)*lamda + alpha1*k*m0 + alpha3*k, lamda, domain='ZZ[b,k,m0,alpha1,alpha3\n",
       "]')"
      ]
     },
     "metadata": {},
     "output_type": "display_data"
    },
    {
     "data": {
      "text/latex": [
       "$\\displaystyle \\frac{b}{2} - \\frac{\\sqrt{b^{2} + 4 k}}{2}$"
      ],
      "text/plain": [
       "       __________\n",
       "      ╱  2       \n",
       "b   ╲╱  b  + 4⋅k \n",
       "─ - ─────────────\n",
       "2         2      "
      ]
     },
     "metadata": {},
     "output_type": "display_data"
    },
    {
     "data": {
      "text/latex": [
       "$\\displaystyle \\frac{b}{2} + \\frac{\\sqrt{b^{2} + 4 k}}{2}$"
      ],
      "text/plain": [
       "       __________\n",
       "      ╱  2       \n",
       "b   ╲╱  b  + 4⋅k \n",
       "─ + ─────────────\n",
       "2         2      "
      ]
     },
     "metadata": {},
     "output_type": "display_data"
    },
    {
     "data": {
      "text/latex": [
       "$\\displaystyle \\alpha_{1} m_{0} + \\alpha_{3}$"
      ],
      "text/plain": [
       "α₁⋅m₀ + α₃"
      ]
     },
     "metadata": {},
     "output_type": "display_data"
    },
    {
     "data": {
      "text/latex": [
       "$\\displaystyle \\left[\\begin{matrix}\\alpha_{1}^{2} & 0 & 0 & 0 & 0 & 0 & 0 & 0 & 0\\\\0 & 4 & 0 & 0 & 0 & 0 & 0 & 0 & 0\\\\0 & 0 & a^{2} & 0 & 0 & 0 & 0 & 0 & 0\\\\0 & 0 & 0 & 0 & 0 & 0 & 0 & 0 & 0\\\\0 & 0 & 0 & 0 & 0 & 0 & 0 & 0 & 0\\\\0 & 0 & 0 & 0 & 0 & 0 & 0 & 0 & 0\\\\0 & 0 & 0 & 0 & 0 & 0 & 0 & 0 & 0\\\\0 & 0 & 0 & 0 & 0 & 0 & 0 & 0 & 0\\\\0 & 0 & 0 & 0 & 0 & 0 & 0 & 0 & 0\\end{matrix}\\right]$"
      ],
      "text/plain": [
       "⎡  2                         ⎤\n",
       "⎢α₁   0  0   0  0  0  0  0  0⎥\n",
       "⎢                            ⎥\n",
       "⎢ 0   4  0   0  0  0  0  0  0⎥\n",
       "⎢                            ⎥\n",
       "⎢         2                  ⎥\n",
       "⎢ 0   0  a   0  0  0  0  0  0⎥\n",
       "⎢                            ⎥\n",
       "⎢ 0   0  0   0  0  0  0  0  0⎥\n",
       "⎢                            ⎥\n",
       "⎢ 0   0  0   0  0  0  0  0  0⎥\n",
       "⎢                            ⎥\n",
       "⎢ 0   0  0   0  0  0  0  0  0⎥\n",
       "⎢                            ⎥\n",
       "⎢ 0   0  0   0  0  0  0  0  0⎥\n",
       "⎢                            ⎥\n",
       "⎢ 0   0  0   0  0  0  0  0  0⎥\n",
       "⎢                            ⎥\n",
       "⎣ 0   0  0   0  0  0  0  0  0⎦"
      ]
     },
     "metadata": {},
     "output_type": "display_data"
    },
    {
     "data": {
      "text/latex": [
       "$\\displaystyle \\left[\\begin{matrix}\\alpha_{1}^{2} & 0 & 0\\\\0 & 4 & 0\\\\0 & 0 & a^{2}\\end{matrix}\\right]$"
      ],
      "text/plain": [
       "⎡  2       ⎤\n",
       "⎢α₁   0  0 ⎥\n",
       "⎢          ⎥\n",
       "⎢ 0   4  0 ⎥\n",
       "⎢          ⎥\n",
       "⎢         2⎥\n",
       "⎣ 0   0  a ⎦"
      ]
     },
     "metadata": {},
     "output_type": "display_data"
    },
    {
     "data": {
      "text/latex": [
       "$\\displaystyle \\operatorname{PurePoly}{\\left( \\lambda^{3} + \\left(- a^{2} - \\alpha_{1}^{2} - 4\\right) \\lambda^{2} + \\left(a^{2} \\alpha_{1}^{2} + 4 a^{2} + 4 \\alpha_{1}^{2}\\right) \\lambda -  4 a^{2} \\alpha_{1}^{2}, \\lambda, domain=\\mathbb{Z}\\left[a, \\alpha_{1}\\right] \\right)}$"
      ],
      "text/plain": [
       "PurePoly(lamda**3 + (-a**2 - alpha1**2 - 4)*lamda**2 + (a**2*alpha1**2 + 4*a**\n",
       "2 + 4*alpha1**2)*lamda - 4*a**2*alpha1**2, lamda, domain='ZZ[a,alpha1]')"
      ]
     },
     "metadata": {},
     "output_type": "display_data"
    },
    {
     "data": {
      "text/latex": [
       "$\\displaystyle 4$"
      ],
      "text/plain": [
       "4"
      ]
     },
     "metadata": {},
     "output_type": "display_data"
    },
    {
     "data": {
      "text/latex": [
       "$\\displaystyle a^{2}$"
      ],
      "text/plain": [
       " 2\n",
       "a "
      ]
     },
     "metadata": {},
     "output_type": "display_data"
    },
    {
     "data": {
      "text/latex": [
       "$\\displaystyle \\alpha_{1}^{2}$"
      ],
      "text/plain": [
       "  2\n",
       "α₁ "
      ]
     },
     "metadata": {},
     "output_type": "display_data"
    }
   ],
   "source": [
    "F = sym.Matrix([[0, 1, 0], [k, b, 0], [0, -m0, 0]])\n",
    "display(F)\n",
    "\n",
    "alpha1_mat = alpha1 * sym.Matrix([[m0, 0, 1], [0, 0, 0], [0, 0, 0]])\n",
    "alpha2_mat = alpha2 * sym.Matrix([[0, 0, 0], [m0, 0, 1], [0, 0, 0]])\n",
    "alpha3_mat = alpha3 * sym.Matrix([[0, 0, 0], [0, 0, 0], [m0, 0, 1]])\n",
    "F = F1 + alpha1_mat + alpha3_mat\n",
    "display(F)\n",
    "p, lambda1, lambda2, lambda3 = eigenvalue_solver(F)\n",
    "display(p)\n",
    "\n",
    "# solve the eigenvalue problem\n",
    "roots = sym.solve(p, lamda)\n",
    "display(roots[0])\n",
    "display(roots[1])\n",
    "display(roots[2])\n",
    "\n",
    "F2 = sym.Matrix([[-alpha1, 0, 0, 0, 0, 0, 0, 0, 0], [0, 0, a, 0, 0, 0, 0, 0, 0],\n",
    "                 [0, 2, 0, 0, 0, 0, 0, 0, 0]])\n",
    "display(F2.T @ F2)\n",
    "\n",
    "F_ = (F2.T @ F2)[0:3, 0:3]\n",
    "display(F_)\n",
    "p, lambda1, lambda2, lambda3 = eigenvalue_solver(F_)\n",
    "display(p)\n",
    "display(lambda1)\n",
    "display(lambda2)\n",
    "display(lambda3)"
   ]
  },
  {
   "attachments": {},
   "cell_type": "markdown",
   "metadata": {},
   "source": [
    "## Try with adding $x_1$\n",
    "\n",
    "--- \n",
    "\n",
    "We change the method of quadratization, we have $w_{0}=x_{0}^{2}-m_{0}x_{0}-m_{1}x_{1}$, then we got the new system of the ODEs:\n",
    "$$\n",
    "\\begin{cases}\n",
    "x_{0}'=x_1\\\\\n",
    "x_{1}'= kx_{0}+ax_{0}w_{0} + am_{0}x_{0}^{2} + am_{1}x_{0}x_{1} + bx_{1} \\\\ \n",
    "\\begin{aligned}\n",
    "w_{0}' = & 2x_{0}x_{0}' - m_{0}x_{0}' - m_{1}x_{1}'\\\\\n",
    "= & 2x_{0}x_{1} - m_{0}x_{1} - m_{1}(kx_{0}+ax_{0}w_{0} + am_{0}x_{0}^{2} + am_{1}x_{0}x_{1} + bx_{1})\\\\\n",
    "\n",
    "\\end{aligned}\n",
    "\\end{cases}\n",
    "$$\n",
    "Then we have $F_1$ that\n",
    "$$\n",
    "F_{1} = \\begin{bmatrix}\n",
    "0 & 1 & 0\\\\\n",
    "k & b & 0\\\\\n",
    "-m_{1} & -m_{0} & 0\n",
    "\\end{bmatrix}\n",
    "$$"
   ]
  },
  {
   "cell_type": "code",
   "execution_count": 36,
   "metadata": {},
   "outputs": [
    {
     "data": {
      "text/latex": [
       "$\\displaystyle \\left[\\begin{matrix}0 & 1 & 0\\\\k & b & 0\\\\- m_{1} & - m_{0} & 0\\end{matrix}\\right]$"
      ],
      "text/plain": [
       "⎡ 0    1   0⎤\n",
       "⎢           ⎥\n",
       "⎢ k    b   0⎥\n",
       "⎢           ⎥\n",
       "⎣-m₁  -m₀  0⎦"
      ]
     },
     "metadata": {},
     "output_type": "display_data"
    },
    {
     "data": {
      "text/latex": [
       "$\\displaystyle \\operatorname{PurePoly}{\\left( \\lambda^{3} -  b \\lambda^{2} -  k \\lambda, \\lambda, domain=\\mathbb{Z}\\left[b, k\\right] \\right)}$"
      ],
      "text/plain": [
       "PurePoly(lamda**3 - b*lamda**2 - k*lamda, lamda, domain='ZZ[b,k]')"
      ]
     },
     "metadata": {},
     "output_type": "display_data"
    },
    {
     "data": {
      "text/latex": [
       "$\\displaystyle 0$"
      ],
      "text/plain": [
       "0"
      ]
     },
     "metadata": {},
     "output_type": "display_data"
    },
    {
     "data": {
      "text/latex": [
       "$\\displaystyle \\frac{b}{2} - \\frac{\\sqrt{b^{2} + 4 k}}{2}$"
      ],
      "text/plain": [
       "       __________\n",
       "      ╱  2       \n",
       "b   ╲╱  b  + 4⋅k \n",
       "─ - ─────────────\n",
       "2         2      "
      ]
     },
     "metadata": {},
     "output_type": "display_data"
    },
    {
     "data": {
      "text/latex": [
       "$\\displaystyle \\frac{b}{2} + \\frac{\\sqrt{b^{2} + 4 k}}{2}$"
      ],
      "text/plain": [
       "       __________\n",
       "      ╱  2       \n",
       "b   ╲╱  b  + 4⋅k \n",
       "─ + ─────────────\n",
       "2         2      "
      ]
     },
     "metadata": {},
     "output_type": "display_data"
    },
    {
     "data": {
      "text/latex": [
       "$\\displaystyle \\left[\\begin{matrix}\\alpha_{1} m_{0} & \\alpha_{1} m_{1} + 1 & \\alpha_{1}\\\\k & b & 0\\\\- m_{1} & - m_{0} & 0\\end{matrix}\\right]$"
      ],
      "text/plain": [
       "⎡α₁⋅m₀  α₁⋅m₁ + 1  α₁⎤\n",
       "⎢                    ⎥\n",
       "⎢  k        b      0 ⎥\n",
       "⎢                    ⎥\n",
       "⎣ -m₁      -m₀     0 ⎦"
      ]
     },
     "metadata": {},
     "output_type": "display_data"
    },
    {
     "data": {
      "text/latex": [
       "$\\displaystyle \\operatorname{PurePoly}{\\left( \\lambda^{3} + \\left(- \\alpha_{1} m_{0} - b\\right) \\lambda^{2} + \\left(\\alpha_{1} b m_{0} - \\alpha_{1} k m_{1} + \\alpha_{1} m_{1} - k\\right) \\lambda -  \\alpha_{1} b m_{1} + \\alpha_{1} k m_{0}, \\lambda, domain=\\mathbb{Z}\\left[b, k, m_{0}, m_{1}, \\alpha_{1}\\right] \\right)}$"
      ],
      "text/plain": [
       "PurePoly(lamda**3 + (-alpha1*m0 - b)*lamda**2 + (alpha1*b*m0 - alpha1*k*m1 + a\n",
       "lpha1*m1 - k)*lamda - alpha1*b*m1 + alpha1*k*m0, lamda, domain='ZZ[b,k,m0,m1,a\n",
       "lpha1]')"
      ]
     },
     "metadata": {},
     "output_type": "display_data"
    },
    {
     "data": {
      "text/latex": [
       "$\\displaystyle \\frac{\\alpha_{1} m_{0}}{3} + \\frac{b}{3} - \\frac{- 3 \\alpha_{1} b m_{0} + 3 \\alpha_{1} k m_{1} - 3 \\alpha_{1} m_{1} + 3 k + \\left(- \\alpha_{1} m_{0} - b\\right)^{2}}{3 \\sqrt[3]{- \\frac{27 \\alpha_{1} b m_{1}}{2} + \\frac{27 \\alpha_{1} k m_{0}}{2} - \\frac{\\left(- 9 \\alpha_{1} m_{0} - 9 b\\right) \\left(\\alpha_{1} b m_{0} - \\alpha_{1} k m_{1} + \\alpha_{1} m_{1} - k\\right)}{2} + \\left(- \\alpha_{1} m_{0} - b\\right)^{3} + \\frac{\\sqrt{\\left(- 27 \\alpha_{1} b m_{1} + 27 \\alpha_{1} k m_{0} - \\left(- 9 \\alpha_{1} m_{0} - 9 b\\right) \\left(\\alpha_{1} b m_{0} - \\alpha_{1} k m_{1} + \\alpha_{1} m_{1} - k\\right) + 2 \\left(- \\alpha_{1} m_{0} - b\\right)^{3}\\right)^{2} - 4 \\left(- 3 \\alpha_{1} b m_{0} + 3 \\alpha_{1} k m_{1} - 3 \\alpha_{1} m_{1} + 3 k + \\left(- \\alpha_{1} m_{0} - b\\right)^{2}\\right)^{3}}}{2}}} - \\frac{\\sqrt[3]{- \\frac{27 \\alpha_{1} b m_{1}}{2} + \\frac{27 \\alpha_{1} k m_{0}}{2} - \\frac{\\left(- 9 \\alpha_{1} m_{0} - 9 b\\right) \\left(\\alpha_{1} b m_{0} - \\alpha_{1} k m_{1} + \\alpha_{1} m_{1} - k\\right)}{2} + \\left(- \\alpha_{1} m_{0} - b\\right)^{3} + \\frac{\\sqrt{\\left(- 27 \\alpha_{1} b m_{1} + 27 \\alpha_{1} k m_{0} - \\left(- 9 \\alpha_{1} m_{0} - 9 b\\right) \\left(\\alpha_{1} b m_{0} - \\alpha_{1} k m_{1} + \\alpha_{1} m_{1} - k\\right) + 2 \\left(- \\alpha_{1} m_{0} - b\\right)^{3}\\right)^{2} - 4 \\left(- 3 \\alpha_{1} b m_{0} + 3 \\alpha_{1} k m_{1} - 3 \\alpha_{1} m_{1} + 3 k + \\left(- \\alpha_{1} m_{0} - b\\right)^{2}\\right)^{3}}}{2}}}{3}$"
      ],
      "text/plain": [
       "                                                                              \n",
       "                                                                              \n",
       "                                                                              \n",
       "                                                                              \n",
       "                                                                              \n",
       "                                                                              \n",
       "α₁⋅m₀   b                                                                     \n",
       "───── + ─ - ──────────────────────────────────────────────────────────────────\n",
       "  3     3            _________________________________________________________\n",
       "                    ╱                                                         \n",
       "                   ╱                                                          \n",
       "                  ╱                                                           \n",
       "                 ╱      27⋅α₁⋅b⋅m₁   27⋅α₁⋅k⋅m₀   (-9⋅α₁⋅m₀ - 9⋅b)⋅(α₁⋅b⋅m₀ - \n",
       "            3⋅3 ╱     - ────────── + ────────── - ────────────────────────────\n",
       "              ╲╱            2            2                               2    \n",
       "\n",
       "                                                                              \n",
       "                                                                              \n",
       "                                                                              \n",
       "                                                                              \n",
       "                                                                              \n",
       "                                                                              \n",
       "                                          -3⋅α₁⋅b⋅m₀ + 3⋅α₁⋅k⋅m₁ - 3⋅α₁⋅m₁ + 3\n",
       "──────────────────────────────────────────────────────────────────────────────\n",
       "______________________________________________________________________________\n",
       "                                           ___________________________________\n",
       "                                          ╱                                   \n",
       "                                         ╱  ⎛                                 \n",
       "α₁⋅k⋅m₁ + α₁⋅m₁ - k)               3   ╲╱   ⎝-27⋅α₁⋅b⋅m₁ + 27⋅α₁⋅k⋅m₀ - (-9⋅α₁\n",
       "──────────────────── + (-α₁⋅m₀ - b)  + ───────────────────────────────────────\n",
       "                                                                              \n",
       "\n",
       "                                                                              \n",
       "                                                                              \n",
       "                                                                              \n",
       "                                                                              \n",
       "                                                                              \n",
       "                 2                                                            \n",
       "⋅k + (-α₁⋅m₀ - b)                                                             \n",
       "──────────────────────────────────────────────────────────────────────────────\n",
       "______________________________________________________________________________\n",
       "______________________________________________________________________________\n",
       "                                                             2                \n",
       "                                                           3⎞      ⎛          \n",
       "⋅m₀ - 9⋅b)⋅(α₁⋅b⋅m₀ - α₁⋅k⋅m₁ + α₁⋅m₁ - k) + 2⋅(-α₁⋅m₀ - b) ⎠  - 4⋅⎝-3⋅α₁⋅b⋅m₀\n",
       "──────────────────────────────────────────────────────────────────────────────\n",
       "                                          2                                   \n",
       "\n",
       "                                                          ____________________\n",
       "                                                         ╱                    \n",
       "                                                        ╱                     \n",
       "                                                       ╱                      \n",
       "                                                      ╱      27⋅α₁⋅b⋅m₁   27⋅α\n",
       "                                                   3 ╱     - ────────── + ────\n",
       "                                                   ╲╱            2            \n",
       "──────────────────────────────────────────────── - ───────────────────────────\n",
       "________________________________________________                              \n",
       "_______________________________________________                               \n",
       "                                             3                                \n",
       "                                           2⎞                                 \n",
       " + 3⋅α₁⋅k⋅m₁ - 3⋅α₁⋅m₁ + 3⋅k + (-α₁⋅m₀ - b) ⎠                                 \n",
       "───────────────────────────────────────────────                               \n",
       "                                                                              \n",
       "\n",
       "______________________________________________________________________________\n",
       "                                                                              \n",
       "                                                                              \n",
       "                                                                              \n",
       "₁⋅k⋅m₀   (-9⋅α₁⋅m₀ - 9⋅b)⋅(α₁⋅b⋅m₀ - α₁⋅k⋅m₁ + α₁⋅m₁ - k)               3   ╲╱\n",
       "────── - ──────────────────────────────────────────────── + (-α₁⋅m₀ - b)  + ──\n",
       "2                               2                                             \n",
       "──────────────────────────────────────────────────────────────────────────────\n",
       "                                                                              \n",
       "                                                                              \n",
       "                                                                              \n",
       "                                                                              \n",
       "                                                                              \n",
       "                                                                              \n",
       "                                                                              \n",
       "\n",
       "______________________________________________________________________________\n",
       "  ____________________________________________________________________________\n",
       " ╱                                                                            \n",
       "╱  ⎛                                                                          \n",
       "   ⎝-27⋅α₁⋅b⋅m₁ + 27⋅α₁⋅k⋅m₀ - (-9⋅α₁⋅m₀ - 9⋅b)⋅(α₁⋅b⋅m₀ - α₁⋅k⋅m₁ + α₁⋅m₁ - k\n",
       "──────────────────────────────────────────────────────────────────────────────\n",
       "                                                                              \n",
       "──────────────────────────────────────────────────────────────────────────────\n",
       "                            3                                                 \n",
       "                                                                              \n",
       "                                                                              \n",
       "                                                                              \n",
       "                                                                              \n",
       "                                                                              \n",
       "                                                                              \n",
       "\n",
       "______________________________________________________________________________\n",
       "______________________________________________________________________________\n",
       "                    2                                                         \n",
       "                  3⎞      ⎛                                                   \n",
       ") + 2⋅(-α₁⋅m₀ - b) ⎠  - 4⋅⎝-3⋅α₁⋅b⋅m₀ + 3⋅α₁⋅k⋅m₁ - 3⋅α₁⋅m₁ + 3⋅k + (-α₁⋅m₀ - \n",
       "──────────────────────────────────────────────────────────────────────────────\n",
       " 2                                                                            \n",
       "──────────────────────────────────────────────────────────────────────────────\n",
       "                                                                              \n",
       "                                                                              \n",
       "                                                                              \n",
       "                                                                              \n",
       "                                                                              \n",
       "                                                                              \n",
       "                                                                              \n",
       "\n",
       "_______\n",
       "______ \n",
       "    3  \n",
       "  2⎞   \n",
       "b) ⎠   \n",
       "────── \n",
       "       \n",
       "───────\n",
       "       \n",
       "       \n",
       "       \n",
       "       \n",
       "       \n",
       "       \n",
       "       "
      ]
     },
     "metadata": {},
     "output_type": "display_data"
    },
    {
     "data": {
      "text/latex": [
       "$\\displaystyle \\frac{\\alpha_{1} m_{0}}{3} + \\frac{b}{3} - \\frac{- 3 \\alpha_{1} b m_{0} + 3 \\alpha_{1} k m_{1} - 3 \\alpha_{1} m_{1} + 3 k + \\left(- \\alpha_{1} m_{0} - b\\right)^{2}}{3 \\left(- \\frac{1}{2} - \\frac{\\sqrt{3} i}{2}\\right) \\sqrt[3]{- \\frac{27 \\alpha_{1} b m_{1}}{2} + \\frac{27 \\alpha_{1} k m_{0}}{2} - \\frac{\\left(- 9 \\alpha_{1} m_{0} - 9 b\\right) \\left(\\alpha_{1} b m_{0} - \\alpha_{1} k m_{1} + \\alpha_{1} m_{1} - k\\right)}{2} + \\left(- \\alpha_{1} m_{0} - b\\right)^{3} + \\frac{\\sqrt{\\left(- 27 \\alpha_{1} b m_{1} + 27 \\alpha_{1} k m_{0} - \\left(- 9 \\alpha_{1} m_{0} - 9 b\\right) \\left(\\alpha_{1} b m_{0} - \\alpha_{1} k m_{1} + \\alpha_{1} m_{1} - k\\right) + 2 \\left(- \\alpha_{1} m_{0} - b\\right)^{3}\\right)^{2} - 4 \\left(- 3 \\alpha_{1} b m_{0} + 3 \\alpha_{1} k m_{1} - 3 \\alpha_{1} m_{1} + 3 k + \\left(- \\alpha_{1} m_{0} - b\\right)^{2}\\right)^{3}}}{2}}} - \\frac{\\left(- \\frac{1}{2} - \\frac{\\sqrt{3} i}{2}\\right) \\sqrt[3]{- \\frac{27 \\alpha_{1} b m_{1}}{2} + \\frac{27 \\alpha_{1} k m_{0}}{2} - \\frac{\\left(- 9 \\alpha_{1} m_{0} - 9 b\\right) \\left(\\alpha_{1} b m_{0} - \\alpha_{1} k m_{1} + \\alpha_{1} m_{1} - k\\right)}{2} + \\left(- \\alpha_{1} m_{0} - b\\right)^{3} + \\frac{\\sqrt{\\left(- 27 \\alpha_{1} b m_{1} + 27 \\alpha_{1} k m_{0} - \\left(- 9 \\alpha_{1} m_{0} - 9 b\\right) \\left(\\alpha_{1} b m_{0} - \\alpha_{1} k m_{1} + \\alpha_{1} m_{1} - k\\right) + 2 \\left(- \\alpha_{1} m_{0} - b\\right)^{3}\\right)^{2} - 4 \\left(- 3 \\alpha_{1} b m_{0} + 3 \\alpha_{1} k m_{1} - 3 \\alpha_{1} m_{1} + 3 k + \\left(- \\alpha_{1} m_{0} - b\\right)^{2}\\right)^{3}}}{2}}}{3}$"
      ],
      "text/plain": [
       "                                                                              \n",
       "                                                                              \n",
       "                                                                              \n",
       "                                                                              \n",
       "                                                                              \n",
       "                                                                              \n",
       "α₁⋅m₀   b                                                                     \n",
       "───── + ─ - ──────────────────────────────────────────────────────────────────\n",
       "  3     3                         ____________________________________________\n",
       "                                 ╱                                            \n",
       "                                ╱                                             \n",
       "                               ╱                                              \n",
       "              ⎛  1   √3⋅ⅈ⎞    ╱      27⋅α₁⋅b⋅m₁   27⋅α₁⋅k⋅m₀   (-9⋅α₁⋅m₀ - 9⋅b\n",
       "            3⋅⎜- ─ - ────⎟⋅3 ╱     - ────────── + ────────── - ───────────────\n",
       "              ⎝  2    2  ⎠ ╲╱            2            2                       \n",
       "\n",
       "                                                                              \n",
       "                                                                              \n",
       "                                                                              \n",
       "                                                                              \n",
       "                                                                              \n",
       "                                                                              \n",
       "                                                 -3⋅α₁⋅b⋅m₀ + 3⋅α₁⋅k⋅m₁ - 3⋅α₁\n",
       "──────────────────────────────────────────────────────────────────────────────\n",
       "______________________________________________________________________________\n",
       "                                                        ______________________\n",
       "                                                       ╱                      \n",
       "                                                      ╱  ⎛                    \n",
       ")⋅(α₁⋅b⋅m₀ - α₁⋅k⋅m₁ + α₁⋅m₁ - k)               3   ╲╱   ⎝-27⋅α₁⋅b⋅m₁ + 27⋅α₁⋅\n",
       "───────────────────────────────── + (-α₁⋅m₀ - b)  + ──────────────────────────\n",
       "        2                                                                     \n",
       "\n",
       "                                                                              \n",
       "                                                                              \n",
       "                                                                              \n",
       "                                                                              \n",
       "                                                                              \n",
       "                        2                                                     \n",
       "⋅m₁ + 3⋅k + (-α₁⋅m₀ - b)                                                      \n",
       "──────────────────────────────────────────────────────────────────────────────\n",
       "______________________________________________________________________________\n",
       "______________________________________________________________________________\n",
       "                                                                          2   \n",
       "                                                                        3⎞    \n",
       "k⋅m₀ - (-9⋅α₁⋅m₀ - 9⋅b)⋅(α₁⋅b⋅m₀ - α₁⋅k⋅m₁ + α₁⋅m₁ - k) + 2⋅(-α₁⋅m₀ - b) ⎠  - \n",
       "──────────────────────────────────────────────────────────────────────────────\n",
       "                                                       2                      \n",
       "\n",
       "                                                                              \n",
       "                                                                              \n",
       "                                                                              \n",
       "                                                                              \n",
       "                                                                ⎛  1   √3⋅ⅈ⎞  \n",
       "                                                                ⎜- ─ - ────⎟⋅3\n",
       "                                                                ⎝  2    2  ⎠ ╲\n",
       "───────────────────────────────────────────────────────────── - ──────────────\n",
       "_____________________________________________________________                 \n",
       "____________________________________________________________                  \n",
       "                                                          3                   \n",
       "  ⎛                                                     2⎞                    \n",
       "4⋅⎝-3⋅α₁⋅b⋅m₀ + 3⋅α₁⋅k⋅m₁ - 3⋅α₁⋅m₁ + 3⋅k + (-α₁⋅m₀ - b) ⎠                    \n",
       "────────────────────────────────────────────────────────────                  \n",
       "                                                                              \n",
       "\n",
       "      ________________________________________________________________________\n",
       "     ╱                                                                        \n",
       "    ╱                                                                         \n",
       "   ╱                                                                          \n",
       "  ╱      27⋅α₁⋅b⋅m₁   27⋅α₁⋅k⋅m₀   (-9⋅α₁⋅m₀ - 9⋅b)⋅(α₁⋅b⋅m₀ - α₁⋅k⋅m₁ + α₁⋅m₁\n",
       " ╱     - ────────── + ────────── - ───────────────────────────────────────────\n",
       "╱            2            2                               2                   \n",
       "──────────────────────────────────────────────────────────────────────────────\n",
       "                                                                              \n",
       "                                                                              \n",
       "                                                                              \n",
       "                                                                              \n",
       "                                                                              \n",
       "                                                                              \n",
       "                                                                              \n",
       "\n",
       "______________________________________________________________________________\n",
       "                            __________________________________________________\n",
       "                           ╱                                                  \n",
       "                          ╱  ⎛                                                \n",
       " - k)               3   ╲╱   ⎝-27⋅α₁⋅b⋅m₁ + 27⋅α₁⋅k⋅m₀ - (-9⋅α₁⋅m₀ - 9⋅b)⋅(α₁⋅\n",
       "───── + (-α₁⋅m₀ - b)  + ──────────────────────────────────────────────────────\n",
       "                                                                              \n",
       "──────────────────────────────────────────────────────────────────────────────\n",
       "                                                3                             \n",
       "                                                                              \n",
       "                                                                              \n",
       "                                                                              \n",
       "                                                                              \n",
       "                                                                              \n",
       "                                                                              \n",
       "\n",
       "______________________________________________________________________________\n",
       "______________________________________________________________________________\n",
       "                                              2                               \n",
       "                                            3⎞      ⎛                         \n",
       "b⋅m₀ - α₁⋅k⋅m₁ + α₁⋅m₁ - k) + 2⋅(-α₁⋅m₀ - b) ⎠  - 4⋅⎝-3⋅α₁⋅b⋅m₀ + 3⋅α₁⋅k⋅m₁ - \n",
       "──────────────────────────────────────────────────────────────────────────────\n",
       "                           2                                                  \n",
       "──────────────────────────────────────────────────────────────────────────────\n",
       "                                                                              \n",
       "                                                                              \n",
       "                                                                              \n",
       "                                                                              \n",
       "                                                                              \n",
       "                                                                              \n",
       "                                                                              \n",
       "\n",
       "_________________________________\n",
       "________________________________ \n",
       "                              3  \n",
       "                            2⎞   \n",
       "3⋅α₁⋅m₁ + 3⋅k + (-α₁⋅m₀ - b) ⎠   \n",
       "──────────────────────────────── \n",
       "                                 \n",
       "─────────────────────────────────\n",
       "                                 \n",
       "                                 \n",
       "                                 \n",
       "                                 \n",
       "                                 \n",
       "                                 \n",
       "                                 "
      ]
     },
     "metadata": {},
     "output_type": "display_data"
    },
    {
     "data": {
      "text/latex": [
       "$\\displaystyle \\frac{\\alpha_{1} m_{0}}{3} + \\frac{b}{3} - \\frac{- 3 \\alpha_{1} b m_{0} + 3 \\alpha_{1} k m_{1} - 3 \\alpha_{1} m_{1} + 3 k + \\left(- \\alpha_{1} m_{0} - b\\right)^{2}}{3 \\left(- \\frac{1}{2} + \\frac{\\sqrt{3} i}{2}\\right) \\sqrt[3]{- \\frac{27 \\alpha_{1} b m_{1}}{2} + \\frac{27 \\alpha_{1} k m_{0}}{2} - \\frac{\\left(- 9 \\alpha_{1} m_{0} - 9 b\\right) \\left(\\alpha_{1} b m_{0} - \\alpha_{1} k m_{1} + \\alpha_{1} m_{1} - k\\right)}{2} + \\left(- \\alpha_{1} m_{0} - b\\right)^{3} + \\frac{\\sqrt{\\left(- 27 \\alpha_{1} b m_{1} + 27 \\alpha_{1} k m_{0} - \\left(- 9 \\alpha_{1} m_{0} - 9 b\\right) \\left(\\alpha_{1} b m_{0} - \\alpha_{1} k m_{1} + \\alpha_{1} m_{1} - k\\right) + 2 \\left(- \\alpha_{1} m_{0} - b\\right)^{3}\\right)^{2} - 4 \\left(- 3 \\alpha_{1} b m_{0} + 3 \\alpha_{1} k m_{1} - 3 \\alpha_{1} m_{1} + 3 k + \\left(- \\alpha_{1} m_{0} - b\\right)^{2}\\right)^{3}}}{2}}} - \\frac{\\left(- \\frac{1}{2} + \\frac{\\sqrt{3} i}{2}\\right) \\sqrt[3]{- \\frac{27 \\alpha_{1} b m_{1}}{2} + \\frac{27 \\alpha_{1} k m_{0}}{2} - \\frac{\\left(- 9 \\alpha_{1} m_{0} - 9 b\\right) \\left(\\alpha_{1} b m_{0} - \\alpha_{1} k m_{1} + \\alpha_{1} m_{1} - k\\right)}{2} + \\left(- \\alpha_{1} m_{0} - b\\right)^{3} + \\frac{\\sqrt{\\left(- 27 \\alpha_{1} b m_{1} + 27 \\alpha_{1} k m_{0} - \\left(- 9 \\alpha_{1} m_{0} - 9 b\\right) \\left(\\alpha_{1} b m_{0} - \\alpha_{1} k m_{1} + \\alpha_{1} m_{1} - k\\right) + 2 \\left(- \\alpha_{1} m_{0} - b\\right)^{3}\\right)^{2} - 4 \\left(- 3 \\alpha_{1} b m_{0} + 3 \\alpha_{1} k m_{1} - 3 \\alpha_{1} m_{1} + 3 k + \\left(- \\alpha_{1} m_{0} - b\\right)^{2}\\right)^{3}}}{2}}}{3}$"
      ],
      "text/plain": [
       "                                                                              \n",
       "                                                                              \n",
       "                                                                              \n",
       "                                                                              \n",
       "                                                                              \n",
       "                                                                              \n",
       "α₁⋅m₀   b                                                                     \n",
       "───── + ─ - ──────────────────────────────────────────────────────────────────\n",
       "  3     3                         ____________________________________________\n",
       "                                 ╱                                            \n",
       "                                ╱                                             \n",
       "                               ╱                                              \n",
       "              ⎛  1   √3⋅ⅈ⎞    ╱      27⋅α₁⋅b⋅m₁   27⋅α₁⋅k⋅m₀   (-9⋅α₁⋅m₀ - 9⋅b\n",
       "            3⋅⎜- ─ + ────⎟⋅3 ╱     - ────────── + ────────── - ───────────────\n",
       "              ⎝  2    2  ⎠ ╲╱            2            2                       \n",
       "\n",
       "                                                                              \n",
       "                                                                              \n",
       "                                                                              \n",
       "                                                                              \n",
       "                                                                              \n",
       "                                                                              \n",
       "                                                 -3⋅α₁⋅b⋅m₀ + 3⋅α₁⋅k⋅m₁ - 3⋅α₁\n",
       "──────────────────────────────────────────────────────────────────────────────\n",
       "______________________________________________________________________________\n",
       "                                                        ______________________\n",
       "                                                       ╱                      \n",
       "                                                      ╱  ⎛                    \n",
       ")⋅(α₁⋅b⋅m₀ - α₁⋅k⋅m₁ + α₁⋅m₁ - k)               3   ╲╱   ⎝-27⋅α₁⋅b⋅m₁ + 27⋅α₁⋅\n",
       "───────────────────────────────── + (-α₁⋅m₀ - b)  + ──────────────────────────\n",
       "        2                                                                     \n",
       "\n",
       "                                                                              \n",
       "                                                                              \n",
       "                                                                              \n",
       "                                                                              \n",
       "                                                                              \n",
       "                        2                                                     \n",
       "⋅m₁ + 3⋅k + (-α₁⋅m₀ - b)                                                      \n",
       "──────────────────────────────────────────────────────────────────────────────\n",
       "______________________________________________________________________________\n",
       "______________________________________________________________________________\n",
       "                                                                          2   \n",
       "                                                                        3⎞    \n",
       "k⋅m₀ - (-9⋅α₁⋅m₀ - 9⋅b)⋅(α₁⋅b⋅m₀ - α₁⋅k⋅m₁ + α₁⋅m₁ - k) + 2⋅(-α₁⋅m₀ - b) ⎠  - \n",
       "──────────────────────────────────────────────────────────────────────────────\n",
       "                                                       2                      \n",
       "\n",
       "                                                                              \n",
       "                                                                              \n",
       "                                                                              \n",
       "                                                                              \n",
       "                                                                ⎛  1   √3⋅ⅈ⎞  \n",
       "                                                                ⎜- ─ + ────⎟⋅3\n",
       "                                                                ⎝  2    2  ⎠ ╲\n",
       "───────────────────────────────────────────────────────────── - ──────────────\n",
       "_____________________________________________________________                 \n",
       "____________________________________________________________                  \n",
       "                                                          3                   \n",
       "  ⎛                                                     2⎞                    \n",
       "4⋅⎝-3⋅α₁⋅b⋅m₀ + 3⋅α₁⋅k⋅m₁ - 3⋅α₁⋅m₁ + 3⋅k + (-α₁⋅m₀ - b) ⎠                    \n",
       "────────────────────────────────────────────────────────────                  \n",
       "                                                                              \n",
       "\n",
       "      ________________________________________________________________________\n",
       "     ╱                                                                        \n",
       "    ╱                                                                         \n",
       "   ╱                                                                          \n",
       "  ╱      27⋅α₁⋅b⋅m₁   27⋅α₁⋅k⋅m₀   (-9⋅α₁⋅m₀ - 9⋅b)⋅(α₁⋅b⋅m₀ - α₁⋅k⋅m₁ + α₁⋅m₁\n",
       " ╱     - ────────── + ────────── - ───────────────────────────────────────────\n",
       "╱            2            2                               2                   \n",
       "──────────────────────────────────────────────────────────────────────────────\n",
       "                                                                              \n",
       "                                                                              \n",
       "                                                                              \n",
       "                                                                              \n",
       "                                                                              \n",
       "                                                                              \n",
       "                                                                              \n",
       "\n",
       "______________________________________________________________________________\n",
       "                            __________________________________________________\n",
       "                           ╱                                                  \n",
       "                          ╱  ⎛                                                \n",
       " - k)               3   ╲╱   ⎝-27⋅α₁⋅b⋅m₁ + 27⋅α₁⋅k⋅m₀ - (-9⋅α₁⋅m₀ - 9⋅b)⋅(α₁⋅\n",
       "───── + (-α₁⋅m₀ - b)  + ──────────────────────────────────────────────────────\n",
       "                                                                              \n",
       "──────────────────────────────────────────────────────────────────────────────\n",
       "                                                3                             \n",
       "                                                                              \n",
       "                                                                              \n",
       "                                                                              \n",
       "                                                                              \n",
       "                                                                              \n",
       "                                                                              \n",
       "\n",
       "______________________________________________________________________________\n",
       "______________________________________________________________________________\n",
       "                                              2                               \n",
       "                                            3⎞      ⎛                         \n",
       "b⋅m₀ - α₁⋅k⋅m₁ + α₁⋅m₁ - k) + 2⋅(-α₁⋅m₀ - b) ⎠  - 4⋅⎝-3⋅α₁⋅b⋅m₀ + 3⋅α₁⋅k⋅m₁ - \n",
       "──────────────────────────────────────────────────────────────────────────────\n",
       "                           2                                                  \n",
       "──────────────────────────────────────────────────────────────────────────────\n",
       "                                                                              \n",
       "                                                                              \n",
       "                                                                              \n",
       "                                                                              \n",
       "                                                                              \n",
       "                                                                              \n",
       "                                                                              \n",
       "\n",
       "_________________________________\n",
       "________________________________ \n",
       "                              3  \n",
       "                            2⎞   \n",
       "3⋅α₁⋅m₁ + 3⋅k + (-α₁⋅m₀ - b) ⎠   \n",
       "──────────────────────────────── \n",
       "                                 \n",
       "─────────────────────────────────\n",
       "                                 \n",
       "                                 \n",
       "                                 \n",
       "                                 \n",
       "                                 \n",
       "                                 \n",
       "                                 "
      ]
     },
     "metadata": {},
     "output_type": "display_data"
    }
   ],
   "source": [
    "F = sym.Matrix([[0, 1, 0], [k, b, 0], [-m1, -m0, 0]])\n",
    "display(F)\n",
    "p, lambda1, lambda2, lambda3 = eigenvalue_solver(F)\n",
    "display(p)\n",
    "\n",
    "# solve the eigenvalue problem\n",
    "roots = sym.solve(p, lamda)\n",
    "display(roots[0])\n",
    "display(roots[1])\n",
    "display(roots[2])\n",
    "\n",
    "alpha1_mat = alpha1 * sym.Matrix([[m0, m1, 1], [0, 0, 0], [0, 0, 0]])\n",
    "alpha2_mat = alpha2 * sym.Matrix([[0, 0, 0], [m0, m1, 1], [0, 0, 0]])\n",
    "alpha3_mat = alpha3 * sym.Matrix([[0, 0, 0], [0, 0, 0], [m0, m1, 1]])\n",
    "F = F + alpha1_mat \n",
    "display(F)\n",
    "p, lambda1, lambda2, lambda3 = eigenvalue_solver(F)\n",
    "display(p)\n",
    "\n",
    "# solve the eigenvalue problem\n",
    "roots = sym.solve(p, lamda)\n",
    "display(roots[0])\n",
    "display(roots[1])\n",
    "display(roots[2])"
   ]
  }
 ],
 "metadata": {
  "kernelspec": {
   "display_name": "base",
   "language": "python",
   "name": "python3"
  },
  "language_info": {
   "codemirror_mode": {
    "name": "ipython",
    "version": 3
   },
   "file_extension": ".py",
   "mimetype": "text/x-python",
   "name": "python",
   "nbconvert_exporter": "python",
   "pygments_lexer": "ipython3",
   "version": "3.9.7"
  },
  "orig_nbformat": 4
 },
 "nbformat": 4,
 "nbformat_minor": 2
}
